{
 "cells": [
  {
   "cell_type": "code",
   "execution_count": 81,
   "metadata": {
    "collapsed": true
   },
   "outputs": [],
   "source": [
    "import pickle\n",
    "import datetime\n",
    "\n",
    "import torch\n",
    "import torch.nn.functional as F\n",
    "from torch.autograd import Variable\n",
    "from torch.utils.data import DataLoader\n",
    "\n",
    "import numpy as np\n",
    "import seaborn\n",
    "import pandas as pd\n",
    "from scipy.stats import norm\n",
    "import matplotlib.pyplot as plt\n",
    "import matplotlib.pyplot as plt\n",
    "import matplotlib.patches as mpatches\n",
    "from tensorboard import SummaryWriter"
   ]
  },
  {
   "cell_type": "markdown",
   "metadata": {},
   "source": [
    "# Data loading\n",
    "- Load csv into three separate pytorch \"DataLoader\"s, train, validation, and test."
   ]
  },
  {
   "cell_type": "code",
   "execution_count": 7,
   "metadata": {
    "collapsed": true,
    "scrolled": false
   },
   "outputs": [],
   "source": [
    "dataset_ = pd.read_csv('./oracle_data.csv')\n",
    "\n",
    "# Pick out data only where object pose changed\n",
    "changed_inds = (dataset_['y_0'] != dataset_['y\\'_0']) | (dataset_['y_1'] != dataset_['y\\'_1']) | (dataset_['y_2'] != dataset_['y\\'_2'])\n",
    "dataset_ = dataset_[changed_inds]\n",
    "dataset = dataset_.copy()\n",
    "\n",
    "# Ignore robot successor state\n",
    "dataset = dataset[[c for c in dataset.columns if 'x\\'' not in c]]\n",
    "\n",
    "# robot relative position\n",
    "object_pos = dataset[[c for c in dataset.columns if 'y_' in c]]\n",
    "for i in range(2):\n",
    "    dataset.loc[:, 'x_{}'.format(i)] -= dataset['y_{}'.format(i)].values\n",
    "# relative object change\n",
    "for i in range(3):\n",
    "    dataset.loc[:, 'y\\'_{}'.format(i)] -= dataset['y_{}'.format(i)].values\n",
    "# drop initial object x, y\n",
    "dataset = dataset[[c for c in dataset.columns if c not in ['y_0', 'y_1']]]\n",
    "\n",
    "# Remake angles θ to cos(θ), sin(θ). Redo as more automatically?\n",
    "angles = dataset['x_2'].copy()\n",
    "dataset['x_2'] = angles.apply('cos')\n",
    "dataset['x_3'] = angles.apply('sin')\n",
    "angles = dataset['y_2'].copy()\n",
    "dataset['y_2'] = angles.apply('cos')\n",
    "dataset['y_3'] = angles.apply('sin')\n",
    "angles = dataset['y\\'_2'].copy()\n",
    "dataset['y\\'_2'] = angles.apply('cos')\n",
    "dataset['y\\'_3'] = angles.apply('sin')\n",
    "\n",
    "dataset = dataset[['x_0', 'x_1', 'x_2', 'x_3', 'y_2', 'y_3', 'y\\'_0', 'y\\'_1', 'y\\'_2', 'y\\'_3',\n",
    "                   'u_0', 'u_1', 'u_2', 'u_3', 'u_4']]\n",
    "\n",
    "# Decide where to split in training/validation/test\n",
    "train_cut = int(len(dataset) * 0.9)\n",
    "valid_cut = train_cut + int(len(dataset) * 0.05)\n",
    "dataset_train_ = dataset[:train_cut]\n",
    "dataset_val_ = dataset[train_cut:valid_cut]\n",
    "dataset_test_ = dataset[valid_cut:]\n",
    "\n",
    "# Normalize by training set statistics\n",
    "training_µ = dataset_train_.mean()\n",
    "training_σ = dataset_train_.std()\n",
    "dataset_train = (dataset_train_ - training_µ) / training_σ\n",
    "dataset_val = (dataset_train_ - training_µ) / training_σ\n",
    "dataset_test = (dataset_train_ - training_µ) / training_σ\n",
    "\n",
    "def get_dataloader(dataset, batch_size=32):\n",
    "    X = dataset[[name for name in dataset.columns if not name.startswith('u')]]\n",
    "    Y = dataset[[name for name in dataset.columns if name.startswith('u')]]\n",
    "    return DataLoader(\n",
    "        list(zip(X.as_matrix().astype(np.float32), Y.as_matrix().astype(np.float32))),\n",
    "        batch_size=batch_size,\n",
    "        shuffle=True\n",
    "    )\n",
    "\n",
    "dataloader_train = get_dataloader(dataset_train)\n",
    "dataloader_val = get_dataloader(dataset_val, batch_size=128)\n",
    "dataloader_test = get_dataloader(dataset_test, batch_size=128)"
   ]
  },
  {
   "cell_type": "code",
   "execution_count": 8,
   "metadata": {},
   "outputs": [
    {
     "data": {
      "text/plain": [
       "(10, 5)"
      ]
     },
     "execution_count": 8,
     "metadata": {},
     "output_type": "execute_result"
    }
   ],
   "source": [
    "# redo same step to get input/output dimensions\n",
    "X = dataset[[name for name in dataset.columns if not name.startswith('u')]]\n",
    "Y = dataset[[name for name in dataset.columns if name.startswith('u')]]\n",
    "x_size = len(X.columns)\n",
    "y_size = len(Y.columns)\n",
    "x_size, y_size"
   ]
  },
  {
   "cell_type": "markdown",
   "metadata": {},
   "source": [
    "# Define models\n",
    "- Separate mean and variance models, for stability\n",
    "- MSE loss for the mean, gaussian log likelihood for the variance"
   ]
  },
  {
   "cell_type": "code",
   "execution_count": 13,
   "metadata": {},
   "outputs": [],
   "source": [
    "def n_fn(k):\n",
    "    return int(k * (1 + k) / 2)\n",
    "\n",
    "\n",
    "def k_fn(n):\n",
    "    return int(-0.5 + (0.25 + 2 * n) ** 0.5)\n",
    "\n",
    "\n",
    "hidden_size = 256\n",
    "n_residual_units = 3\n",
    "n_cholesky_entries = n_fn(y_size)\n",
    "\n",
    "\n",
    "class CovarianceCholesky(torch.nn.Module):\n",
    "\n",
    "    def __init__(self, n_features):\n",
    "        super(CovarianceCholesky, self).__init__()\n",
    "        self.k = n_features\n",
    "        self.n = int(self.k * (1 + self.k) / 2)\n",
    "        self.row_inds = []\n",
    "        self.col_inds = []\n",
    "        self.diagonal_inds = list(range(self.k))\n",
    "        for i in range(1, self.k):\n",
    "            for j in range(i):\n",
    "                self.row_inds.append(i)\n",
    "                self.col_inds.append(j)\n",
    "\n",
    "    def forward(self, x):\n",
    "        n = x.size(1)\n",
    "        k = int(-0.5 + (0.25 + 2 * n) ** 0.5)\n",
    "        y = Variable(torch.zeros(x.size(0), k, k))\n",
    "        if x.data.is_cuda:\n",
    "            y = y.cuda()\n",
    "        y[:, self.row_inds, self.col_inds] = x[:, :n - k]\n",
    "        y[:, self.diagonal_inds, self.diagonal_inds] = F.softplus(x[:, n - k:])\n",
    "        return y\n",
    "\n",
    "class Residual(torch.nn.Module):\n",
    "    \n",
    "    def __init__(self, num_features):\n",
    "        super(Residual, self).__init__()\n",
    "        self.bn1 = torch.nn.BatchNorm1d(num_features)\n",
    "        self.fc1 = torch.nn.Linear(num_features, num_features)\n",
    "        self.bn2 = torch.nn.BatchNorm1d(num_features)\n",
    "        self.fc2 = torch.nn.Linear(num_features, num_features)\n",
    "        \n",
    "    def forward(self, x):\n",
    "        a = self.fc1(F.relu(self.bn1(x)))\n",
    "        b = self.fc2(F.relu(self.bn2(a)))\n",
    "        return b + x\n",
    "    \n",
    "\n",
    "mean_model = torch.nn.Sequential(\n",
    "    torch.nn.Linear(x_size, hidden_size),\n",
    "    *[Residual(hidden_size) for _ in range(n_residual_units)],\n",
    "    torch.nn.Linear(hidden_size, y_size)\n",
    ").cuda()\n",
    "\n",
    "var_model = torch.nn.Sequential(\n",
    "    torch.nn.Linear(x_size, hidden_size),\n",
    "    *[Residual(hidden_size) for _ in range(n_residual_units)],\n",
    "    torch.nn.Linear(hidden_size, y_size),\n",
    "    torch.nn.Softplus()\n",
    ").cuda()"
   ]
  },
  {
   "cell_type": "markdown",
   "metadata": {},
   "source": [
    "## Loss and optimizers"
   ]
  },
  {
   "cell_type": "code",
   "execution_count": 16,
   "metadata": {
    "collapsed": true
   },
   "outputs": [],
   "source": [
    "def gaussian_likelihood():\n",
    "    def f(µ, σ, y):\n",
    "        return (torch.log(σ) + 0.5 * (µ - y) * (µ - y) / (σ ** 2)).sum()\n",
    "    return f\n",
    "\n",
    "def multivariate_gaussian_likelihood(µ, L, y):\n",
    "    \"\"\"(Average) Negative log-likelihood of a multivariate gaussian.\n",
    "    \n",
    "    Notation below:\n",
    "    n = Number of samples\n",
    "    k = Dimensionality of gaussian variables\n",
    "\n",
    "    µ : Variable, dimensions: (n, k)\n",
    "    L : Lower triangular cholesky decomposition of the covariance matrices, that is LL' = Σ\n",
    "        dimensions: (n, k, k)\n",
    "    y : Variable, dimensions: (n, k)\n",
    "    \"\"\"\n",
    "    n, k = µ.size()\n",
    "    nll = Variable(torch.zeros(1))\n",
    "    if µ.data.is_cuda:\n",
    "        nll = nll.cuda()\n",
    "    for i in range(n):\n",
    "        l = L[i, :, :]\n",
    "        L_inv = torch.inverse(l)\n",
    "        Σ_inv = L_inv.transpose(0, 1) @ L_inv\n",
    "        d = y[i:i + 1, :] - µ[i:i + 1, :]\n",
    "        logdet = 2 * torch.log(l.diag()).sum()\n",
    "        nll += 0.5 * (\n",
    "            logdet +\n",
    "            (d @ Σ_inv @ d.transpose(0, 1)).sum() +\n",
    "            k * np.log(2 * np.pi)\n",
    "        )\n",
    "    return nll / n\n",
    "\n",
    "mean_loss_fn = torch.nn.MSELoss()\n",
    "mean_optim = torch.optim.Adam(mean_model.parameters(), weight_decay=1e-4)\n",
    "var_loss_fn = gaussian_likelihood()\n",
    "var_optim = torch.optim.Adam(var_model.parameters(), weight_decay=1e-4)\n",
    "\n",
    "time_str = datetime.datetime.now().strftime('%H:%M')\n",
    "logger_train = SummaryWriter('runs/resid-6-hidden-256-wd-1e-4-time-{}-relative-train'.format(time_str))\n",
    "logger_valid = SummaryWriter('runs/resid-6-hidden-256-wd-1e-4-time-{}-relative-valid'.format(time_str))"
   ]
  },
  {
   "cell_type": "code",
   "execution_count": 66,
   "metadata": {},
   "outputs": [
    {
     "ename": "KeyboardInterrupt",
     "evalue": "",
     "output_type": "error",
     "traceback": [
      "\u001b[0;31m---------------------------------------------------------------------------\u001b[0m",
      "\u001b[0;31mKeyboardInterrupt\u001b[0m                         Traceback (most recent call last)",
      "\u001b[0;32m<ipython-input-66-85c2e416c345>\u001b[0m in \u001b[0;36m<module>\u001b[0;34m()\u001b[0m\n\u001b[1;32m     16\u001b[0m         \u001b[0mmse\u001b[0m \u001b[0;34m=\u001b[0m \u001b[0mmean_loss_fn\u001b[0m\u001b[0;34m(\u001b[0m\u001b[0mY_mean_pred\u001b[0m\u001b[0;34m,\u001b[0m \u001b[0mY\u001b[0m\u001b[0;34m)\u001b[0m\u001b[0;34m\u001b[0m\u001b[0m\n\u001b[1;32m     17\u001b[0m         \u001b[0mmse\u001b[0m\u001b[0;34m.\u001b[0m\u001b[0mbackward\u001b[0m\u001b[0;34m(\u001b[0m\u001b[0mretain_graph\u001b[0m\u001b[0;34m=\u001b[0m\u001b[0;32mTrue\u001b[0m\u001b[0;34m)\u001b[0m\u001b[0;34m\u001b[0m\u001b[0m\n\u001b[0;32m---> 18\u001b[0;31m         \u001b[0mmean_optim\u001b[0m\u001b[0;34m.\u001b[0m\u001b[0mstep\u001b[0m\u001b[0;34m(\u001b[0m\u001b[0;34m)\u001b[0m\u001b[0;34m\u001b[0m\u001b[0m\n\u001b[0m\u001b[1;32m     19\u001b[0m \u001b[0;34m\u001b[0m\u001b[0m\n\u001b[1;32m     20\u001b[0m         \u001b[0mnll\u001b[0m \u001b[0;34m=\u001b[0m \u001b[0mvar_loss_fn\u001b[0m\u001b[0;34m(\u001b[0m\u001b[0mY_mean_pred\u001b[0m\u001b[0;34m,\u001b[0m \u001b[0mY_var_pred\u001b[0m\u001b[0;34m,\u001b[0m \u001b[0mY\u001b[0m\u001b[0;34m)\u001b[0m\u001b[0;34m\u001b[0m\u001b[0m\n",
      "\u001b[0;32m~/workspace/pytorch/torch/optim/adam.py\u001b[0m in \u001b[0;36mstep\u001b[0;34m(self, closure)\u001b[0m\n\u001b[1;32m     66\u001b[0m                 \u001b[0mexp_avg_sq\u001b[0m\u001b[0;34m.\u001b[0m\u001b[0mmul_\u001b[0m\u001b[0;34m(\u001b[0m\u001b[0mbeta2\u001b[0m\u001b[0;34m)\u001b[0m\u001b[0;34m.\u001b[0m\u001b[0maddcmul_\u001b[0m\u001b[0;34m(\u001b[0m\u001b[0;36m1\u001b[0m \u001b[0;34m-\u001b[0m \u001b[0mbeta2\u001b[0m\u001b[0;34m,\u001b[0m \u001b[0mgrad\u001b[0m\u001b[0;34m,\u001b[0m \u001b[0mgrad\u001b[0m\u001b[0;34m)\u001b[0m\u001b[0;34m\u001b[0m\u001b[0m\n\u001b[1;32m     67\u001b[0m \u001b[0;34m\u001b[0m\u001b[0m\n\u001b[0;32m---> 68\u001b[0;31m                 \u001b[0mdenom\u001b[0m \u001b[0;34m=\u001b[0m \u001b[0mexp_avg_sq\u001b[0m\u001b[0;34m.\u001b[0m\u001b[0msqrt\u001b[0m\u001b[0;34m(\u001b[0m\u001b[0;34m)\u001b[0m\u001b[0;34m.\u001b[0m\u001b[0madd_\u001b[0m\u001b[0;34m(\u001b[0m\u001b[0mgroup\u001b[0m\u001b[0;34m[\u001b[0m\u001b[0;34m'eps'\u001b[0m\u001b[0;34m]\u001b[0m\u001b[0;34m)\u001b[0m\u001b[0;34m\u001b[0m\u001b[0m\n\u001b[0m\u001b[1;32m     69\u001b[0m \u001b[0;34m\u001b[0m\u001b[0m\n\u001b[1;32m     70\u001b[0m                 \u001b[0mbias_correction1\u001b[0m \u001b[0;34m=\u001b[0m \u001b[0;36m1\u001b[0m \u001b[0;34m-\u001b[0m \u001b[0mbeta1\u001b[0m \u001b[0;34m**\u001b[0m \u001b[0mstate\u001b[0m\u001b[0;34m[\u001b[0m\u001b[0;34m'step'\u001b[0m\u001b[0;34m]\u001b[0m\u001b[0;34m\u001b[0m\u001b[0m\n",
      "\u001b[0;31mKeyboardInterrupt\u001b[0m: "
     ]
    }
   ],
   "source": [
    "#best_val = np.inf\n",
    "#best_mean_model = None\n",
    "#best_var_model = None\n",
    "#step = 0\n",
    "for _ in range(1024):\n",
    "    for batch in dataloader_train:\n",
    "        mean_model.train()\n",
    "        var_model.train()\n",
    "        X, Y = map(lambda x: torch.autograd.Variable(x.cuda()), batch)\n",
    "        Y_mean_pred = mean_model(X)\n",
    "        Y_var_pred = var_model(X)\n",
    "\n",
    "        mean_model.zero_grad()\n",
    "        var_model.zero_grad()\n",
    "\n",
    "        mse = mean_loss_fn(Y_mean_pred, Y)\n",
    "        mse.backward(retain_graph=True)\n",
    "        mean_optim.step()\n",
    "\n",
    "        nll = var_loss_fn(Y_mean_pred, Y_var_pred, Y)\n",
    "        nll.backward()\n",
    "        var_optim.step()\n",
    "\n",
    "        if step % 500 == 0:\n",
    "            logger_train.add_scalar('mse', mse.cpu().data.numpy()[0], step)\n",
    "            logger_train.add_scalar('nll', nll.cpu().data.numpy()[0], step)\n",
    "            \n",
    "            mean_model.eval()\n",
    "            var_model.eval()\n",
    "            val_batch = next(iter(dataloader_val))\n",
    "            X, Y = map(lambda x: torch.autograd.Variable(x.cuda()), val_batch)\n",
    "            Y_mean_pred = mean_model(X)\n",
    "            Y_var_pred = var_model(X)\n",
    "\n",
    "            mse_val = mean_loss_fn(Y_mean_pred, Y)\n",
    "            nll_val = var_loss_fn(Y_mean_pred, Y_var_pred, Y).cpu().data.numpy()[0]\n",
    "            \n",
    "            logger_valid.add_scalar('mse', mse_val.cpu().data.numpy()[0], step)\n",
    "            logger_valid.add_scalar('nll', nll_val, step)\n",
    "            \n",
    "            if nll_val < best_val:\n",
    "                best_val = nll_val\n",
    "                best_mean_model = mean_model.state_dict()\n",
    "                best_var_model = var_model.state_dict()\n",
    "\n",
    "        step += 1"
   ]
  },
  {
   "cell_type": "code",
   "execution_count": 67,
   "metadata": {
    "scrolled": false
   },
   "outputs": [
    {
     "data": {
      "image/png": "[encoded data removed]",
      "text/plain": [
       "<matplotlib.figure.Figure at 0x7f469f147b00>"
      ]
     },
     "metadata": {},
     "output_type": "display_data"
    }
   ],
   "source": [
    "mean_model.load_state_dict(best_mean_model)\n",
    "var_model.load_state_dict(best_var_model)\n",
    "mean_model.eval()\n",
    "var_model.eval()\n",
    "val_batch = next(iter(dataloader_val))\n",
    "X, Y = map(lambda x: torch.autograd.Variable(x.cuda()), val_batch)\n",
    "Y_mean_pred = mean_model(X)\n",
    "Y_var_pred = var_model(X)\n",
    "e = (Y_mean_pred - Y).cpu().data.numpy().flatten()\n",
    "ts = np.linspace(-4, 4, 400)\n",
    "handle_normal, = plt.plot(ts, 70 * norm.pdf(ts), alpha=1.0, label='$\\mathcal{N}(0, 1)$', linewidth=1.0)\n",
    "handle_normal2, = plt.plot(ts, 70 * norm.pdf(ts, loc=0, scale=1 / 5.0), alpha=1.0, color='blue', label='$\\mathcal{N}(0, 0.2^2)$', linewidth=1.0)\n",
    "error_handle = mpatches.Patch(color='orange', label='$µ(x) - y$')\n",
    "out = plt.hist(e, bins=np.linspace(-4, 4, 100), color='orange')\n",
    "plt.title('Error distribution on validation set')\n",
    "plt.legend(handles=[handle_normal, handle_normal2, error_handle])\n",
    "#plt.savefig('error_distribution.pdf')\n",
    "plt.show()"
   ]
  },
  {
   "cell_type": "code",
   "execution_count": 22,
   "metadata": {
    "collapsed": true
   },
   "outputs": [],
   "source": [
    "float_formatter = lambda x: \"%.4f\" % x\n",
    "np.set_printoptions(formatter={'float_kind':float_formatter})"
   ]
  },
  {
   "cell_type": "code",
   "execution_count": 80,
   "metadata": {
    "scrolled": false
   },
   "outputs": [
    {
     "data": {
      "text/plain": [
       "(Variable containing:\n",
       " 1.00000e-03 *\n",
       "   1.4194\n",
       "  -8.6644\n",
       " [torch.cuda.FloatTensor of size 2 (GPU 0)],\n",
       " array([-0.1361, 0.1044, 0.0300, 0.5658, 0.3770]),\n",
       " array([-0.6648, 1.6073, -1.4567, 0.9170, 0.0200]),\n",
       " array([1.1253, 1.1295, 0.8637, 0.2488, 0.4508]))"
      ]
     },
     "execution_count": 80,
     "metadata": {},
     "output_type": "execute_result"
    }
   ],
   "source": [
    "val_batch = next(iter(dataloader_val))\n",
    "X, Y = map(lambda x: torch.autograd.Variable(x.cuda()), val_batch)\n",
    "Y_mean_pred = mean_model(X).cpu().data.numpy()\n",
    "Y_var_pred = var_model(X).cpu().data.numpy()\n",
    "mean_pred = Y_mean_pred * training_σ.values[-5:] + training_μ.values[-5:]\n",
    "std_pred = Y_var_pred * training_σ.values[-5:]\n",
    "y_true = Y.cpu().data.numpy() * training_σ.values[-5:] + training_µ.values[-5:]\n",
    "X[0, 6:8], mean_pred[0], y_true[0], std_pred[0]"
   ]
  },
  {
   "cell_type": "code",
   "execution_count": 82,
   "metadata": {},
   "outputs": [],
   "source": [
    "#with open('oracle-3-units-256-hidden-mean.pkl', 'wb') as f:\n",
    "#    pickle.dump(mean_model.state_dict(), f)"
   ]
  }
 ],
 "metadata": {
  "kernelspec": {
   "display_name": "Python 3",
   "language": "python",
   "name": "python3"
  },
  "language_info": {
   "codemirror_mode": {
    "name": "ipython",
    "version": 3
   },
   "file_extension": ".py",
   "mimetype": "text/x-python",
   "name": "python",
   "nbconvert_exporter": "python",
   "pygments_lexer": "ipython3",
   "version": "3.5.2"
  }
 },
 "nbformat": 4,
 "nbformat_minor": 2
}
