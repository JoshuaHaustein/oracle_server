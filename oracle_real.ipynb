{
 "cells": [
  {
   "cell_type": "code",
   "execution_count": 1,
   "metadata": {},
   "outputs": [],
   "source": [
    "import pickle\n",
    "import datetime\n",
    "\n",
    "import torch\n",
    "import torch.nn.functional as F\n",
    "from torch.autograd import Variable\n",
    "from torch.utils.data import DataLoader\n",
    "\n",
    "import numpy as np\n",
    "import pandas as pd\n",
    "from scipy.stats import norm\n",
    "import matplotlib.pyplot as plt\n",
    "import matplotlib.pyplot as plt\n",
    "import matplotlib.patches as mpatches\n",
    "from matplotlib.colors import hsv_to_rgb\n",
    "from tensorboardX import SummaryWriter\n",
    "from scipy.stats import multivariate_normal\n",
    "\n",
    "from helpers import PushingDataset"
   ]
  },
  {
   "cell_type": "markdown",
   "metadata": {},
   "source": [
    "# Data loading\n",
    "- Load csv into three separate pytorch \"DataLoader\"s, train, validation, and test."
   ]
  },
  {
   "cell_type": "code",
   "execution_count": 2,
   "metadata": {},
   "outputs": [],
   "source": [
    "def plot_transition(d, rotate=False):\n",
    "    \n",
    "    if rotate:\n",
    "        d = d.copy()\n",
    "        \n",
    "        # translate\n",
    "        dx, dy = d[['y0', 'y1']]\n",
    "        d[['x0', 'y0', 'y_0']] -= dx\n",
    "        d[['x1', 'y1', 'y_1']] -= dy\n",
    "        \n",
    "        # rotate\n",
    "        θ = -d['y2']\n",
    "        for prefix in ['x', 'x_', 'y_', 'u', 'y']:\n",
    "            x = d[prefix + '0'].copy()\n",
    "            y = d[prefix + '1'].copy()\n",
    "            d[prefix + '0'] = np.cos(θ) * x - np.sin(θ) * y\n",
    "            d[prefix + '1'] = np.sin(θ) * x + np.cos(θ) * y\n",
    "            if prefix is not 'u':\n",
    "                d[prefix + '2'] += θ\n",
    "\n",
    "    k = 0.05\n",
    "    head_width=0.02\n",
    "    plt.arrow(d['x0'], d['x1'],  k * np.cos(d['x2']), k * np.sin(d['x2']), head_width=head_width, color='black')\n",
    "    plt.arrow(d['x0'], d['x1'], -k * np.sin(d['x2']), k * np.cos(d['x2']), head_width=head_width, color='black')\n",
    "    \n",
    "    plt.arrow(d['x_0'], d['x_1'],  k * np.cos(d['x_2']), k * np.sin(d['x_2']), head_width=head_width, color='grey')\n",
    "    plt.arrow(d['x_0'], d['x_1'], -k * np.sin(d['x_2']), k * np.cos(d['x_2']), head_width=head_width, color='grey')\n",
    "\n",
    "    plt.arrow(d['y0'], d['y1'],  k * np.cos(d['y2']), k * np.sin(d['y2']), head_width=head_width, color='red')\n",
    "    plt.arrow(d['y0'], d['y1'], -k * np.sin(d['y2']), k * np.cos(d['y2']), head_width=head_width, color='red')\n",
    "\n",
    "    plt.arrow(d['y_0'], d['y_1'],  k * np.cos(d['y_2']), k * np.sin(d['y_2']), head_width=head_width, color='pink')\n",
    "    plt.arrow(d['y_0'], d['y_1'], -k * np.sin(d['y_2']), k * np.cos(d['y_2']), head_width=head_width, color='pink')\n",
    "\n",
    "    t = d['u3']\n",
    "    plt.arrow(d['x0'], d['x1'],  t * d['u0'], t * d['u1'], head_width=0.03, color='blue')\n",
    "\n",
    "    plt.xlim(-1.0, 1.0)\n",
    "    plt.ylim(-1.0, 1.0)\n",
    "    plt.grid()"
   ]
  },
  {
   "cell_type": "code",
   "execution_count": 3,
   "metadata": {},
   "outputs": [
    {
     "name": "stdout",
     "output_type": "stream",
     "text": [
      "w    0.080502\n",
      "h    0.080502\n",
      "m    0.100451\n",
      "µ    0.100045\n",
      "dtype: float64\n",
      "w    0.119970\n",
      "h    0.119970\n",
      "m    0.199695\n",
      "µ    0.199982\n",
      "dtype: float64\n"
     ]
    }
   ],
   "source": [
    "files_folder = 'dual_point_multi_size_1'\n",
    "columns=['x0','x1','x2','y0',\n",
    "         'y1','y2','x_0','x_1',\n",
    "         'x_2','y_0','y_1','y_2',\n",
    "         'u0','u1','u2','u3',\n",
    "         'u4','w','h','m',\n",
    "         'I','µ','type']\n",
    "dataset = pd.read_csv('training_data/{}/train/random_data_0'.format(files_folder), names=columns)\n",
    "print(dataset[['w', 'h', 'm', 'µ']].min())\n",
    "print(dataset[['w', 'h', 'm', 'µ']].max())"
   ]
  },
  {
   "cell_type": "code",
   "execution_count": 4,
   "metadata": {},
   "outputs": [],
   "source": [
    "mask = (\n",
    "    (dataset['y_0'] == dataset['y0']) &\n",
    "    (dataset['y_1'] == dataset['y1'])\n",
    ")\n",
    "non_moving = dataset[mask][['y0', 'y1', 'y2', 'y_0', 'y_1', 'y_2']]\n",
    "sub_dataset = dataset.drop(non_moving.sample(frac=0.9).index)"
   ]
  },
  {
   "cell_type": "code",
   "execution_count": 5,
   "metadata": {},
   "outputs": [],
   "source": [
    "dataset = sub_dataset"
   ]
  },
  {
   "cell_type": "code",
   "execution_count": 6,
   "metadata": {},
   "outputs": [
    {
     "data": {
      "image/png": "[encoded data removed]",
      "text/plain": [
       "<Figure size 432x288 with 1 Axes>"
      ]
     },
     "metadata": {},
     "output_type": "display_data"
    }
   ],
   "source": [
    "i = np.random.randint(0, len(sub_dataset))\n",
    "plot_transition(sub_dataset.iloc[i])\n",
    "plt.show()"
   ]
  },
  {
   "cell_type": "code",
   "execution_count": 7,
   "metadata": {},
   "outputs": [],
   "source": [
    "dataset_train = sub_dataset.iloc[:int(0.8 * sub_dataset.shape[0])]\n",
    "dataset_val = sub_dataset.iloc[int(0.8 * sub_dataset.shape[0]):int(0.9 * sub_dataset.shape[0])]\n",
    "dataset_test = sub_dataset.iloc[int(0.9 * sub_dataset.shape[0]):]"
   ]
  },
  {
   "cell_type": "code",
   "execution_count": 8,
   "metadata": {
    "scrolled": false
   },
   "outputs": [],
   "source": [
    "train_size = 512\n",
    "\n",
    "pushing_dataset_train = PushingDataset('training_data/{}/train'.format(files_folder))\n",
    "pushing_dataset_val = PushingDataset('training_data/{}/valid'.format(files_folder))\n",
    "dataloader_train = DataLoader(pushing_dataset_train, batch_size=train_size, drop_last=True, num_workers=8, worker_init_fn=pushing_dataset_train.worker_init)\n",
    "dataloader_val = DataLoader(pushing_dataset_val, batch_size=1024, drop_last=True)"
   ]
  },
  {
   "cell_type": "code",
   "execution_count": 9,
   "metadata": {
    "scrolled": true
   },
   "outputs": [
    {
     "data": {
      "text/plain": [
       "\n",
       " 0.3058  0.2381 -0.2280  0.9737\n",
       " 0.3079 -0.2237 -0.9940 -0.1091\n",
       "-0.6575  0.0973 -0.1949 -0.9808\n",
       "               ⋮                \n",
       "-0.1357 -0.2294 -0.6265 -0.7794\n",
       " 0.0602  0.0645  0.3394 -0.9407\n",
       " 0.2764  0.3859  0.6559 -0.7548\n",
       "[torch.FloatTensor of size 512x4]"
      ]
     },
     "execution_count": 9,
     "metadata": {},
     "output_type": "execute_result"
    }
   ],
   "source": [
    "train_iter = iter(dataloader_train)\n",
    "#valid_iter = iter(dataloader_val)\n",
    "next(train_iter)[-1]"
   ]
  },
  {
   "cell_type": "markdown",
   "metadata": {},
   "source": [
    "# Define models\n",
    "- Separate mean and variance models, for stability\n",
    "- MSE loss for the mean, gaussian log likelihood for the variance\n",
    "- Learn: $p(u|x_r, x_t, x_t')$"
   ]
  },
  {
   "cell_type": "code",
   "execution_count": 10,
   "metadata": {},
   "outputs": [],
   "source": [
    "class Normalization(torch.nn.Module):\n",
    "    \n",
    "    def __init__(self, n_features):\n",
    "        super(Normalization, self).__init__()\n",
    "        self.register_buffer('mean', torch.zeros(n_features))\n",
    "        self.register_buffer('std', torch.ones(n_features))\n",
    "        \n",
    "    def forward(self, x):\n",
    "        y = (x - Variable(self.mean)) / (Variable(self.std) + 1e-9)\n",
    "        return y.clamp(-5, 5)\n",
    "    \n",
    "class NormalizationInverse(torch.nn.Module):\n",
    "    \n",
    "    def __init__(self, n_features):\n",
    "        super(NormalizationInverse, self).__init__()\n",
    "        self.register_buffer('mean', torch.zeros(n_features))\n",
    "        self.register_buffer('std', torch.ones(n_features))\n",
    "        \n",
    "    def forward(self, x):\n",
    "        return x * Variable(self.std) + Variable(self.mean)"
   ]
  },
  {
   "cell_type": "code",
   "execution_count": 11,
   "metadata": {},
   "outputs": [],
   "source": [
    "def normalizers(mini_batch):\n",
    "    mean = mini_batch.mean(dim=0)\n",
    "    std = mini_batch.std(dim=0) + 1e-9\n",
    "    norm = Normalization(mean.size(0))\n",
    "    norm_inv = NormalizationInverse(mean.size(0))\n",
    "    norm.mean = norm_inv.mean = torch.FloatTensor(mean)\n",
    "    norm.std = norm_inv.std = torch.FloatTensor(std)\n",
    "    return norm.cuda(), norm_inv.cuda()\n",
    "\n",
    "X, U, Y = next(iter(dataloader_train))\n",
    "norm_x, norminv_x = normalizers(X)\n",
    "norm_u, norminv_u = normalizers(U)\n",
    "norm_y, norminv_y = normalizers(Y)\n",
    "norm_y.mean *= 0.0\n",
    "norminv_y.mean *= 0.0"
   ]
  },
  {
   "cell_type": "code",
   "execution_count": 12,
   "metadata": {},
   "outputs": [],
   "source": [
    "class Residual(torch.nn.Module):\n",
    "    \n",
    "    def __init__(self, num_features):\n",
    "        super(Residual, self).__init__()\n",
    "        self.bn1 = torch.nn.BatchNorm1d(num_features)\n",
    "        self.fc1 = torch.nn.Linear(num_features, num_features)\n",
    "        self.bn2 = torch.nn.BatchNorm1d(num_features)\n",
    "        self.fc2 = torch.nn.Linear(num_features, num_features)\n",
    "        \n",
    "    def forward(self, x):\n",
    "        a = self.fc1(F.relu(self.bn1(x)))\n",
    "        b = self.fc2(F.relu(self.bn2(a)))\n",
    "        return b + x"
   ]
  },
  {
   "cell_type": "code",
   "execution_count": 13,
   "metadata": {
    "scrolled": false
   },
   "outputs": [],
   "source": [
    "class RewardFCPlain(torch.nn.Module):\n",
    "    \n",
    "    def __init__(self, x_size, u_size, y_size, hidden_units=256):\n",
    "        super(RewardFCPlain, self).__init__()\n",
    "        \n",
    "        self.sequential = torch.nn.Sequential(\n",
    "            torch.nn.Linear(x_size + u_size, hidden_units),\n",
    "            torch.nn.BatchNorm1d(hidden_units),\n",
    "            torch.nn.LeakyReLU(),\n",
    "            torch.nn.Linear(hidden_units, hidden_units),\n",
    "            torch.nn.BatchNorm1d(hidden_units),\n",
    "            torch.nn.LeakyReLU(),\n",
    "            torch.nn.Linear(hidden_units, hidden_units),\n",
    "            torch.nn.BatchNorm1d(hidden_units),\n",
    "            torch.nn.LeakyReLU(),\n",
    "            torch.nn.Linear(hidden_units, hidden_units),\n",
    "            torch.nn.BatchNorm1d(hidden_units),\n",
    "            torch.nn.LeakyReLU(),\n",
    "            torch.nn.Linear(hidden_units, y_size)  # E[Y]\n",
    "        )\n",
    "        \n",
    "    def forward(self, x, u):\n",
    "        xu = torch.cat([x, u], dim=1)\n",
    "        y = self.sequential(xu)                    # E(Y)\n",
    "        # Var(Y) = E(Y^2) - E(Y)^2\n",
    "        # E(Y^2) = Var(Y) + E(Y)^2\n",
    "        # y2 = F.softplus(self.fcy2(a2)) + y ** 2 # E(Y^2)\n",
    "        # t = F.softplus(self.fct(a2))\n",
    "        return y\n",
    "\n",
    "class FCPositive(torch.nn.Module):\n",
    "    \n",
    "    def __init__(self, x_size, u_size, y_size, hidden_units=256):\n",
    "        super(FCPositive, self).__init__()\n",
    "        \n",
    "        self.sequential = torch.nn.Sequential(\n",
    "            torch.nn.Linear(x_size + u_size, hidden_units),\n",
    "            torch.nn.BatchNorm1d(hidden_units),\n",
    "            torch.nn.LeakyReLU(),\n",
    "            torch.nn.Linear(hidden_units, hidden_units),\n",
    "            torch.nn.BatchNorm1d(hidden_units),\n",
    "            torch.nn.LeakyReLU(),\n",
    "            torch.nn.Linear(hidden_units, hidden_units),\n",
    "            torch.nn.BatchNorm1d(hidden_units),\n",
    "            torch.nn.LeakyReLU(),\n",
    "            torch.nn.Linear(hidden_units, hidden_units),\n",
    "            torch.nn.BatchNorm1d(hidden_units),\n",
    "            torch.nn.LeakyReLU(),\n",
    "            torch.nn.Linear(hidden_units, y_size),\n",
    "            torch.nn.Softplus()\n",
    "        )\n",
    "        \n",
    "    def forward(self, x, u):\n",
    "        xu = torch.cat([x, u], dim=1)\n",
    "        y = self.sequential(xu)\n",
    "        return y\n",
    "    \n",
    "X, U, Y = next(iter(dataloader_val))\n",
    "X, U, Y = map(lambda x: Variable(x.cuda()), [X, U, Y])\n",
    "reward = RewardFCPlain(X.size(1), U.size(1), Y.size(1)).cuda()"
   ]
  },
  {
   "cell_type": "code",
   "execution_count": 14,
   "metadata": {},
   "outputs": [
    {
     "data": {
      "text/plain": [
       "Variable containing:\n",
       "1.00000e-02 *\n",
       "-5.3692 -5.7688  0.4484 -3.1995\n",
       "-5.3130 -5.7611  0.4909 -3.2412\n",
       "-5.2868 -5.6989  0.4271 -3.2114\n",
       "               ⋮                \n",
       "-5.3626 -5.8037  0.4828 -3.2188\n",
       "-5.3741 -5.7248  0.4809 -3.2362\n",
       "-5.2393 -5.7122  0.4854 -3.2454\n",
       "[torch.cuda.FloatTensor of size 1024x4 (GPU 0)]"
      ]
     },
     "execution_count": 14,
     "metadata": {},
     "output_type": "execute_result"
    }
   ],
   "source": [
    "reward.eval()\n",
    "X, U, Y = next(iter(dataloader_val))\n",
    "reward(Variable(X.cuda()), Variable(U.cuda()))"
   ]
  },
  {
   "cell_type": "code",
   "execution_count": 15,
   "metadata": {},
   "outputs": [
    {
     "data": {
      "text/plain": [
       "37572"
      ]
     },
     "execution_count": 15,
     "metadata": {},
     "output_type": "execute_result"
    }
   ],
   "source": [
    "dataset_train.__len__()"
   ]
  },
  {
   "cell_type": "code",
   "execution_count": 16,
   "metadata": {
    "scrolled": false
   },
   "outputs": [],
   "source": [
    "logger_train = SummaryWriter('runs/dual-point-train')\n",
    "logger_valid = SummaryWriter('runs/dual-point-valid')\n",
    "optim_mean = torch.optim.Adam(reward.parameters(), weight_decay=1e-3, betas=(0.99, 0.999))\n",
    "loss_fn = torch.nn.MSELoss()\n",
    "best_val = np.inf\n",
    "best_models = None\n",
    "step = -1\n",
    "n_steps = 30000\n",
    "\n",
    "while True:\n",
    "    for X, U, Y in dataloader_train:\n",
    "        reward.train()\n",
    "        step += 1\n",
    "        X, U, Y = map(lambda x: Variable(x.cuda()), [X, U, Y])\n",
    "        X, U, Y = norm_x(X), norm_u(U), norm_y(Y)\n",
    "        Y_pred = reward(X, U)\n",
    "        reward.zero_grad()\n",
    "        loss_mean = loss_fn(Y_pred, Y)\n",
    "        loss_mean.backward()\n",
    "        optim_mean.step()\n",
    "\n",
    "        if step % 50 == 0:\n",
    "            logger_train.add_scalar('mean', loss_mean.cpu().data[0], step)\n",
    "            \n",
    "            # validation\n",
    "            reward.eval()\n",
    "            X, U, Y = next(iter(dataloader_val))\n",
    "            X, U, Y = map(lambda x: Variable(x.cuda()), [X, U, Y])\n",
    "            X, U, Y = norm_x(X), norm_u(U), norm_y(Y)\n",
    "            Y_pred = reward(X, U)\n",
    "            loss_mean = loss_fn(Y_pred, Y)\n",
    "            logger_valid.add_scalar('mean', loss_mean.cpu().data[0], step)\n",
    "            val_loss = loss_mean.cpu().data[0]\n",
    "            if val_loss < best_val:\n",
    "                best_val = val_loss\n",
    "                best_models = reward.state_dict(),\n",
    "        if step > n_steps:\n",
    "            break\n",
    "    if step > n_steps:\n",
    "        break"
   ]
  },
  {
   "cell_type": "code",
   "execution_count": null,
   "metadata": {},
   "outputs": [],
   "source": [
    "reward.eval()\n",
    "reward.load_state_dict(best_models[0])\n",
    "\n",
    "X, U, Y = next(iter(dataloader_val))\n",
    "X, U, Y = map(lambda x: Variable(x.cuda()), [X, U, Y])\n",
    "variance = FCPositive(X.size(1), U.size(1), Y.size(1)).cuda()\n",
    "optim_variance = torch.optim.Adam(variance.parameters(), weight_decay=1e-3)\n",
    "best_val = np.inf\n",
    "best_variance_model = None\n",
    "step = -1\n",
    "n_steps = 50000\n",
    "\n",
    "def loss_fn(Y, mean_pred, var_pred):\n",
    "    N = Y.size(0)\n",
    "    y_err = Y - mean_pred\n",
    "    nll = (torch.log(var_pred).sum() + (y_err ** 2 / var_pred).sum()) / N\n",
    "    return nll\n",
    "\n",
    "while True:\n",
    "    for X, U, Y in dataloader_train:\n",
    "        variance.train()\n",
    "        step += 1\n",
    "        X, U, Y = map(lambda x: Variable(x.cuda()), [X, U, Y])\n",
    "        X, U, Y = norm_x(X), norm_u(U), norm_y(Y)\n",
    "        Y_pred = reward(X, U)\n",
    "        Y2_pred = variance(X, U)\n",
    "        variance.zero_grad()\n",
    "        loss_variance = loss_fn(Y, Y_pred.detach(), Y2_pred)\n",
    "        loss_variance.backward()\n",
    "        optim_variance.step()\n",
    "\n",
    "        if step % 50 == 0:\n",
    "            logger_train.add_scalar('loss_variance', loss_variance.cpu().data[0], step)\n",
    "            \n",
    "            # validation\n",
    "            variance.eval()\n",
    "            X, U, Y = next(iter(dataloader_val))\n",
    "            X, U, Y = map(lambda x: Variable(x.cuda()), [X, U, Y])\n",
    "            X, U, Y = norm_x(X), norm_u(U), norm_y(Y)\n",
    "            Y_pred = reward(X, U)\n",
    "            Y2_pred = variance(X, U)\n",
    "            loss_variance = loss_fn(Y, Y_pred.detach(), Y2_pred)\n",
    "            logger_valid.add_scalar('loss_variance', loss_variance.cpu().data[0], step)\n",
    "            val_loss = loss_variance.cpu().data[0]\n",
    "            if val_loss < best_val:\n",
    "                best_val = val_loss\n",
    "                best_variance_model = variance.state_dict()\n",
    "        if step > n_steps:\n",
    "            break\n",
    "    if step > n_steps:\n",
    "        break"
   ]
  },
  {
   "cell_type": "code",
   "execution_count": 22,
   "metadata": {},
   "outputs": [
    {
     "data": {
      "text/plain": [
       "(Variable containing:\n",
       "  0.0003 -0.2863  1.5148\n",
       " [torch.cuda.FloatTensor of size 1x3 (GPU 0)], Variable containing:\n",
       " -0.0025 -0.2925  0.0472  0.9862\n",
       " [torch.cuda.FloatTensor of size 1x4 (GPU 0)], Variable containing:\n",
       "  0.0143 -0.2729  0.0560  0.9984\n",
       " [torch.cuda.FloatTensor of size 1x4 (GPU 0)])"
      ]
     },
     "execution_count": 22,
     "metadata": {},
     "output_type": "execute_result"
    }
   ],
   "source": [
    "reward.eval()\n",
    "variance.eval()\n",
    "X, U, Y = next(iter(dataloader_val))\n",
    "X, U, Y = map(lambda x: Variable(x.cuda()), [X, U, Y])\n",
    "X[:1, :3], norminv_y(reward(norm_x(X), norm_u(U)))[:1, :], Y[:1, :]"
   ]
  },
  {
   "cell_type": "code",
   "execution_count": 23,
   "metadata": {},
   "outputs": [],
   "source": [
    "variance.eval()\n",
    "variance.load_state_dict(best_variance_model)\n",
    "#with open('notebook_models/reward.pkl', 'wb') as f:\n",
    "#    pickle.dump(reward.state_dict(), f)\n",
    "#with open('notebook_models/variance.pkl', 'wb') as f:\n",
    "#    pickle.dump(variance.state_dict(), f)\n",
    "#X, U, Y = next(iter(dataloader_val))\n",
    "#X, U, Y = map(lambda x: Variable(x.cuda()), [X, U, Y])\n",
    "#X, U, Y = norm_x(X)[:1, :], norm_u(U)[:1, :], norm_y(Y)[:1, :]"
   ]
  },
  {
   "cell_type": "code",
   "execution_count": 13,
   "metadata": {
    "collapsed": true
   },
   "outputs": [],
   "source": [
    "with open('notebook_models/reward.pkl', 'rb') as f:\n",
    "    reward.load_state_dict(pickle.load(f))\n",
    "with open('notebook_models/variance.pkl', 'rb') as f:\n",
    "    variance.load_state_dict(pickle.load(f))"
   ]
  },
  {
   "cell_type": "code",
   "execution_count": 24,
   "metadata": {},
   "outputs": [
    {
     "data": {
      "text/plain": [
       "Variable containing:\n",
       " 0.0048\n",
       " 0.0087\n",
       " 0.0498\n",
       "   ⋮   \n",
       " 0.0081\n",
       " 0.0049\n",
       " 0.0042\n",
       "[torch.cuda.FloatTensor of size 1024 (GPU 0)]"
      ]
     },
     "execution_count": 24,
     "metadata": {},
     "output_type": "execute_result"
    }
   ],
   "source": [
    "class ExpectedDistance(torch.nn.Module):\n",
    "    \n",
    "    def __init__(self, mean_model, variance_model):\n",
    "        super(ExpectedDistance, self).__init__()\n",
    "        self.mean = mean_model\n",
    "        self.variance = variance_model\n",
    "        self.register_buffer(\n",
    "            'weights',\n",
    "            torch.FloatTensor([1.0, 1.0, 0.1, 0.1])\n",
    "        )\n",
    "        \n",
    "    def forward(self, x, u, g):\n",
    "        \"\"\"\n",
    "        Variables should all be normalized!\n",
    "        Goal is relative object! G_rel = (G - X)\n",
    "        Goal is normalized with same as Y = (X' - X)\n",
    "        \"\"\"\n",
    "        mean = self.mean(x, u)\n",
    "        var = self.variance(x, u)\n",
    "        return ((var + (mean - g) ** 2) * Variable(self.weights)).mean(dim=1)\n",
    "    \n",
    "expect_distance = ExpectedDistance(reward, variance).cuda()\n",
    "X, U, Y = next(iter(dataloader_val))\n",
    "X, U, Y = map(lambda x: Variable(x.cuda()), [X, U, Y])\n",
    "norm_x = norm_x.cuda()\n",
    "norm_u = norm_u.cuda()\n",
    "norm_y = norm_y.cuda()\n",
    "expect_distance(norm_x(X), norm_u(U), norm_y(Y))"
   ]
  },
  {
   "cell_type": "code",
   "execution_count": 25,
   "metadata": {},
   "outputs": [
    {
     "name": "stdout",
     "output_type": "stream",
     "text": [
      "Variable containing:\n",
      " 0.1985\n",
      " 0.4508\n",
      " 0.0626\n",
      "[torch.cuda.FloatTensor of size 3 (GPU 0)]\n",
      " Variable containing:\n",
      "-0.0485\n",
      " 0.4626\n",
      "-1.2707\n",
      " 0.0196\n",
      "[torch.cuda.FloatTensor of size 4 (GPU 0)]\n",
      " Variable containing:\n",
      " 0.2083\n",
      " 0.4549\n",
      " 0.9980\n",
      " 0.0625\n",
      "[torch.cuda.FloatTensor of size 4 (GPU 0)]\n",
      "\n"
     ]
    },
    {
     "data": {
      "image/png": "[encoded data removed]",
      "text/plain": [
       "<Figure size 432x288 with 2 Axes>"
      ]
     },
     "metadata": {},
     "output_type": "display_data"
    }
   ],
   "source": [
    "def plot_q(π=None, X=None, G=None, duration=0.6, mass=0.10, friction=0.05):\n",
    "    reward.eval()\n",
    "    variance.eval()\n",
    "    obj_x = 0.0; obj_y = -0.3\n",
    "    width = 0.10\n",
    "    if X is None:\n",
    "        X = Variable(torch.cuda.FloatTensor([[obj_x, obj_y, 0.0, width, width, mass, friction]]))\n",
    "    else:\n",
    "        X = X[:1, :]\n",
    "        mass = X[0, -2].cpu().data[0]\n",
    "        friction = X[0, -1].data[0]\n",
    "    _, U, Y = next(iter(dataloader_val))\n",
    "    U = Variable(U.cuda())[:1, :]\n",
    "    g = 0.2 * np.array([obj_x, obj_y, 0.0]) / np.sqrt(obj_x ** 2 + obj_y ** 2)\n",
    "    if G is None:\n",
    "        G = Variable(torch.cuda.FloatTensor(g)).resize(1, 3)\n",
    "    else:\n",
    "        G = G[:1, :]\n",
    "    if π:\n",
    "        U = π(norm_x(X), norm_y(G)).cpu().data.numpy().flatten()\n",
    "        duration = float(U[-1])\n",
    "    U = Variable(torch.cuda.FloatTensor([[0.0, 0.0, 0.0, duration]]))\n",
    "    \n",
    "    res = 32\n",
    "    u_range = 0.6\n",
    "    img = np.zeros((res, res))\n",
    "    img_var = np.zeros((res, res))\n",
    "    min_dist = np.inf\n",
    "    min_x_y = None\n",
    "    for i, ux in enumerate(np.linspace(-u_range, u_range, res)):\n",
    "        for j, uy in enumerate(np.linspace(-u_range, u_range, res)):\n",
    "            U[0, 0] = ux\n",
    "            U[0, 1] = uy\n",
    "            d = expect_distance(norm_x(X), norm_u(U), norm_y(G)).cpu().data[0]\n",
    "            img[j, i] = d\n",
    "            if d < min_dist:\n",
    "                min_dist = d\n",
    "                min_x_y = (ux, uy)\n",
    "            \n",
    "    fig, ax = plt.subplots(figsize=(6, 4))\n",
    "    if π:\n",
    "        U = π(norm_x(X), norm_y(G)).cpu().data.numpy().flatten()\n",
    "        plt.plot(U[0], U[1], 'ko', markersize=5.0)\n",
    "        plt.plot(U[0], U[1], 'wo', markersize=4.0)\n",
    "    #plt.plot(*min_x_y, 'ko', markersize=5.0)\n",
    "    #plt.plot(*min_x_y, 'wo', markersize=4.0)\n",
    "    circle = plt.Circle((0, 0), radius=u_range + 0.69, fill=False, linewidth=250, color='white')\n",
    "    mappable = ax.imshow(img, extent=[-u_range, u_range, -u_range, u_range], origin='lower', interpolation='gaussian', cmap='jet')\n",
    "    ax.add_artist(circle)\n",
    "    ax.plot(0, 0, 'w+')\n",
    "    ax.set_title('mass: {:.2f} friction: {:.2f}'.format(mass, friction))\n",
    "    ax.set_xlabel('$\\dot{x}$')\n",
    "    ax.set_ylabel('$\\dot{y}$')\n",
    "    plt.colorbar(mappable=mappable)\n",
    "    #plt.savefig('mass{}friction{}.png'.format(mass, friction))\n",
    "    plt.show()\n",
    "\n",
    "val_iter = iter(dataloader_val)\n",
    "X, U, Y = next(val_iter)\n",
    "X, U, Y = map(lambda x: Variable(x.cuda()), [X, U, Y])\n",
    "print(X[0, :3], U[0], Y[0])\n",
    "plot_q(X=X, G=Y)\n",
    "#plot_q(friction=0.05, mass=0.05)\n",
    "#plot_q(friction=0.1, mass=0.1)\n",
    "#plot_q(friction=0.2, mass=0.4)"
   ]
  },
  {
   "cell_type": "code",
   "execution_count": 785,
   "metadata": {},
   "outputs": [
    {
     "data": {
      "image/png": "[encoded data removed]",
      "text/plain": [
       "<matplotlib.figure.Figure at 0x7f632acfa908>"
      ]
     },
     "metadata": {},
     "output_type": "display_data"
    },
    {
     "data": {
      "image/png": "[encoded data removed]",
      "text/plain": [
       "<matplotlib.figure.Figure at 0x7f6328796be0>"
      ]
     },
     "metadata": {},
     "output_type": "display_data"
    },
    {
     "data": {
      "image/png": "[encoded data removed]",
      "text/plain": [
       "<matplotlib.figure.Figure at 0x7f632928abe0>"
      ]
     },
     "metadata": {},
     "output_type": "display_data"
    },
    {
     "data": {
      "image/png": "[encoded data removed]",
      "text/plain": [
       "<matplotlib.figure.Figure at 0x7f6327c87780>"
      ]
     },
     "metadata": {},
     "output_type": "display_data"
    }
   ],
   "source": [
    "from mock_data import propagate\n",
    "\n",
    "\n",
    "one_direction = True\n",
    "\n",
    "reward.eval()\n",
    "variance.eval()\n",
    "for action_angle in [np.pi / 2, np.pi, -np.pi / 2, 0.0]:\n",
    "    fig, ax = plt.subplots(1, 2, sharex=True, sharey=True)\n",
    "    od = 0.2\n",
    "    ad = 0.4\n",
    "    mass = 0.05\n",
    "    size = 0.1\n",
    "    friction = 0.05\n",
    "    n_samples = 400\n",
    "    xs = np.zeros((n_samples, 2))\n",
    "    X = torch.zeros(n_samples, 7).cuda()\n",
    "    U = torch.zeros(n_samples, 4).cuda()\n",
    "    \n",
    "    # prediction\n",
    "    for i, θ in enumerate(np.linspace(-np.pi, np.pi, n_samples)):\n",
    "        X[i, :] = torch.cuda.FloatTensor([[od * np.cos(θ), od * np.sin(θ), 0.0, size, size, mass, friction]])\n",
    "        if one_direction:\n",
    "            U[i, :] = torch.cuda.FloatTensor([[ad * np.cos(action_angle), ad * np.sin(action_angle), 0.0, 0.6]])\n",
    "        else:\n",
    "            U[i, :] = torch.cuda.FloatTensor([[ad * np.cos(θ), ad * np.sin(θ), 0.0, 0.6]])\n",
    "        xs[i, 0] = od * np.cos(θ)\n",
    "        xs[i, 1] = od * np.sin(θ)\n",
    "    y_delta = norminv_y(reward(norm_x(Variable(X)), norm_u(Variable(U)))).cpu().data.numpy()\n",
    "    mean = X.cpu().numpy()[:, :2] + y_delta[:, :2]\n",
    "    std = norminv_y(variance(norm_x(Variable(X)), norm_u(Variable(U))) ** 0.5).cpu().data.numpy()\n",
    "    for _ in range(16):\n",
    "        ax[1].plot(mean[:, 0] + np.random.randn(n_samples) * std[:, 0], mean[:, 1] + np.random.randn(n_samples) * std[:, 1], 'k.', markersize=1.0)\n",
    "    #ax[1].plot(xs[:, 0], xs[:, 1], 'k.', markersize=1.0)\n",
    "    ax[1].axis('equal')\n",
    "\n",
    "    # ground truth\n",
    "    xs = np.zeros((n_samples, 2))\n",
    "    for i, θ in enumerate(np.linspace(0, 2 * np.pi, n_samples)):\n",
    "        obj = np.array([[np.cos(θ) * od, np.sin(θ) * od, 0.0, mass, friction, size, size]] * 16) \n",
    "        if one_direction:\n",
    "            action = np.array([[np.cos(action_angle) * ad, np.sin(action_angle) * ad, 0.0, 0.6]] * 16) \n",
    "        else:\n",
    "            action = np.array([[np.cos(θ) * ad, np.sin(θ) * ad, 0.0, 0.6]] * 16) \n",
    "        ys = propagate(obj, action)\n",
    "        obj_ = obj[:, :3] + ys\n",
    "        xs[i, :] = np.array([obj[0, 0], obj[0, 1]])\n",
    "        ax[0].plot(obj_[:, 0], obj_[:, 1], 'k.', markersize=1.0)\n",
    "    #ax[0].plot(xs[:, 0], xs[:, 1], 'k')\n",
    "    ax[0].axis('equal')\n",
    "    plt.show()\n",
    "    if not one_direction:\n",
    "        break\n"
   ]
  },
  {
   "cell_type": "code",
   "execution_count": 787,
   "metadata": {},
   "outputs": [
    {
     "data": {
      "image/png": "[encoded data removed]",
      "text/plain": [
       "<matplotlib.figure.Figure at 0x7f6326aa0320>"
      ]
     },
     "metadata": {},
     "output_type": "display_data"
    },
    {
     "data": {
      "image/png": "[encoded data removed]",
      "text/plain": [
       "<matplotlib.figure.Figure at 0x7f6326d3ccf8>"
      ]
     },
     "metadata": {},
     "output_type": "display_data"
    },
    {
     "data": {
      "image/png": "[encoded data removed]",
      "text/plain": [
       "<matplotlib.figure.Figure at 0x7f6327e1a4a8>"
      ]
     },
     "metadata": {},
     "output_type": "display_data"
    },
    {
     "data": {
      "image/png": "[encoded data removed]",
      "text/plain": [
       "<matplotlib.figure.Figure at 0x7f632659a6d8>"
      ]
     },
     "metadata": {},
     "output_type": "display_data"
    }
   ],
   "source": [
    "from mock_data import propagate\n",
    "\n",
    "\n",
    "one_direction = True\n",
    "\n",
    "reward.eval()\n",
    "variance.eval()\n",
    "for action_angle in [np.pi / 2, np.pi, -np.pi / 2, 0.0]:\n",
    "    fig, ax = plt.subplots(1, 2, sharex=True, sharey=True, figsize=(8, 4))\n",
    "    od = 0.2\n",
    "    ad = 0.4\n",
    "    mass = 0.05\n",
    "    size = 0.1\n",
    "    friction = 0.05\n",
    "    n_samples = 400\n",
    "    xs = np.zeros((n_samples, 2))\n",
    "    X = torch.zeros(n_samples, 7).cuda()\n",
    "    U = torch.zeros(n_samples, 4).cuda()\n",
    "    \n",
    "    # prediction\n",
    "    θs = np.linspace(-np.pi, np.pi, n_samples)\n",
    "    for i, θ in enumerate(θs):\n",
    "        X[i, :] = torch.cuda.FloatTensor([[od * np.cos(θ), od * np.sin(θ), 0.0, size, size, mass, friction]])\n",
    "        if one_direction:\n",
    "            U[i, :] = torch.cuda.FloatTensor([[ad * np.cos(action_angle), ad * np.sin(action_angle), 0.0, 0.6]])\n",
    "        else:\n",
    "            U[i, :] = torch.cuda.FloatTensor([[ad * np.cos(θ), ad * np.sin(θ), 0.0, 0.6]])\n",
    "        xs[i, 0] = od * np.cos(θ)\n",
    "        xs[i, 1] = od * np.sin(θ)\n",
    "    y_delta = norminv_y(reward(norm_x(Variable(X)), norm_u(Variable(U)))).cpu().data.numpy()\n",
    "    mean = X.cpu().numpy()[:, :2] + y_delta[:, :2]\n",
    "    std = norminv_y(variance(norm_x(Variable(X)), norm_u(Variable(U))) ** 0.5).cpu().data.numpy()\n",
    "    for n_stds, color in reversed([(0, 'k'), (1, 'red'), (2, 'orange'), (3, 'yellow')]):\n",
    "        if n_stds == 0:\n",
    "            linestyle = ':'\n",
    "        else:\n",
    "            linestyle = '-'\n",
    "        ax[1].plot(mean[:, 0] + n_stds * np.cos(θs) * std[:, 0], mean[:, 1] + n_stds * np.sin(θs) * std[:, 1], color=color, linestyle=linestyle)\n",
    "        ax[1].plot(mean[:, 0] - n_stds * np.cos(θs) * std[:, 0], mean[:, 1] - n_stds * np.sin(θs) * std[:, 1], color=color, linestyle=linestyle)\n",
    "        plt.plot()\n",
    "    #ax[1].plot(xs[:, 0], xs[:, 1], 'k.', markersize=1.0)\n",
    "    ax[1].axis('equal')\n",
    "\n",
    "    # ground truth\n",
    "    n_samples_gt = 4096\n",
    "    mean = np.zeros((n_samples, 2))\n",
    "    std = np.zeros((n_samples, 2))\n",
    "    for i, θ in enumerate(θs):\n",
    "        obj = np.array([[np.cos(θ) * od, np.sin(θ) * od, 0.0, mass, friction, size, size]] * n_samples_gt) \n",
    "        if one_direction:\n",
    "            action = np.array([[np.cos(action_angle) * ad, np.sin(action_angle) * ad, 0.0, 0.6]] * n_samples_gt) \n",
    "        else:\n",
    "            action = np.array([[np.cos(θ) * ad, np.sin(θ) * ad, 0.0, 0.6]] * n_samples_gt) \n",
    "        ys = propagate(obj, action)\n",
    "        obj_ = obj[:, :3] + ys\n",
    "        mean[i, :] = np.array([obj_[:, 0].mean(), obj_[:, 1].mean()])\n",
    "        std[i, :] = np.array([obj_[:, 0].std(), obj_[:, 1].std()])\n",
    "        #ax[0].plot(obj_[:, 0], obj_[:, 1], 'k.', markersize=1.0)\n",
    "    for n_stds, color in reversed([(0, 'k'), (1, 'red'), (2, 'orange'), (3, 'yellow')]):\n",
    "        if n_stds == 0:\n",
    "            linestyle = ':'\n",
    "        else:\n",
    "            linestyle = '-'\n",
    "        ax[0].plot(mean[:, 0] + n_stds * np.cos(θs) * std[:, 0], mean[:, 1] + n_stds * np.sin(θs) * std[:, 1], color=color, linestyle=linestyle)\n",
    "        ax[0].plot(mean[:, 0] - n_stds * np.cos(θs) * std[:, 0], mean[:, 1] - n_stds * np.sin(θs) * std[:, 1], color=color, linestyle=linestyle)\n",
    "        ax[0].plot(mean[:, 0] + n_stds * np.cos(θs) * std[:, 0], mean[:, 1] + n_stds * np.sin(θs) * std[:, 1], color=color, linestyle=linestyle)\n",
    "    ax[0].axis('equal')\n",
    "    plt.show()\n",
    "    if not one_direction:\n",
    "        break\n"
   ]
  },
  {
   "cell_type": "code",
   "execution_count": 21,
   "metadata": {
    "collapsed": true
   },
   "outputs": [],
   "source": [
    "with open('notebook_models/mock/reward.pt', 'rb') as f:\n",
    "    reward.load_state_dict(pickle.load(f))\n",
    "with open('notebook_models/mock/variance.pt', 'rb') as f:\n",
    "    variance.load_state_dict(pickle.load(f))\n",
    "with open('notebook_models/mock/norm_x.pt', 'rb') as f:\n",
    "    norm_x.load_state_dict(pickle.load(f))\n",
    "with open('notebook_models/mock/norm_u.pt', 'rb') as f:\n",
    "    norm_u.load_state_dict(pickle.load(f))\n",
    "with open('notebook_models/mock/norm_y.pt', 'rb') as f:\n",
    "    norm_y.load_state_dict(pickle.load(f))\n",
    "with open('notebook_models/mock/norminv_x.pt', 'rb') as f:\n",
    "    norminv_x.load_state_dict(pickle.load(f))\n",
    "with open('notebook_models/mock/norminv_u.pt', 'rb') as f:\n",
    "    norminv_u.load_state_dict(pickle.load(f))\n",
    "with open('notebook_models/mock/norminv_y.pt', 'rb') as f:\n",
    "    norminv_y.load_state_dict(pickle.load(f))"
   ]
  },
  {
   "cell_type": "code",
   "execution_count": 270,
   "metadata": {
    "collapsed": true
   },
   "outputs": [],
   "source": [
    "with open('notebook_models/mock/reward.pt', 'wb') as f:\n",
    "    pickle.dump(reward.state_dict(), f)\n",
    "with open('notebook_models/mock/variance.pt', 'wb') as f:\n",
    "    pickle.dump(variance.state_dict(), f)\n",
    "with open('notebook_models/mock/norm_x.pt', 'wb') as f:\n",
    "    pickle.dump(norm_x.state_dict(), f)\n",
    "with open('notebook_models/mock/norm_u.pt', 'wb') as f:\n",
    "    pickle.dump(norm_u.state_dict(), f)\n",
    "with open('notebook_models/mock/norm_y.pt', 'wb') as f:\n",
    "    pickle.dump(norm_y.state_dict(), f)\n",
    "with open('notebook_models/mock/norminv_x.pt', 'wb') as f:\n",
    "    pickle.dump(norminv_x.state_dict(), f)\n",
    "with open('notebook_models/mock/norminv_u.pt', 'wb') as f:\n",
    "    pickle.dump(norminv_u.state_dict(), f)\n",
    "with open('notebook_models/mock/norminv_y.pt', 'wb') as f:\n",
    "    pickle.dump(norminv_y.state_dict(), f)"
   ]
  },
  {
   "cell_type": "code",
   "execution_count": 77,
   "metadata": {},
   "outputs": [
    {
     "data": {
      "text/plain": [
       "x0        0.000000\n",
       "x1        0.000000\n",
       "x2        0.000000\n",
       "y0        0.599789\n",
       "y1        0.599580\n",
       "y2        3.141588\n",
       "x_0       0.599949\n",
       "x_1       0.599259\n",
       "x_2       0.599999\n",
       "y_0       0.709763\n",
       "y_1       0.635370\n",
       "y_2       6.869661\n",
       "u0        0.599949\n",
       "u1        0.599259\n",
       "u2        0.599999\n",
       "u3        0.599995\n",
       "u4        4.731758\n",
       "w         0.100000\n",
       "h         0.100000\n",
       "m         0.399999\n",
       "I         4.490673\n",
       "µ         0.400000\n",
       "type    666.000000\n",
       "dtype: float64"
      ]
     },
     "execution_count": 77,
     "metadata": {},
     "output_type": "execute_result"
    }
   ],
   "source": [
    "dataset.max()"
   ]
  },
  {
   "cell_type": "code",
   "execution_count": 29,
   "metadata": {},
   "outputs": [
    {
     "data": {
      "text/plain": [
       "Normalization(\n",
       ")"
      ]
     },
     "execution_count": 29,
     "metadata": {},
     "output_type": "execute_result"
    }
   ],
   "source": [
    "class Policy(torch.nn.Module):\n",
    "    \n",
    "    def __init__(self, x_size, g_size, u_size, hidden_size=64):\n",
    "        super(Policy, self).__init__()\n",
    "        self.fc1 = torch.nn.Linear(x_size + g_size, hidden_size)\n",
    "        self.fc2 = torch.nn.Linear(hidden_size, hidden_size)\n",
    "        self.fc_xy_vel = torch.nn.Linear(hidden_size, 1)\n",
    "        self.fc_xy_dir = torch.nn.Linear(hidden_size, 2)\n",
    "        self.fc_r_vel = torch.nn.Linear(hidden_size, 1)\n",
    "        self.fc_dur = torch.nn.Linear(hidden_size, 1)\n",
    "        self.register_buffer(\n",
    "            'xy_vel_scale',\n",
    "            torch.FloatTensor([0.6])\n",
    "         )\n",
    "        self.register_buffer(\n",
    "            'r_vel_scale',\n",
    "            torch.FloatTensor([1.4])\n",
    "         )\n",
    "        self.register_buffer(\n",
    "            'dur_scale',\n",
    "            torch.FloatTensor([0.6])\n",
    "         )\n",
    "        \n",
    "    def forward(self, x, g):\n",
    "        xg = torch.cat([x, g], dim=1)\n",
    "        a1 = F.relu(self.fc1(xg))\n",
    "        a2 = F.relu(self.fc2(a1))\n",
    "        u_xy_vel = F.sigmoid(self.fc_xy_vel(a2))\n",
    "        u_xy_dir = F.tanh(self.fc_xy_dir(a2))\n",
    "        u_r_vel = F.tanh(self.fc_r_vel(a2))\n",
    "        u_dur = F.sigmoid(self.fc_dur(a2))\n",
    "        return torch.cat(\n",
    "            [\n",
    "                Variable(self.xy_vel_scale) * u_xy_vel * u_xy_dir / u_xy_dir.norm(dim=1, keepdim=True),\n",
    "                Variable(self.r_vel_scale) * u_r_vel,\n",
    "                Variable(self.dur_scale) * u_dur,\n",
    "            ],\n",
    "            dim=1\n",
    "        )\n",
    "        \n",
    "X, U, Y = next(iter(dataloader_val))\n",
    "π = Policy(X.size(1), Y.size(1), U.size(1)).cuda()\n",
    "X, Y = map(lambda x: Variable(x.cuda()), [X, Y])\n",
    "policy_opt = torch.optim.Adam(π.parameters(), weight_decay=1e-3)\n",
    "norm_x.cuda()\n",
    "norm_u.cuda()\n",
    "norm_y.cuda()"
   ]
  },
  {
   "cell_type": "code",
   "execution_count": null,
   "metadata": {
    "scrolled": true
   },
   "outputs": [],
   "source": [
    "time_str = datetime.datetime.now().strftime('%H:%M')\n",
    "reward.eval()\n",
    "variance.eval()\n",
    "logger_policy = SummaryWriter('runs/dual-point-policy'.format(time_str))\n",
    "step = -1\n",
    "n_steps = 100000\n",
    "while True:\n",
    "    for X, _, Y in dataloader_train:\n",
    "        π.train()\n",
    "        π.zero_grad()\n",
    "        step += 1\n",
    "        X = Variable(X.cuda())\n",
    "        Y = Variable(Y.cuda())\n",
    "        change_goal = Variable(torch.rand(Y.size(0), 1) < 1.5).cuda().float()\n",
    "        G_normed = norm_y(Y * change_goal) + (1 - change_goal) * Variable(torch.randn(Y.size())).cuda()\n",
    "        U = π(norm_x(X), G_normed)\n",
    "        action_regularizer = (U ** 2).sum() / U.size(0)\n",
    "        loss = expect_distance(norm_x(X), norm_u(U), G_normed).mean()\n",
    "        loss.backward()\n",
    "        policy_opt.step()\n",
    "        logger_policy.add_scalar('cost', loss.cpu().data[0], step)\n",
    "        if step >= n_steps:\n",
    "            break\n",
    "    if step >= n_steps:\n",
    "        break"
   ]
  },
  {
   "cell_type": "code",
   "execution_count": 806,
   "metadata": {
    "collapsed": true
   },
   "outputs": [],
   "source": [
    "with open('notebook_models/policy.pkl', 'wb') as f:\n",
    "    pickle.dump(π.state_dict(), f)\n",
    "#with open('notebook_models/policy.pkl', 'rb') as f:\n",
    "#    π.load_state_dict(pickle.load(f))"
   ]
  },
  {
   "cell_type": "code",
   "execution_count": null,
   "metadata": {},
   "outputs": [],
   "source": [
    "class ProductionPolicy(torch.nn.Module):\n",
    "    \n",
    "    def __init__(self, norm_x, norm_y, policy):\n",
    "        super(ProductionPolicy, self).__init__()\n",
    "        self.norm_x = norm_x\n",
    "        self.norm_y = norm_y\n",
    "        self.policy = policy\n",
    "        \n",
    "    def forward(self, x, g):\n",
    "        return self.policy(self.norm_x(x), self.norm_y(g))"
   ]
  },
  {
   "cell_type": "code",
   "execution_count": null,
   "metadata": {},
   "outputs": [],
   "source": [
    "production_policy = ProductionPolicy(norm_x, norm_y, π).cuda()\n",
    "production_policy.eval()\n",
    "k = -1\n",
    "obj_x = k * 0.0\n",
    "obj_y = k * 0.2\n",
    "goal_x = k * 0.0\n",
    "goal_y = k * 0.3\n",
    "width = 0.14\n",
    "X = Variable(torch.cuda.FloatTensor([[obj_x, obj_y, 0.0, width, width, 0.4, 0.16]]))\n",
    "G = Variable(torch.cuda.FloatTensor([[goal_x, goal_y, 0.0]]))\n",
    "\n",
    "#(m    0.427092\n",
    "# µ    0.168765\n",
    "# w    0.140528\n",
    "# h    0.131601\n",
    "# dtype: float32, m    0.028424\n",
    "# µ    0.011184\n",
    "# w    0.009436\n",
    "# h    0.009934\n",
    "# dtype: float32)\n",
    "\n",
    "X, U, G = next(iter(dataloader_val))\n",
    "X = Variable(X.cuda())\n",
    "G = Variable(G.cuda())\n",
    "U = production_policy(X, G)\n",
    "π = π.cuda()\n",
    "plot_q(X=X, G=G, π=π)\n",
    "#print('Rotation:', U.cpu().data[0, -2])\n",
    "#print('Duration:', U.cpu().data[0, -1])\n",
    "π(norm_x(X), norm_y(G))[:1, :]"
   ]
  },
  {
   "cell_type": "code",
   "execution_count": 823,
   "metadata": {
    "collapsed": true
   },
   "outputs": [],
   "source": [
    "production_policy = production_policy.cpu()\n",
    "with open('saved_models/production_policy.pkl', 'wb') as f:\n",
    "    pickle.dump(production_policy.state_dict(), f)\n",
    "production_policy = production_policy.cuda()"
   ]
  },
  {
   "cell_type": "code",
   "execution_count": 23,
   "metadata": {},
   "outputs": [
    {
     "data": {
      "text/plain": [
       "(Variable containing:\n",
       " 1.00000e-02 *\n",
       "   2.1740\n",
       "  -2.8396\n",
       "  -3.6060\n",
       " [torch.FloatTensor of size 3], Variable containing:\n",
       "  0.1114\n",
       " -0.0344\n",
       " -1.3249\n",
       "  0.1277\n",
       " [torch.FloatTensor of size 4], Variable containing:\n",
       "  0.2101\n",
       " -0.1390\n",
       " -0.0360\n",
       "  0.1163\n",
       " [torch.FloatTensor of size 4])"
      ]
     },
     "execution_count": 23,
     "metadata": {},
     "output_type": "execute_result"
    }
   ],
   "source": [
    "production_policy.cpu()\n",
    "X, U, Y = next(iter(dataloader_val))\n",
    "X, U, Y = map(lambda x: Variable(x), [X, U, Y])\n",
    "Y[0], U[0], production_policy(X, Y)[0]"
   ]
  },
  {
   "cell_type": "code",
   "execution_count": 97,
   "metadata": {
    "collapsed": true
   },
   "outputs": [],
   "source": [
    "def gaussian_likelihood():\n",
    "    def f(µ, σ, y):\n",
    "        return (torch.log(σ) + 0.5 * (µ - y) * (µ - y) / (σ ** 2)).sum()\n",
    "    return f\n",
    "\n",
    "def multivariate_gaussian_likelihood(µ, L, y):\n",
    "    \"\"\"(Average) Negative log-likelihood of a multivariate gaussian.\n",
    "    \n",
    "    Notation below:\n",
    "    n = Number of samples\n",
    "    k = Dimensionality of gaussian variables\n",
    "\n",
    "    µ : Variable, dimensions: (n, k)\n",
    "    L : Lower triangular cholesky decomposition of the covariance matrices, that is LL' = Σ\n",
    "        dimensions: (n, k, k)\n",
    "    y : Variable, dimensions: (n, k)\n",
    "    \"\"\"\n",
    "    n, k = µ.size()\n",
    "    nll = Variable(torch.zeros(1))\n",
    "    if µ.data.is_cuda:\n",
    "        nll = nll.cuda()\n",
    "    for i in range(n):\n",
    "        l = L[i, :, :]\n",
    "        L_inv = torch.inverse(l)\n",
    "        Σ_inv = L_inv.transpose(0, 1) @ L_inv\n",
    "        d = y[i:i + 1, :] - µ[i:i + 1, :]\n",
    "        logdet = 2 * torch.log(l.diag()).sum()\n",
    "        nll += 0.5 * (\n",
    "            logdet +\n",
    "            (d @ Σ_inv @ d.transpose(0, 1)).sum() +\n",
    "            k * np.log(2 * np.pi)\n",
    "        )\n",
    "    return nll / n"
   ]
  },
  {
   "cell_type": "markdown",
   "metadata": {},
   "source": [
    "# Feasibility (MCMC)"
   ]
  },
  {
   "cell_type": "code",
   "execution_count": 90,
   "metadata": {
    "scrolled": false
   },
   "outputs": [
    {
     "data": {
      "image/png": "[encoded data removed]",
      "text/plain": [
       "<Figure size 432x288 with 2 Axes>"
      ]
     },
     "metadata": {},
     "output_type": "display_data"
    },
    {
     "data": {
      "text/plain": [
       "0.03149747475981712"
      ]
     },
     "execution_count": 90,
     "metadata": {},
     "output_type": "execute_result"
    }
   ],
   "source": [
    "class ExpectedDistanceProduction(torch.nn.Module):\n",
    "    \n",
    "    def __init__(self, policy, mean_model=None, variance_model=None, x_norm=None, u_norm=None, y_norm=None):\n",
    "        super(ExpectedDistanceProduction, self).__init__()\n",
    "        self.policy = policy\n",
    "        self.mean = mean_model\n",
    "        self.variance = variance_model\n",
    "        self.x_norm = x_norm\n",
    "        self.u_norm = u_norm\n",
    "        self.g_norm = y_norm\n",
    "        self.register_buffer(\n",
    "            'weights',\n",
    "            torch.FloatTensor([1.0, 1.0, 0.1, 0.1])\n",
    "        )\n",
    "        \n",
    "    def forward(self, x, g):\n",
    "        \"\"\"\n",
    "        Variables should not be normalized!\n",
    "        Goal is relative object! G_rel = (G - X)\n",
    "        Goal is normalized with same as Y = (X' - X)\n",
    "        \"\"\"\n",
    "        x = self.x_norm(x)\n",
    "        g = self.g_norm(g)\n",
    "        u = self.u_norm(self.policy(x, g))\n",
    "        mean = self.mean(x, u)\n",
    "        var = self.variance(x, u)\n",
    "        return ((var + (mean - g) ** 2) * Variable(self.weights)).sum(dim=1)\n",
    "    \n",
    "    \n",
    "edp = ExpectedDistanceProduction(π, mean_model=reward, variance_model=variance, x_norm=norm_x, u_norm=norm_u, y_norm=norm_y).cuda()\n",
    "X, U, G = next(iter(dataloader_val))\n",
    "X, U, G = map(lambda x: Variable(x.cuda()), [X, U, G])\n",
    "#X = Variable(torch.cuda.FloatTensor([[0.0, 0.2, 0.0, 0.1, 0.1, 0.05, 0.05]]))\n",
    "#G = Variable(torch.cuda.FloatTensor([[0.0, 0.1, 0.0]]))\n",
    "plot_q(X=X, G=G, π=π)\n",
    "edp.cpu()\n",
    "#with open('saved_models/expected_distance.pkl', 'wb') as f:\n",
    "#    pickle.dump(edp.state_dict(), f)\n",
    "edp.cuda()\n",
    "edp(X[:1, :], G[:1, :]).cpu().data[0]"
   ]
  },
  {
   "cell_type": "code",
   "execution_count": 351,
   "metadata": {},
   "outputs": [
    {
     "name": "stderr",
     "output_type": "stream",
     "text": [
      "/home/isacar/workspace/oracle_server/venv/lib/python3.5/site-packages/matplotlib/font_manager.py:1328: UserWarning: findfont: Font family ['serif'] not found. Falling back to DejaVu Sans\n",
      "  (prop.get_family(), self.defaultFamily[fontext]))\n"
     ]
    },
    {
     "data": {
      "image/png": "[encoded data removed]",
      "text/plain": [
       "<Figure size 432x288 with 1 Axes>"
      ]
     },
     "metadata": {},
     "output_type": "display_data"
    }
   ],
   "source": [
    "θs = np.linspace(-np.pi, np.pi, 100)\n",
    "ys = []\n",
    "for θ in θs:\n",
    "    d = 0.2\n",
    "    gd = 0.4\n",
    "    X = Variable(torch.cuda.FloatTensor([[np.cos(θ) * d, np.sin(θ) * d, 0.0, 0.1, 0.1, 0.2, 0.2]]))\n",
    "    G = Variable(torch.cuda.FloatTensor([[np.cos(θ) * gd, np.sin(θ) * gd, 1.0, 0.0]]))\n",
    "    ys.append(edp(X, G).cpu().data.numpy()[0])\n",
    "plt.plot(θs / np.pi * 180, ys)\n",
    "plt.ylim(0.0, 0.2)\n",
    "plt.show()"
   ]
  },
  {
   "cell_type": "code",
   "execution_count": 26,
   "metadata": {},
   "outputs": [
    {
     "name": "stdout",
     "output_type": "stream",
     "text": [
      "w    0.080502\n",
      "h    0.080502\n",
      "m    0.100451\n",
      "µ    0.100045\n",
      "dtype: float64\n",
      "w    0.119970\n",
      "h    0.119970\n",
      "m    0.199695\n",
      "µ    0.199982\n",
      "dtype: float64\n"
     ]
    }
   ],
   "source": [
    "print(dataset[['w', 'h', 'm', 'µ']].min())\n",
    "print(dataset[['w', 'h', 'm', 'µ']].max())"
   ]
  },
  {
   "cell_type": "code",
   "execution_count": 28,
   "metadata": {},
   "outputs": [
    {
     "data": {
      "image/png": "[encoded data removed]",
      "text/plain": [
       "<Figure size 432x288 with 1 Axes>"
      ]
     },
     "metadata": {},
     "output_type": "display_data"
    }
   ],
   "source": [
    "θs = np.linspace(-np.pi, np.pi, 256)\n",
    "ys = []\n",
    "θ_obj = 90 / 180 * np.pi\n",
    "d = 0.2\n",
    "k = 0.4\n",
    "m = 0.1\n",
    "µ = 0.2\n",
    "w = h = 0.1\n",
    "for θ in θs:\n",
    "    X = Variable(torch.cuda.FloatTensor([[np.cos(θ) * d, np.sin(θ) * d, 0.0, w, h, m, µ]]))\n",
    "    U = Variable(torch.cuda.FloatTensor([[k * np.cos(θ), k * np.sin(θ), 0.0, 0.4]]))\n",
    "    #U = Variable(torch.cuda.FloatTensor([[k * np.cos(θ_obj), k * np.sin(θ_obj), 0.0, 0.6]]))\n",
    "    ys.append(((norminv_y(variance(norm_x(X), norm_u(U)) ** 0.5)) ** 2)[0, :2].sum().data[0] ** 0.5)\n",
    "plt.ylim(0.0, 0.3)\n",
    "plt.plot(180 * θs / np.pi, ys)\n",
    "plt.show()"
   ]
  },
  {
   "cell_type": "markdown",
   "metadata": {},
   "source": [
    "# Closed form of MCMC\n",
    "- obj   : (width, height, mass, friction, dx, dy, dθ)\n",
    "- robot : (x_robot, y_robot, θ_robot)"
   ]
  },
  {
   "cell_type": "code",
   "execution_count": 171,
   "metadata": {},
   "outputs": [
    {
     "data": {
      "image/png": "[encoded data removed]",
      "text/plain": [
       "<Figure size 360x360 with 1 Axes>"
      ]
     },
     "metadata": {},
     "output_type": "display_data"
    },
    {
     "data": {
      "image/png": "[encoded data removed]",
      "text/plain": [
       "<Figure size 360x360 with 1 Axes>"
      ]
     },
     "metadata": {},
     "output_type": "display_data"
    },
    {
     "data": {
      "image/png": "[encoded data removed]",
      "text/plain": [
       "<Figure size 360x360 with 1 Axes>"
      ]
     },
     "metadata": {},
     "output_type": "display_data"
    }
   ],
   "source": [
    "def to_object_centric(X, Y):\n",
    "    \"\"\"\n",
    "    X : (obj_x, obj_y, obj_θ, width, height, mass, friction)\n",
    "    Y : (obj_x', obj_y', cos(obj_θ'), sin(obj_θ'))\n",
    "    returns (width, height, mass, friction, x', y', θ'), all in object frame\n",
    "    \"\"\"\n",
    "    res = torch.zeros(X.size(0), 7)\n",
    "    if X.is_cuda:\n",
    "        res = res.cuda()\n",
    "    res[:, 0] = X[:, 3] # width\n",
    "    res[:, 1] = X[:, 4] # height\n",
    "    res[:, 2] = X[:, 5] # mass\n",
    "    res[:, 3] = X[:, 6] # friction\n",
    "    θ = X[:, 2]\n",
    "    θ_ = torch.atan2(Y[:, 3], Y[:, 2])\n",
    "    # translate object successor state\n",
    "    Y_t = Y[:, :2] - X[:, :2]\n",
    "    res[:, 4] = Y_t[:, 0] * torch.cos(θ) + Y_t[:, 1] * torch.sin(θ)\n",
    "    res[:, 5] = -Y_t[:, 0] * torch.sin(θ) + Y_t[:, 1] * torch.cos(θ)\n",
    "    res[:, 6] = torch.atan2(torch.sin(θ_ - θ), torch.cos(θ_ - θ))\n",
    "    return res\n",
    "        \n",
    "def to_robot_centric(robot, obj):\n",
    "    \"\"\"\n",
    "    Expects (in object centric frame):\n",
    "    robot : (x_robot, y_robot, θ_robot)\n",
    "    obj   : (width, height, mass, friction, x', y', θ')\n",
    "    \n",
    "    Returns (in robot frame):\n",
    "    X : (obj_x, obj_y, obj_θ, width, height, mass, friction)\n",
    "    Y : (obj_x', obj_y', cos(obj_θ'), sin(obj_θ'))\n",
    "    \"\"\"\n",
    "    X = Variable(torch.zeros(robot.size(0), 7))\n",
    "    Y = Variable(torch.zeros(robot.size(0), 4))\n",
    "    if robot.is_cuda:\n",
    "        X = X.cuda()\n",
    "        Y = Y.cuda()\n",
    "    θr = robot[:, 2]\n",
    "    θo = obj[:, -1]\n",
    "    X[:, 0] = -robot[:, 0] * torch.cos(θr) - robot[:, 1] * torch.sin(θr)\n",
    "    X[:, 1] = robot[:, 0] * torch.sin(θr) - robot[:, 1] * torch.cos(θr)\n",
    "    X[:, 2] = torch.atan2(torch.sin(-θr), torch.cos(-θr))\n",
    "    X[:, 3] = obj[:, 0] # width\n",
    "    X[:, 4] = obj[:, 1] # height\n",
    "    X[:, 5] = obj[:, 2] # mass\n",
    "    X[:, 6] = obj[:, 3] # friction\n",
    "    Y[:, 0] = obj[:, 4] * torch.cos(θr) + obj[:, 5] * torch.sin(θr) + X[:, 0]\n",
    "    Y[:, 1] = -obj[:, 4] * torch.sin(θr) + obj[:, 5] * torch.cos(θr) + X[:, 1]\n",
    "    Y[:, 2] = torch.cos(θo - θr)\n",
    "    Y[:, 3] = torch.sin(θo - θr)\n",
    "    return X, Y\n",
    "\n",
    "def plot_robot_frame(X, Y):\n",
    "    fig = plt.figure(figsize=(5, 5))\n",
    "    plt.title('Robot frame')\n",
    "    plt.arrow(0, 0, 1.0, 0.0, color='red')\n",
    "    plt.arrow(0, 0, 0.0, 1.0, color='green')\n",
    "    plt.arrow(X[0, 0], X[0, 1], np.cos(X[0, 2]), np.sin(X[0, 2]), color='red')\n",
    "    plt.arrow(X[0, 0], X[0, 1], -np.sin(X[0, 2]), np.cos(X[0, 2]), color='green')\n",
    "    plt.arrow(Y[0, 0], Y[0, 1], Y[0, 2], Y[0, 3], color='red')\n",
    "    plt.arrow(Y[0, 0], Y[0, 1], -Y[0, 3], Y[0, 2], color='green')\n",
    "    plt.xlim(-2, 2)\n",
    "    plt.ylim(-2, 2)\n",
    "    plt.show()\n",
    "    \n",
    "def plot_object_frame(O, R):\n",
    "    fig = plt.figure(figsize=(5, 5))\n",
    "    plt.title('Object frame')\n",
    "    plt.arrow(0, 0, 1.0, 0.0, color='red')\n",
    "    plt.arrow(0, 0, 0.0, 1.0, color='green')\n",
    "    plt.arrow(R.data[0, 0], R.data[0, 1], np.cos(R.data[0, 2]), np.sin(R.data[0, 2]), color='red')\n",
    "    plt.arrow(R.data[0, 0], R.data[0, 1], -np.sin(R.data[0, 2]), np.cos(R.data[0, 2]), color='green')\n",
    "    plt.arrow(O.data[0, -3], O.data[0, -2], np.cos(O.data[0, -1]), np.sin(O.data[0, -1]), color='red')\n",
    "    plt.arrow(O.data[0, -3], O.data[0, -2], -np.sin(O.data[0, -1]), np.cos(O.data[0, -1]), color='green')\n",
    "    plt.xlim(-2, 2)\n",
    "    plt.ylim(-2, 2)\n",
    "    plt.show()\n",
    "\n",
    "X, U, Y = next(iter(dataloader_val))\n",
    "Y = Y.cuda()\n",
    "r_d = 1.0\n",
    "r_d_ = 1.3\n",
    "θ_dir = 0.2\n",
    "θ_dir_ = 0.3\n",
    "θ_obj = 0.2\n",
    "θ_obj_ = 0.3\n",
    "# Create variables\n",
    "X = torch.cuda.FloatTensor([[r_d * np.cos(θ_dir), r_d * np.sin(θ_dir), θ_obj, 0.1, 0.2, 0.3, 0.4]])\n",
    "Y = torch.cuda.FloatTensor([[r_d_ * np.cos(θ_dir_), r_d_ * np.sin(θ_dir_), np.cos(θ_obj_), np.sin(θ_obj_)]])\n",
    "plot_robot_frame(X, Y)\n",
    "\n",
    "O = Variable(to_object_centric(X[:1, :], Y[:1, :]))\n",
    "R = Variable(torch.cuda.FloatTensor([[-r_d * np.cos(θ_dir), -r_d * np.sin(θ_dir), -θ_obj]]))\n",
    "plot_object_frame(O, R)\n",
    "\n",
    "X, Y = to_robot_centric(R, O)\n",
    "plot_robot_frame(X.data, Y.data)"
   ]
  },
  {
   "cell_type": "code",
   "execution_count": 188,
   "metadata": {
    "scrolled": false
   },
   "outputs": [
    {
     "data": {
      "image/png": "[encoded data removed]",
      "text/plain": [
       "<Figure size 576x576 with 1 Axes>"
      ]
     },
     "metadata": {},
     "output_type": "display_data"
    },
    {
     "data": {
      "image/png": "[encoded data removed]",
      "text/plain": [
       "<Figure size 36x288 with 1 Axes>"
      ]
     },
     "metadata": {},
     "output_type": "display_data"
    }
   ],
   "source": [
    "class ObjectCentric2Energy(torch.nn.Module):\n",
    "    \n",
    "    def __init__(self, expected_distance_production):\n",
    "        super(ObjectCentric2Energy, self).__init__()\n",
    "        self.edp = expected_distance_production\n",
    "        \n",
    "    def forward(self, rob, obj):\n",
    "        X, Y = to_robot_centric(rob, obj)\n",
    "        U = edp(X, Y)\n",
    "        return U\n",
    "\n",
    "edp.eval()\n",
    "energy = ObjectCentric2Energy(edp.cuda())\n",
    "energy = energy.cuda()\n",
    "\n",
    "def initial_robot(obj):\n",
    "    \"\"\"\n",
    "    Proposes initial robot mcmc-particle\n",
    "    obj   : (width, height, mass, friction, dx, dy, dθ)\n",
    "    robot : (x_robot, y_robot, θ_robot)\n",
    "    \"\"\"\n",
    "    n = obj.size(0)\n",
    "    rob = torch.zeros(n, 3)\n",
    "    rob[:, :2] = torch.randn(n, 2) * 0.01\n",
    "    rob[:, -1] = (2 * torch.rand(n, 1) - 1) * np.pi\n",
    "    if obj.is_cuda:\n",
    "        return rob.cuda()\n",
    "    else:\n",
    "        return rob\n",
    "    \n",
    "def jump(rob):\n",
    "    \"\"\"\n",
    "    Proposes next robot mcmc-particle\n",
    "    robot : (x_robot, y_robot, θ_robot)\n",
    "    \"\"\"\n",
    "    n = rob.size(0)\n",
    "    rob_ = rob.clone()\n",
    "    rob_[:, :2] += torch.randn(n, 2).cuda() * 0.05\n",
    "    rob_[:, -1:] += torch.randn(n, 1).cuda() * 0.5\n",
    "    rob_[:, -1:] = torch.atan2(torch.sin(rob_[:, -1]), torch.cos(rob_[:, -1]))\n",
    "    return rob_\n",
    "\n",
    "logger = SummaryWriter('./runs/dual-point-data-gen')\n",
    "step = 0\n",
    "\n",
    "plt.close()\n",
    "plot = True\n",
    "i = np.random.randint(0, 256)\n",
    "i = 0\n",
    "#dataset_feasibility = []\n",
    "for X, U, Y in dataloader_train:\n",
    "    r_d = 0.0\n",
    "    θ_dir = 0.0\n",
    "    θ_obj = θ_obj_ = 0.0\n",
    "    r_d_ = 0.3\n",
    "    θ_dir_ = 0.0\n",
    "    X = torch.cuda.FloatTensor([[r_d * np.cos(θ_dir), r_d * np.sin(θ_dir), θ_obj, 0.1, 0.1, 0.1, 0.1]])\n",
    "    Y = torch.cuda.FloatTensor([[r_d_ * np.cos(θ_dir_), r_d_ * np.sin(θ_dir_), np.cos(θ_obj_), np.sin(θ_obj_)]])\n",
    "    n = X.size(0)\n",
    "    obj = to_object_centric(X, Y).cuda()\n",
    "    rob = initial_robot(obj)\n",
    "    n_timesteps = 400\n",
    "    for t in range(n_timesteps):\n",
    "        X, Y = to_robot_centric(Variable(rob), Variable(obj))\n",
    "        e = edp(X, Y)\n",
    "        rob_ = jump(rob)\n",
    "        X_, Y_ = to_robot_centric(Variable(rob_), Variable(obj))\n",
    "        e_ = edp(X_, Y_)\n",
    "        u = torch.rand(n, 1).cuda()\n",
    "        temp = 128\n",
    "        α = torch.exp(temp * (e.data - e_.data)).view(-1, 1)\n",
    "        accept = (u < α).float()\n",
    "        rob = accept * rob_ + (1 - accept) * rob\n",
    "        if plot and t == 0:\n",
    "            plt.figure(figsize=(8, 8))\n",
    "            plt.plot(0, 0, 'go')\n",
    "            plt.plot(obj[i, -3], obj[i, -2], 'ro')\n",
    "        if t > 100:\n",
    "            rob_np = np.zeros((n, 4))\n",
    "            rob_np[:, :2] = rob.cpu().numpy()[:, :2]\n",
    "            rob_np[:, 2] = np.cos(rob.cpu().numpy()[:, -1])\n",
    "            rob_np[:, 3] = np.sin(rob.cpu().numpy()[:, -1])\n",
    "            θ = rob[i, -1]\n",
    "            if plot:\n",
    "                hue = (θ + np.pi) / (2 * np.pi)\n",
    "                plt.plot(rob_np[i, 0], rob_np[i, 1], '.', color=hsv_to_rgb((hue, 1, 1.0)), markersize=20.0)\n",
    "            dataset_feasibility.extend([(o.cpu().numpy(), r) for o, r in zip(obj, rob_np)])\n",
    "            #logger.add_scalar('n_samples', len(dataset_feasibility), step)\n",
    "            step += 1\n",
    "    break\n",
    "    #if len(dataset_feasibility) > 2000000:\n",
    "    #    break\n",
    "\n",
    "if plot:\n",
    "    plt.xlim(-0.6, 0.6)\n",
    "    plt.ylim(-0.6, 0.6)\n",
    "    plt.show()\n",
    "    plt.figure(figsize=(0.5, 4))\n",
    "    for θ in np.linspace(-np.pi, np.pi, 640):\n",
    "        hue = (θ + np.pi) / (2 * np.pi)\n",
    "        plt.plot([0, 0.1], [θ / np.pi * 180] * 2, color=hsv_to_rgb((hue, 1, 1.0)), markersize=1)\n",
    "    plt.ylim([-180, 180])\n",
    "    plt.yticks([-180, -135, -90, -45, 0, 45, 90, 135, 180])\n",
    "    plt.xticks([])\n",
    "    plt.ylabel('Robot orientation')\n",
    "    plt.show()"
   ]
  },
  {
   "cell_type": "code",
   "execution_count": 187,
   "metadata": {},
   "outputs": [
    {
     "data": {
      "text/plain": [
       "98304"
      ]
     },
     "execution_count": 187,
     "metadata": {},
     "output_type": "execute_result"
    }
   ],
   "source": [
    "with open('./dataset_feasibility_dot.pkl', 'wb') as f:\n",
    "    pickle.dump(dataset_feasibility, f)\n",
    "#with open('./dataset_feasibility.pkl', 'rb') as f:\n",
    "#    dataset_feasibility = pickle.load(f)\n",
    "len(dataset_feasibility)"
   ]
  },
  {
   "cell_type": "code",
   "execution_count": 329,
   "metadata": {
    "scrolled": true
   },
   "outputs": [
    {
     "data": {
      "text/plain": [
       "array([[1.16729033, 0.89244407, 0.99999994, 0.99999934]])"
      ]
     },
     "execution_count": 329,
     "metadata": {},
     "output_type": "execute_result"
    }
   ],
   "source": [
    "# obj   : (width, height, mass, friction, dx, dy, dθ)\n",
    "# robot : (x_robot, y_robot, θ_robot)\n",
    "#np.array([sample[0] for sample in dataset_feasibility[:1000]]).std(axis=0).reshape(1, -1)\n",
    "np.array([sample[1] for sample in dataset_feasibility[:1000]]).max(axis=0).reshape(1, -1)"
   ]
  },
  {
   "cell_type": "code",
   "execution_count": 330,
   "metadata": {},
   "outputs": [],
   "source": [
    "# Normalize target distribution\n",
    "robot_norm = Normalization(4)\n",
    "robot_norm.std = torch.cuda.FloatTensor([1.2, 1.2, 1.0, 1.0]) # picked by eyeballing, first two are maximum\n",
    "\n",
    "robot_norminv = NormalizationInverse(4)\n",
    "robot_norminv.std = robot_norm.std\n",
    "\n",
    "robot_norm = robot_norm.cuda()\n",
    "robot_norminv = robot_norminv.cuda()\n",
    "\n",
    "# Normalize input data\n",
    "obs_norm = Normalization(7)\n",
    "obs_mean = np.array([sample[0] for sample in dataset_feasibility[:1000]]).mean(axis=0)\n",
    "obs_std = np.array([sample[0] for sample in dataset_feasibility[:1000]]).std(axis=0)\n",
    "obs_norm.mean = torch.from_numpy(obs_mean).float().cuda()\n",
    "obs_norm.std = torch.from_numpy(obs_std).float().cuda()\n",
    "\n",
    "obs_norminv = NormalizationInverse(7)\n",
    "obs_norminv.mean = obs_norm.mean\n",
    "obs_norminv.std = obs_norm.std\n",
    "\n",
    "obs_norm = obs_norm.cuda()\n",
    "obs_norminv = obs_norminv.cuda()"
   ]
  },
  {
   "cell_type": "code",
   "execution_count": 340,
   "metadata": {},
   "outputs": [],
   "source": [
    "class FeasibilityGenerator(torch.nn.Module):\n",
    "    \n",
    "    def __init__(self):\n",
    "        super(FeasibilityGenerator, self).__init__()\n",
    "        observation_size = 7\n",
    "        output_size = 4\n",
    "        self.latent_size = 5\n",
    "        hidden_size = 512\n",
    "        input_size = self.latent_size + observation_size\n",
    "        self.fc1 = torch.nn.Linear(input_size, hidden_size)\n",
    "        self.norm2 = torch.nn.BatchNorm1d(hidden_size)\n",
    "        self.fc2 = torch.nn.Linear(hidden_size, hidden_size)\n",
    "        self.norm3 = torch.nn.BatchNorm1d(hidden_size)\n",
    "        self.fc3 = torch.nn.Linear(hidden_size, hidden_size)\n",
    "        self.norm4 = torch.nn.BatchNorm1d(hidden_size)\n",
    "        self.fc4 = torch.nn.Linear(hidden_size, hidden_size)\n",
    "        self.fcy = torch.nn.Linear(hidden_size, output_size)\n",
    "        self.train()\n",
    "    \n",
    "    def forward(self, obj):\n",
    "        \"\"\"\n",
    "        Expects obj: (width, height, dx, dy, dθ)\n",
    "        \"\"\"\n",
    "        z = Variable(torch.randn(obj.size(0), self.latent_size))\n",
    "        if obj.is_cuda:\n",
    "            z = z.cuda()\n",
    "        inputs = torch.cat([obj, z], dim=1)\n",
    "        y1 = self.fc1(inputs)\n",
    "        y2 = self.fc2(F.relu(self.norm2(y1))) + y1\n",
    "        y3 = self.fc3(F.relu(self.norm3(y2))) + y2\n",
    "        y4 = self.fc4(F.relu(self.norm4(y3))) + y3\n",
    "        y = F.tanh(self.fcy(y4))\n",
    "        return y\n",
    "\n",
    "\n",
    "class Discriminator(torch.nn.Module):\n",
    "    \n",
    "    def __init__(self):\n",
    "        super(Discriminator, self).__init__()\n",
    "        input_size = 7 + 4\n",
    "        hidden_size = 512\n",
    "        self.fc1 = torch.nn.Linear(input_size, hidden_size)\n",
    "        self.fc2 = torch.nn.Linear(hidden_size, hidden_size)\n",
    "        self.fc3 = torch.nn.Linear(hidden_size, hidden_size)\n",
    "        self.fc4 = torch.nn.Linear(hidden_size, hidden_size)\n",
    "        self.fcy = torch.nn.Linear(hidden_size, 1)\n",
    "        self.train()\n",
    "        \n",
    "    def forward(self, obj, rob):\n",
    "        inputs = torch.cat([obj, rob], dim=1)\n",
    "        y1 = self.fc1(inputs)\n",
    "        y2 = self.fc2(F.relu(y1)) + y1\n",
    "        y3 = self.fc3(F.relu(y2)) + y2\n",
    "        y4 = self.fc4(F.relu(y3)) + y3\n",
    "        logit = self.fcy(y4)\n",
    "        y = F.sigmoid(logit)\n",
    "        return logit, y\n",
    "    \n",
    "generator = FeasibilityGenerator()"
   ]
  },
  {
   "cell_type": "code",
   "execution_count": 118,
   "metadata": {},
   "outputs": [],
   "source": [
    "def configure_latex():\n",
    "    \"\"\" \n",
    "        Configure matplotlib to use latex in a pretty way\n",
    "    \"\"\"\n",
    "    plt.rcParams.update({\n",
    "        'font.family': 'sans',\n",
    "        'font.serif': 'Palatino',\n",
    "        'font.size': 12, \n",
    "        'legend.fontsize': 14, \n",
    "        'legend.labelspacing': 0,\n",
    "        'text.usetex': True,\n",
    "        'savefig.dpi': 300})\n",
    "\n",
    "\n",
    "def simplify_axis(axis):\n",
    "    \"\"\" \n",
    "        Simplify axis\n",
    "    \"\"\"\n",
    "    axis.set_frame_on(False)\n",
    "    xmin, xmax = axis.get_xaxis().get_view_interval()\n",
    "    ymin, ymax = axis.get_yaxis().get_view_interval()\n",
    "    axis.add_artist(plt.Line2D((xmin, xmin), (ymin, ymax), color='black',\n",
    "                               linewidth=1, zorder=100, clip_on=False))\n",
    "    axis.add_artist(plt.Line2D((xmin, xmax), (ymin, ymin), color='black',\n",
    "                               linewidth=1, zorder=100, clip_on=False))\n",
    "    axis.get_yaxis().tick_left()\n",
    "    axis.get_xaxis().tick_bottom()\n",
    "\n",
    "\n",
    "def save_fig(fig_name, width=9, height=5):\n",
    "    \"\"\" \n",
    "        Save the current figure under filename fig_name\n",
    "    \"\"\"\n",
    "    plt.gcf().set_size_inches((width, height))\n",
    "    simplify_axis(plt.gca())\n",
    "    plt.savefig(fig_name, bbox_inches='tight', pad_inches=0.02)\n",
    "    plt.close()\n",
    "    \n",
    "configure_latex()"
   ]
  },
  {
   "cell_type": "code",
   "execution_count": 342,
   "metadata": {},
   "outputs": [
    {
     "data": {
      "text/html": [
       "<div>\n",
       "<style scoped>\n",
       "    .dataframe tbody tr th:only-of-type {\n",
       "        vertical-align: middle;\n",
       "    }\n",
       "\n",
       "    .dataframe tbody tr th {\n",
       "        vertical-align: top;\n",
       "    }\n",
       "\n",
       "    .dataframe thead th {\n",
       "        text-align: right;\n",
       "    }\n",
       "</style>\n",
       "<table border=\"1\" class=\"dataframe\">\n",
       "  <thead>\n",
       "    <tr style=\"text-align: right;\">\n",
       "      <th></th>\n",
       "      <th>x0</th>\n",
       "      <th>x1</th>\n",
       "      <th>x2</th>\n",
       "      <th>y0</th>\n",
       "      <th>y1</th>\n",
       "      <th>y2</th>\n",
       "      <th>x_0</th>\n",
       "      <th>x_1</th>\n",
       "      <th>x_2</th>\n",
       "      <th>y_0</th>\n",
       "      <th>...</th>\n",
       "      <th>u1</th>\n",
       "      <th>u2</th>\n",
       "      <th>u3</th>\n",
       "      <th>u4</th>\n",
       "      <th>w</th>\n",
       "      <th>h</th>\n",
       "      <th>m</th>\n",
       "      <th>I</th>\n",
       "      <th>µ</th>\n",
       "      <th>type</th>\n",
       "    </tr>\n",
       "  </thead>\n",
       "  <tbody>\n",
       "    <tr>\n",
       "      <th>5</th>\n",
       "      <td>0</td>\n",
       "      <td>0</td>\n",
       "      <td>0</td>\n",
       "      <td>-0.032251</td>\n",
       "      <td>0.384002</td>\n",
       "      <td>2.222710</td>\n",
       "      <td>-0.183518</td>\n",
       "      <td>0.174064</td>\n",
       "      <td>-1.084980</td>\n",
       "      <td>-0.032251</td>\n",
       "      <td>...</td>\n",
       "      <td>0.167967</td>\n",
       "      <td>-1.050920</td>\n",
       "      <td>0.292832</td>\n",
       "      <td>0.01</td>\n",
       "      <td>0.108336</td>\n",
       "      <td>0.108336</td>\n",
       "      <td>0.152923</td>\n",
       "      <td>0.000202</td>\n",
       "      <td>0.104125</td>\n",
       "      <td>Octaeder</td>\n",
       "    </tr>\n",
       "    <tr>\n",
       "      <th>6</th>\n",
       "      <td>0</td>\n",
       "      <td>0</td>\n",
       "      <td>0</td>\n",
       "      <td>0.049536</td>\n",
       "      <td>-0.225697</td>\n",
       "      <td>-0.105058</td>\n",
       "      <td>-0.039715</td>\n",
       "      <td>0.603732</td>\n",
       "      <td>1.132510</td>\n",
       "      <td>0.049536</td>\n",
       "      <td>...</td>\n",
       "      <td>0.497471</td>\n",
       "      <td>0.938167</td>\n",
       "      <td>0.547183</td>\n",
       "      <td>0.01</td>\n",
       "      <td>0.101483</td>\n",
       "      <td>0.101483</td>\n",
       "      <td>0.188412</td>\n",
       "      <td>0.000219</td>\n",
       "      <td>0.168267</td>\n",
       "      <td>Octaeder</td>\n",
       "    </tr>\n",
       "    <tr>\n",
       "      <th>7</th>\n",
       "      <td>0</td>\n",
       "      <td>0</td>\n",
       "      <td>0</td>\n",
       "      <td>-0.048466</td>\n",
       "      <td>0.129591</td>\n",
       "      <td>0.314218</td>\n",
       "      <td>-0.475279</td>\n",
       "      <td>0.179233</td>\n",
       "      <td>-1.056290</td>\n",
       "      <td>-0.048466</td>\n",
       "      <td>...</td>\n",
       "      <td>0.173073</td>\n",
       "      <td>-1.027250</td>\n",
       "      <td>0.305390</td>\n",
       "      <td>0.01</td>\n",
       "      <td>0.098693</td>\n",
       "      <td>0.098693</td>\n",
       "      <td>0.190360</td>\n",
       "      <td>0.000209</td>\n",
       "      <td>0.128066</td>\n",
       "      <td>Octaeder</td>\n",
       "    </tr>\n",
       "    <tr>\n",
       "      <th>15</th>\n",
       "      <td>0</td>\n",
       "      <td>0</td>\n",
       "      <td>0</td>\n",
       "      <td>-0.465138</td>\n",
       "      <td>-0.185059</td>\n",
       "      <td>1.127320</td>\n",
       "      <td>0.367503</td>\n",
       "      <td>-0.093942</td>\n",
       "      <td>-0.093196</td>\n",
       "      <td>-0.465138</td>\n",
       "      <td>...</td>\n",
       "      <td>-0.129031</td>\n",
       "      <td>-0.128457</td>\n",
       "      <td>0.475490</td>\n",
       "      <td>0.01</td>\n",
       "      <td>0.107839</td>\n",
       "      <td>0.107839</td>\n",
       "      <td>0.116689</td>\n",
       "      <td>0.000153</td>\n",
       "      <td>0.192796</td>\n",
       "      <td>Octaeder</td>\n",
       "    </tr>\n",
       "    <tr>\n",
       "      <th>20</th>\n",
       "      <td>0</td>\n",
       "      <td>0</td>\n",
       "      <td>0</td>\n",
       "      <td>0.029955</td>\n",
       "      <td>-0.241780</td>\n",
       "      <td>-0.859790</td>\n",
       "      <td>0.106801</td>\n",
       "      <td>-0.255355</td>\n",
       "      <td>0.063953</td>\n",
       "      <td>0.063409</td>\n",
       "      <td>...</td>\n",
       "      <td>-0.517061</td>\n",
       "      <td>0.562199</td>\n",
       "      <td>0.095095</td>\n",
       "      <td>0.52</td>\n",
       "      <td>0.104455</td>\n",
       "      <td>0.104455</td>\n",
       "      <td>0.131438</td>\n",
       "      <td>0.000162</td>\n",
       "      <td>0.104246</td>\n",
       "      <td>Octaeder</td>\n",
       "    </tr>\n",
       "  </tbody>\n",
       "</table>\n",
       "<p>5 rows × 23 columns</p>\n",
       "</div>"
      ],
      "text/plain": [
       "    x0  x1  x2        y0        y1        y2       x_0       x_1       x_2  \\\n",
       "5    0   0   0 -0.032251  0.384002  2.222710 -0.183518  0.174064 -1.084980   \n",
       "6    0   0   0  0.049536 -0.225697 -0.105058 -0.039715  0.603732  1.132510   \n",
       "7    0   0   0 -0.048466  0.129591  0.314218 -0.475279  0.179233 -1.056290   \n",
       "15   0   0   0 -0.465138 -0.185059  1.127320  0.367503 -0.093942 -0.093196   \n",
       "20   0   0   0  0.029955 -0.241780 -0.859790  0.106801 -0.255355  0.063953   \n",
       "\n",
       "         y_0    ...            u1        u2        u3    u4         w  \\\n",
       "5  -0.032251    ...      0.167967 -1.050920  0.292832  0.01  0.108336   \n",
       "6   0.049536    ...      0.497471  0.938167  0.547183  0.01  0.101483   \n",
       "7  -0.048466    ...      0.173073 -1.027250  0.305390  0.01  0.098693   \n",
       "15 -0.465138    ...     -0.129031 -0.128457  0.475490  0.01  0.107839   \n",
       "20  0.063409    ...     -0.517061  0.562199  0.095095  0.52  0.104455   \n",
       "\n",
       "           h         m         I         µ       type  \n",
       "5   0.108336  0.152923  0.000202  0.104125   Octaeder  \n",
       "6   0.101483  0.188412  0.000219  0.168267   Octaeder  \n",
       "7   0.098693  0.190360  0.000209  0.128066   Octaeder  \n",
       "15  0.107839  0.116689  0.000153  0.192796   Octaeder  \n",
       "20  0.104455  0.131438  0.000162  0.104246   Octaeder  \n",
       "\n",
       "[5 rows x 23 columns]"
      ]
     },
     "execution_count": 342,
     "metadata": {},
     "output_type": "execute_result"
    }
   ],
   "source": [
    "dataset.head()"
   ]
  },
  {
   "cell_type": "code",
   "execution_count": 166,
   "metadata": {},
   "outputs": [
    {
     "name": "stderr",
     "output_type": "stream",
     "text": [
      "/home/isacar/workspace/oracle_server/venv/lib/python3.5/site-packages/matplotlib/textpath.py:389: UserWarning: The glyph (48) of font (/usr/share/texlive/texmf-dist/fonts/type1/urw/palatino/uplr8a.pfb) cannot be converted with the encoding. Glyph may be wrong\n",
      "  \"be wrong\" % (glyph, font_bunch.filename))\n",
      "/home/isacar/workspace/oracle_server/venv/lib/python3.5/site-packages/matplotlib/textpath.py:389: UserWarning: The glyph (46) of font (/usr/share/texlive/texmf-dist/fonts/type1/urw/palatino/uplr8a.pfb) cannot be converted with the encoding. Glyph may be wrong\n",
      "  \"be wrong\" % (glyph, font_bunch.filename))\n",
      "/home/isacar/workspace/oracle_server/venv/lib/python3.5/site-packages/matplotlib/textpath.py:389: UserWarning: The glyph (53) of font (/usr/share/texlive/texmf-dist/fonts/type1/urw/palatino/uplr8a.pfb) cannot be converted with the encoding. Glyph may be wrong\n",
      "  \"be wrong\" % (glyph, font_bunch.filename))\n",
      "/home/isacar/workspace/oracle_server/venv/lib/python3.5/site-packages/matplotlib/textpath.py:389: UserWarning: The glyph (120) of font (/usr/share/texlive/texmf-dist/fonts/type1/urw/palatino/uplri8a.pfb) cannot be converted with the encoding. Glyph may be wrong\n",
      "  \"be wrong\" % (glyph, font_bunch.filename))\n",
      "/home/isacar/workspace/oracle_server/venv/lib/python3.5/site-packages/matplotlib/textpath.py:389: UserWarning: The glyph (40) of font (/usr/share/texlive/texmf-dist/fonts/type1/urw/palatino/uplr8a.pfb) cannot be converted with the encoding. Glyph may be wrong\n",
      "  \"be wrong\" % (glyph, font_bunch.filename))\n",
      "/home/isacar/workspace/oracle_server/venv/lib/python3.5/site-packages/matplotlib/textpath.py:389: UserWarning: The glyph (109) of font (/usr/share/texlive/texmf-dist/fonts/type1/urw/palatino/uplr8a.pfb) cannot be converted with the encoding. Glyph may be wrong\n",
      "  \"be wrong\" % (glyph, font_bunch.filename))\n",
      "/home/isacar/workspace/oracle_server/venv/lib/python3.5/site-packages/matplotlib/textpath.py:389: UserWarning: The glyph (41) of font (/usr/share/texlive/texmf-dist/fonts/type1/urw/palatino/uplr8a.pfb) cannot be converted with the encoding. Glyph may be wrong\n",
      "  \"be wrong\" % (glyph, font_bunch.filename))\n",
      "/home/isacar/workspace/oracle_server/venv/lib/python3.5/site-packages/matplotlib/textpath.py:389: UserWarning: The glyph (52) of font (/usr/share/texlive/texmf-dist/fonts/type1/urw/palatino/uplr8a.pfb) cannot be converted with the encoding. Glyph may be wrong\n",
      "  \"be wrong\" % (glyph, font_bunch.filename))\n",
      "/home/isacar/workspace/oracle_server/venv/lib/python3.5/site-packages/matplotlib/textpath.py:389: UserWarning: The glyph (50) of font (/usr/share/texlive/texmf-dist/fonts/type1/urw/palatino/uplr8a.pfb) cannot be converted with the encoding. Glyph may be wrong\n",
      "  \"be wrong\" % (glyph, font_bunch.filename))\n",
      "/home/isacar/workspace/oracle_server/venv/lib/python3.5/site-packages/matplotlib/textpath.py:389: UserWarning: The glyph (121) of font (/usr/share/texlive/texmf-dist/fonts/type1/urw/palatino/uplri8a.pfb) cannot be converted with the encoding. Glyph may be wrong\n",
      "  \"be wrong\" % (glyph, font_bunch.filename))\n",
      "/home/isacar/workspace/oracle_server/venv/lib/python3.5/site-packages/matplotlib/textpath.py:389: UserWarning: The glyph (49) of font (/usr/share/texlive/texmf-dist/fonts/type1/urw/palatino/uplr8a.pfb) cannot be converted with the encoding. Glyph may be wrong\n",
      "  \"be wrong\" % (glyph, font_bunch.filename))\n",
      "/home/isacar/workspace/oracle_server/venv/lib/python3.5/site-packages/matplotlib/textpath.py:389: UserWarning: The glyph (56) of font (/usr/share/texlive/texmf-dist/fonts/type1/urw/palatino/uplr8a.pfb) cannot be converted with the encoding. Glyph may be wrong\n",
      "  \"be wrong\" % (glyph, font_bunch.filename))\n",
      "/home/isacar/workspace/oracle_server/venv/lib/python3.5/site-packages/matplotlib/textpath.py:389: UserWarning: The glyph (51) of font (/usr/share/texlive/texmf-dist/fonts/type1/urw/palatino/uplr8a.pfb) cannot be converted with the encoding. Glyph may be wrong\n",
      "  \"be wrong\" % (glyph, font_bunch.filename))\n",
      "/home/isacar/workspace/oracle_server/venv/lib/python3.5/site-packages/matplotlib/textpath.py:389: UserWarning: The glyph (57) of font (/usr/share/texlive/texmf-dist/fonts/type1/urw/palatino/uplr8a.pfb) cannot be converted with the encoding. Glyph may be wrong\n",
      "  \"be wrong\" % (glyph, font_bunch.filename))\n",
      "/home/isacar/workspace/oracle_server/venv/lib/python3.5/site-packages/matplotlib/textpath.py:389: UserWarning: The glyph (82) of font (/usr/share/texlive/texmf-dist/fonts/type1/urw/palatino/uplr8a.pfb) cannot be converted with the encoding. Glyph may be wrong\n",
      "  \"be wrong\" % (glyph, font_bunch.filename))\n",
      "/home/isacar/workspace/oracle_server/venv/lib/python3.5/site-packages/matplotlib/textpath.py:389: UserWarning: The glyph (111) of font (/usr/share/texlive/texmf-dist/fonts/type1/urw/palatino/uplr8a.pfb) cannot be converted with the encoding. Glyph may be wrong\n",
      "  \"be wrong\" % (glyph, font_bunch.filename))\n",
      "/home/isacar/workspace/oracle_server/venv/lib/python3.5/site-packages/matplotlib/textpath.py:389: UserWarning: The glyph (98) of font (/usr/share/texlive/texmf-dist/fonts/type1/urw/palatino/uplr8a.pfb) cannot be converted with the encoding. Glyph may be wrong\n",
      "  \"be wrong\" % (glyph, font_bunch.filename))\n",
      "/home/isacar/workspace/oracle_server/venv/lib/python3.5/site-packages/matplotlib/textpath.py:389: UserWarning: The glyph (111) of font (/usr/share/texlive/texmf-dist/fonts/type1/urw/palatino/uplr8a.pfb) cannot be converted with the encoding. Glyph may be wrong\n",
      "  \"be wrong\" % (glyph, font_bunch.filename))\n",
      "/home/isacar/workspace/oracle_server/venv/lib/python3.5/site-packages/matplotlib/textpath.py:389: UserWarning: The glyph (116) of font (/usr/share/texlive/texmf-dist/fonts/type1/urw/palatino/uplr8a.pfb) cannot be converted with the encoding. Glyph may be wrong\n",
      "  \"be wrong\" % (glyph, font_bunch.filename))\n",
      "/home/isacar/workspace/oracle_server/venv/lib/python3.5/site-packages/matplotlib/textpath.py:389: UserWarning: The glyph (111) of font (/usr/share/texlive/texmf-dist/fonts/type1/urw/palatino/uplr8a.pfb) cannot be converted with the encoding. Glyph may be wrong\n",
      "  \"be wrong\" % (glyph, font_bunch.filename))\n",
      "/home/isacar/workspace/oracle_server/venv/lib/python3.5/site-packages/matplotlib/textpath.py:389: UserWarning: The glyph (114) of font (/usr/share/texlive/texmf-dist/fonts/type1/urw/palatino/uplr8a.pfb) cannot be converted with the encoding. Glyph may be wrong\n",
      "  \"be wrong\" % (glyph, font_bunch.filename))\n",
      "/home/isacar/workspace/oracle_server/venv/lib/python3.5/site-packages/matplotlib/textpath.py:389: UserWarning: The glyph (105) of font (/usr/share/texlive/texmf-dist/fonts/type1/urw/palatino/uplr8a.pfb) cannot be converted with the encoding. Glyph may be wrong\n",
      "  \"be wrong\" % (glyph, font_bunch.filename))\n",
      "/home/isacar/workspace/oracle_server/venv/lib/python3.5/site-packages/matplotlib/textpath.py:389: UserWarning: The glyph (101) of font (/usr/share/texlive/texmf-dist/fonts/type1/urw/palatino/uplr8a.pfb) cannot be converted with the encoding. Glyph may be wrong\n",
      "  \"be wrong\" % (glyph, font_bunch.filename))\n",
      "/home/isacar/workspace/oracle_server/venv/lib/python3.5/site-packages/matplotlib/textpath.py:389: UserWarning: The glyph (110) of font (/usr/share/texlive/texmf-dist/fonts/type1/urw/palatino/uplr8a.pfb) cannot be converted with the encoding. Glyph may be wrong\n",
      "  \"be wrong\" % (glyph, font_bunch.filename))\n",
      "/home/isacar/workspace/oracle_server/venv/lib/python3.5/site-packages/matplotlib/textpath.py:389: UserWarning: The glyph (116) of font (/usr/share/texlive/texmf-dist/fonts/type1/urw/palatino/uplr8a.pfb) cannot be converted with the encoding. Glyph may be wrong\n",
      "  \"be wrong\" % (glyph, font_bunch.filename))\n",
      "/home/isacar/workspace/oracle_server/venv/lib/python3.5/site-packages/matplotlib/textpath.py:389: UserWarning: The glyph (97) of font (/usr/share/texlive/texmf-dist/fonts/type1/urw/palatino/uplr8a.pfb) cannot be converted with the encoding. Glyph may be wrong\n",
      "  \"be wrong\" % (glyph, font_bunch.filename))\n",
      "/home/isacar/workspace/oracle_server/venv/lib/python3.5/site-packages/matplotlib/textpath.py:389: UserWarning: The glyph (116) of font (/usr/share/texlive/texmf-dist/fonts/type1/urw/palatino/uplr8a.pfb) cannot be converted with the encoding. Glyph may be wrong\n",
      "  \"be wrong\" % (glyph, font_bunch.filename))\n"
     ]
    },
    {
     "ename": "KeyboardInterrupt",
     "evalue": "",
     "output_type": "error",
     "traceback": [
      "\u001b[0;31m---------------------------------------------------------------------------\u001b[0m",
      "\u001b[0;31mKeyboardInterrupt\u001b[0m                         Traceback (most recent call last)",
      "\u001b[0;32m<ipython-input-166-7256c1d829b4>\u001b[0m in \u001b[0;36m<module>\u001b[0;34m()\u001b[0m\n\u001b[1;32m     52\u001b[0m \u001b[0mgenerator\u001b[0m\u001b[0;34m.\u001b[0m\u001b[0mload_state_dict\u001b[0m\u001b[0;34m(\u001b[0m\u001b[0mstate_dict\u001b[0m\u001b[0;34m)\u001b[0m\u001b[0;34m\u001b[0m\u001b[0m\n\u001b[1;32m     53\u001b[0m \u001b[0mgenerator\u001b[0m \u001b[0;34m=\u001b[0m \u001b[0mgenerator\u001b[0m\u001b[0;34m.\u001b[0m\u001b[0mcuda\u001b[0m\u001b[0;34m(\u001b[0m\u001b[0;34m)\u001b[0m\u001b[0;34m\u001b[0m\u001b[0m\n\u001b[0;32m---> 54\u001b[0;31m \u001b[0mplot_generator\u001b[0m\u001b[0;34m(\u001b[0m\u001b[0mgenerator\u001b[0m\u001b[0;34m,\u001b[0m \u001b[0;36m30000\u001b[0m\u001b[0;34m,\u001b[0m \u001b[0mpath\u001b[0m\u001b[0;34m=\u001b[0m\u001b[0;34m'/home/isacar/workspace/ra-l-2017-rearrangement/paper/figures/gan-samples-dual-point.svg'\u001b[0m\u001b[0;34m)\u001b[0m\u001b[0;34m\u001b[0m\u001b[0m\n\u001b[0m\u001b[1;32m     55\u001b[0m \u001b[0;31m#plot_generator(generator, 30000)\u001b[0m\u001b[0;34m\u001b[0m\u001b[0;34m\u001b[0m\u001b[0m\n",
      "\u001b[0;32m<ipython-input-166-7256c1d829b4>\u001b[0m in \u001b[0;36mplot_generator\u001b[0;34m(generator, iteration, path, k)\u001b[0m\n\u001b[1;32m     40\u001b[0m \u001b[0;34m\u001b[0m\u001b[0m\n\u001b[1;32m     41\u001b[0m     \u001b[0;32mif\u001b[0m \u001b[0mpath\u001b[0m\u001b[0;34m:\u001b[0m\u001b[0;34m\u001b[0m\u001b[0m\n\u001b[0;32m---> 42\u001b[0;31m         \u001b[0msave_fig\u001b[0m\u001b[0;34m(\u001b[0m\u001b[0mpath\u001b[0m\u001b[0;34m,\u001b[0m \u001b[0mwidth\u001b[0m\u001b[0;34m=\u001b[0m\u001b[0mfig_w\u001b[0m\u001b[0;34m,\u001b[0m \u001b[0mheight\u001b[0m\u001b[0;34m=\u001b[0m\u001b[0mfig_h\u001b[0m\u001b[0;34m)\u001b[0m\u001b[0;34m\u001b[0m\u001b[0m\n\u001b[0m\u001b[1;32m     43\u001b[0m         \u001b[0mplt\u001b[0m\u001b[0;34m.\u001b[0m\u001b[0mshow\u001b[0m\u001b[0;34m(\u001b[0m\u001b[0;34m)\u001b[0m\u001b[0;34m\u001b[0m\u001b[0m\n\u001b[1;32m     44\u001b[0m     \u001b[0;32melse\u001b[0m\u001b[0;34m:\u001b[0m\u001b[0;34m\u001b[0m\u001b[0m\n",
      "\u001b[0;32m<ipython-input-118-5ce60aced266>\u001b[0m in \u001b[0;36msave_fig\u001b[0;34m(fig_name, width, height)\u001b[0m\n\u001b[1;32m     34\u001b[0m     \u001b[0mplt\u001b[0m\u001b[0;34m.\u001b[0m\u001b[0mgcf\u001b[0m\u001b[0;34m(\u001b[0m\u001b[0;34m)\u001b[0m\u001b[0;34m.\u001b[0m\u001b[0mset_size_inches\u001b[0m\u001b[0;34m(\u001b[0m\u001b[0;34m(\u001b[0m\u001b[0mwidth\u001b[0m\u001b[0;34m,\u001b[0m \u001b[0mheight\u001b[0m\u001b[0;34m)\u001b[0m\u001b[0;34m)\u001b[0m\u001b[0;34m\u001b[0m\u001b[0m\n\u001b[1;32m     35\u001b[0m     \u001b[0msimplify_axis\u001b[0m\u001b[0;34m(\u001b[0m\u001b[0mplt\u001b[0m\u001b[0;34m.\u001b[0m\u001b[0mgca\u001b[0m\u001b[0;34m(\u001b[0m\u001b[0;34m)\u001b[0m\u001b[0;34m)\u001b[0m\u001b[0;34m\u001b[0m\u001b[0m\n\u001b[0;32m---> 36\u001b[0;31m     \u001b[0mplt\u001b[0m\u001b[0;34m.\u001b[0m\u001b[0msavefig\u001b[0m\u001b[0;34m(\u001b[0m\u001b[0mfig_name\u001b[0m\u001b[0;34m,\u001b[0m \u001b[0mbbox_inches\u001b[0m\u001b[0;34m=\u001b[0m\u001b[0;34m'tight'\u001b[0m\u001b[0;34m,\u001b[0m \u001b[0mpad_inches\u001b[0m\u001b[0;34m=\u001b[0m\u001b[0;36m0.02\u001b[0m\u001b[0;34m)\u001b[0m\u001b[0;34m\u001b[0m\u001b[0m\n\u001b[0m\u001b[1;32m     37\u001b[0m     \u001b[0mplt\u001b[0m\u001b[0;34m.\u001b[0m\u001b[0mclose\u001b[0m\u001b[0;34m(\u001b[0m\u001b[0;34m)\u001b[0m\u001b[0;34m\u001b[0m\u001b[0m\n\u001b[1;32m     38\u001b[0m \u001b[0;34m\u001b[0m\u001b[0m\n",
      "\u001b[0;32m~/workspace/oracle_server/venv/lib/python3.5/site-packages/matplotlib/pyplot.py\u001b[0m in \u001b[0;36msavefig\u001b[0;34m(*args, **kwargs)\u001b[0m\n\u001b[1;32m    708\u001b[0m \u001b[0;32mdef\u001b[0m \u001b[0msavefig\u001b[0m\u001b[0;34m(\u001b[0m\u001b[0;34m*\u001b[0m\u001b[0margs\u001b[0m\u001b[0;34m,\u001b[0m \u001b[0;34m**\u001b[0m\u001b[0mkwargs\u001b[0m\u001b[0;34m)\u001b[0m\u001b[0;34m:\u001b[0m\u001b[0;34m\u001b[0m\u001b[0m\n\u001b[1;32m    709\u001b[0m     \u001b[0mfig\u001b[0m \u001b[0;34m=\u001b[0m \u001b[0mgcf\u001b[0m\u001b[0;34m(\u001b[0m\u001b[0;34m)\u001b[0m\u001b[0;34m\u001b[0m\u001b[0m\n\u001b[0;32m--> 710\u001b[0;31m     \u001b[0mres\u001b[0m \u001b[0;34m=\u001b[0m \u001b[0mfig\u001b[0m\u001b[0;34m.\u001b[0m\u001b[0msavefig\u001b[0m\u001b[0;34m(\u001b[0m\u001b[0;34m*\u001b[0m\u001b[0margs\u001b[0m\u001b[0;34m,\u001b[0m \u001b[0;34m**\u001b[0m\u001b[0mkwargs\u001b[0m\u001b[0;34m)\u001b[0m\u001b[0;34m\u001b[0m\u001b[0m\n\u001b[0m\u001b[1;32m    711\u001b[0m     \u001b[0mfig\u001b[0m\u001b[0;34m.\u001b[0m\u001b[0mcanvas\u001b[0m\u001b[0;34m.\u001b[0m\u001b[0mdraw_idle\u001b[0m\u001b[0;34m(\u001b[0m\u001b[0;34m)\u001b[0m   \u001b[0;31m# need this if 'transparent=True' to reset colors\u001b[0m\u001b[0;34m\u001b[0m\u001b[0m\n\u001b[1;32m    712\u001b[0m     \u001b[0;32mreturn\u001b[0m \u001b[0mres\u001b[0m\u001b[0;34m\u001b[0m\u001b[0m\n",
      "\u001b[0;32m~/workspace/oracle_server/venv/lib/python3.5/site-packages/matplotlib/figure.py\u001b[0m in \u001b[0;36msavefig\u001b[0;34m(self, fname, **kwargs)\u001b[0m\n\u001b[1;32m   2033\u001b[0m             \u001b[0mself\u001b[0m\u001b[0;34m.\u001b[0m\u001b[0mset_frameon\u001b[0m\u001b[0;34m(\u001b[0m\u001b[0mframeon\u001b[0m\u001b[0;34m)\u001b[0m\u001b[0;34m\u001b[0m\u001b[0m\n\u001b[1;32m   2034\u001b[0m \u001b[0;34m\u001b[0m\u001b[0m\n\u001b[0;32m-> 2035\u001b[0;31m         \u001b[0mself\u001b[0m\u001b[0;34m.\u001b[0m\u001b[0mcanvas\u001b[0m\u001b[0;34m.\u001b[0m\u001b[0mprint_figure\u001b[0m\u001b[0;34m(\u001b[0m\u001b[0mfname\u001b[0m\u001b[0;34m,\u001b[0m \u001b[0;34m**\u001b[0m\u001b[0mkwargs\u001b[0m\u001b[0;34m)\u001b[0m\u001b[0;34m\u001b[0m\u001b[0m\n\u001b[0m\u001b[1;32m   2036\u001b[0m \u001b[0;34m\u001b[0m\u001b[0m\n\u001b[1;32m   2037\u001b[0m         \u001b[0;32mif\u001b[0m \u001b[0mframeon\u001b[0m\u001b[0;34m:\u001b[0m\u001b[0;34m\u001b[0m\u001b[0m\n",
      "\u001b[0;32m~/workspace/oracle_server/venv/lib/python3.5/site-packages/matplotlib/backend_bases.py\u001b[0m in \u001b[0;36mprint_figure\u001b[0;34m(self, filename, dpi, facecolor, edgecolor, orientation, format, **kwargs)\u001b[0m\n\u001b[1;32m   2210\u001b[0m                     \u001b[0morientation\u001b[0m\u001b[0;34m=\u001b[0m\u001b[0morientation\u001b[0m\u001b[0;34m,\u001b[0m\u001b[0;34m\u001b[0m\u001b[0m\n\u001b[1;32m   2211\u001b[0m                     \u001b[0mdryrun\u001b[0m\u001b[0;34m=\u001b[0m\u001b[0;32mTrue\u001b[0m\u001b[0;34m,\u001b[0m\u001b[0;34m\u001b[0m\u001b[0m\n\u001b[0;32m-> 2212\u001b[0;31m                     **kwargs)\n\u001b[0m\u001b[1;32m   2213\u001b[0m                 \u001b[0mrenderer\u001b[0m \u001b[0;34m=\u001b[0m \u001b[0mself\u001b[0m\u001b[0;34m.\u001b[0m\u001b[0mfigure\u001b[0m\u001b[0;34m.\u001b[0m\u001b[0m_cachedRenderer\u001b[0m\u001b[0;34m\u001b[0m\u001b[0m\n\u001b[1;32m   2214\u001b[0m                 \u001b[0mbbox_inches\u001b[0m \u001b[0;34m=\u001b[0m \u001b[0mself\u001b[0m\u001b[0;34m.\u001b[0m\u001b[0mfigure\u001b[0m\u001b[0;34m.\u001b[0m\u001b[0mget_tightbbox\u001b[0m\u001b[0;34m(\u001b[0m\u001b[0mrenderer\u001b[0m\u001b[0;34m)\u001b[0m\u001b[0;34m\u001b[0m\u001b[0m\n",
      "\u001b[0;32m~/workspace/oracle_server/venv/lib/python3.5/site-packages/matplotlib/backends/backend_svg.py\u001b[0m in \u001b[0;36mprint_svg\u001b[0;34m(self, filename, *args, **kwargs)\u001b[0m\n\u001b[1;32m   1208\u001b[0m                 \u001b[0mdetach\u001b[0m \u001b[0;34m=\u001b[0m \u001b[0;32mTrue\u001b[0m\u001b[0;34m\u001b[0m\u001b[0m\n\u001b[1;32m   1209\u001b[0m \u001b[0;34m\u001b[0m\u001b[0m\n\u001b[0;32m-> 1210\u001b[0;31m             \u001b[0mresult\u001b[0m \u001b[0;34m=\u001b[0m \u001b[0mself\u001b[0m\u001b[0;34m.\u001b[0m\u001b[0m_print_svg\u001b[0m\u001b[0;34m(\u001b[0m\u001b[0mfilename\u001b[0m\u001b[0;34m,\u001b[0m \u001b[0mfh\u001b[0m\u001b[0;34m,\u001b[0m \u001b[0;34m**\u001b[0m\u001b[0mkwargs\u001b[0m\u001b[0;34m)\u001b[0m\u001b[0;34m\u001b[0m\u001b[0m\n\u001b[0m\u001b[1;32m   1211\u001b[0m \u001b[0;34m\u001b[0m\u001b[0m\n\u001b[1;32m   1212\u001b[0m             \u001b[0;31m# Detach underlying stream from wrapper so that it remains open in\u001b[0m\u001b[0;34m\u001b[0m\u001b[0;34m\u001b[0m\u001b[0m\n",
      "\u001b[0;32m~/workspace/oracle_server/venv/lib/python3.5/site-packages/matplotlib/backends/backend_svg.py\u001b[0m in \u001b[0;36m_print_svg\u001b[0;34m(self, filename, fh, **kwargs)\u001b[0m\n\u001b[1;32m   1238\u001b[0m             bbox_inches_restore=_bbox_inches_restore)\n\u001b[1;32m   1239\u001b[0m \u001b[0;34m\u001b[0m\u001b[0m\n\u001b[0;32m-> 1240\u001b[0;31m         \u001b[0mself\u001b[0m\u001b[0;34m.\u001b[0m\u001b[0mfigure\u001b[0m\u001b[0;34m.\u001b[0m\u001b[0mdraw\u001b[0m\u001b[0;34m(\u001b[0m\u001b[0mrenderer\u001b[0m\u001b[0;34m)\u001b[0m\u001b[0;34m\u001b[0m\u001b[0m\n\u001b[0m\u001b[1;32m   1241\u001b[0m         \u001b[0mrenderer\u001b[0m\u001b[0;34m.\u001b[0m\u001b[0mfinalize\u001b[0m\u001b[0;34m(\u001b[0m\u001b[0;34m)\u001b[0m\u001b[0;34m\u001b[0m\u001b[0m\n\u001b[1;32m   1242\u001b[0m \u001b[0;34m\u001b[0m\u001b[0m\n",
      "\u001b[0;32m~/workspace/oracle_server/venv/lib/python3.5/site-packages/matplotlib/artist.py\u001b[0m in \u001b[0;36mdraw_wrapper\u001b[0;34m(artist, renderer, *args, **kwargs)\u001b[0m\n\u001b[1;32m     53\u001b[0m                 \u001b[0mrenderer\u001b[0m\u001b[0;34m.\u001b[0m\u001b[0mstart_filter\u001b[0m\u001b[0;34m(\u001b[0m\u001b[0;34m)\u001b[0m\u001b[0;34m\u001b[0m\u001b[0m\n\u001b[1;32m     54\u001b[0m \u001b[0;34m\u001b[0m\u001b[0m\n\u001b[0;32m---> 55\u001b[0;31m             \u001b[0;32mreturn\u001b[0m \u001b[0mdraw\u001b[0m\u001b[0;34m(\u001b[0m\u001b[0martist\u001b[0m\u001b[0;34m,\u001b[0m \u001b[0mrenderer\u001b[0m\u001b[0;34m,\u001b[0m \u001b[0;34m*\u001b[0m\u001b[0margs\u001b[0m\u001b[0;34m,\u001b[0m \u001b[0;34m**\u001b[0m\u001b[0mkwargs\u001b[0m\u001b[0;34m)\u001b[0m\u001b[0;34m\u001b[0m\u001b[0m\n\u001b[0m\u001b[1;32m     56\u001b[0m         \u001b[0;32mfinally\u001b[0m\u001b[0;34m:\u001b[0m\u001b[0;34m\u001b[0m\u001b[0m\n\u001b[1;32m     57\u001b[0m             \u001b[0;32mif\u001b[0m \u001b[0martist\u001b[0m\u001b[0;34m.\u001b[0m\u001b[0mget_agg_filter\u001b[0m\u001b[0;34m(\u001b[0m\u001b[0;34m)\u001b[0m \u001b[0;32mis\u001b[0m \u001b[0;32mnot\u001b[0m \u001b[0;32mNone\u001b[0m\u001b[0;34m:\u001b[0m\u001b[0;34m\u001b[0m\u001b[0m\n",
      "\u001b[0;32m~/workspace/oracle_server/venv/lib/python3.5/site-packages/matplotlib/figure.py\u001b[0m in \u001b[0;36mdraw\u001b[0;34m(self, renderer)\u001b[0m\n\u001b[1;32m   1473\u001b[0m \u001b[0;34m\u001b[0m\u001b[0m\n\u001b[1;32m   1474\u001b[0m             mimage._draw_list_compositing_images(\n\u001b[0;32m-> 1475\u001b[0;31m                 renderer, self, artists, self.suppressComposite)\n\u001b[0m\u001b[1;32m   1476\u001b[0m \u001b[0;34m\u001b[0m\u001b[0m\n\u001b[1;32m   1477\u001b[0m             \u001b[0mrenderer\u001b[0m\u001b[0;34m.\u001b[0m\u001b[0mclose_group\u001b[0m\u001b[0;34m(\u001b[0m\u001b[0;34m'figure'\u001b[0m\u001b[0;34m)\u001b[0m\u001b[0;34m\u001b[0m\u001b[0m\n",
      "\u001b[0;32m~/workspace/oracle_server/venv/lib/python3.5/site-packages/matplotlib/image.py\u001b[0m in \u001b[0;36m_draw_list_compositing_images\u001b[0;34m(renderer, parent, artists, suppress_composite)\u001b[0m\n\u001b[1;32m    139\u001b[0m     \u001b[0;32mif\u001b[0m \u001b[0mnot_composite\u001b[0m \u001b[0;32mor\u001b[0m \u001b[0;32mnot\u001b[0m \u001b[0mhas_images\u001b[0m\u001b[0;34m:\u001b[0m\u001b[0;34m\u001b[0m\u001b[0m\n\u001b[1;32m    140\u001b[0m         \u001b[0;32mfor\u001b[0m \u001b[0ma\u001b[0m \u001b[0;32min\u001b[0m \u001b[0martists\u001b[0m\u001b[0;34m:\u001b[0m\u001b[0;34m\u001b[0m\u001b[0m\n\u001b[0;32m--> 141\u001b[0;31m             \u001b[0ma\u001b[0m\u001b[0;34m.\u001b[0m\u001b[0mdraw\u001b[0m\u001b[0;34m(\u001b[0m\u001b[0mrenderer\u001b[0m\u001b[0;34m)\u001b[0m\u001b[0;34m\u001b[0m\u001b[0m\n\u001b[0m\u001b[1;32m    142\u001b[0m     \u001b[0;32melse\u001b[0m\u001b[0;34m:\u001b[0m\u001b[0;34m\u001b[0m\u001b[0m\n\u001b[1;32m    143\u001b[0m         \u001b[0;31m# Composite any adjacent images together\u001b[0m\u001b[0;34m\u001b[0m\u001b[0;34m\u001b[0m\u001b[0m\n",
      "\u001b[0;32m~/workspace/oracle_server/venv/lib/python3.5/site-packages/matplotlib/artist.py\u001b[0m in \u001b[0;36mdraw_wrapper\u001b[0;34m(artist, renderer, *args, **kwargs)\u001b[0m\n\u001b[1;32m     53\u001b[0m                 \u001b[0mrenderer\u001b[0m\u001b[0;34m.\u001b[0m\u001b[0mstart_filter\u001b[0m\u001b[0;34m(\u001b[0m\u001b[0;34m)\u001b[0m\u001b[0;34m\u001b[0m\u001b[0m\n\u001b[1;32m     54\u001b[0m \u001b[0;34m\u001b[0m\u001b[0m\n\u001b[0;32m---> 55\u001b[0;31m             \u001b[0;32mreturn\u001b[0m \u001b[0mdraw\u001b[0m\u001b[0;34m(\u001b[0m\u001b[0martist\u001b[0m\u001b[0;34m,\u001b[0m \u001b[0mrenderer\u001b[0m\u001b[0;34m,\u001b[0m \u001b[0;34m*\u001b[0m\u001b[0margs\u001b[0m\u001b[0;34m,\u001b[0m \u001b[0;34m**\u001b[0m\u001b[0mkwargs\u001b[0m\u001b[0;34m)\u001b[0m\u001b[0;34m\u001b[0m\u001b[0m\n\u001b[0m\u001b[1;32m     56\u001b[0m         \u001b[0;32mfinally\u001b[0m\u001b[0;34m:\u001b[0m\u001b[0;34m\u001b[0m\u001b[0m\n\u001b[1;32m     57\u001b[0m             \u001b[0;32mif\u001b[0m \u001b[0martist\u001b[0m\u001b[0;34m.\u001b[0m\u001b[0mget_agg_filter\u001b[0m\u001b[0;34m(\u001b[0m\u001b[0;34m)\u001b[0m \u001b[0;32mis\u001b[0m \u001b[0;32mnot\u001b[0m \u001b[0;32mNone\u001b[0m\u001b[0;34m:\u001b[0m\u001b[0;34m\u001b[0m\u001b[0m\n",
      "\u001b[0;32m~/workspace/oracle_server/venv/lib/python3.5/site-packages/matplotlib/axes/_base.py\u001b[0m in \u001b[0;36mdraw\u001b[0;34m(self, renderer, inframe)\u001b[0m\n\u001b[1;32m   2605\u001b[0m             \u001b[0mrenderer\u001b[0m\u001b[0;34m.\u001b[0m\u001b[0mstop_rasterizing\u001b[0m\u001b[0;34m(\u001b[0m\u001b[0;34m)\u001b[0m\u001b[0;34m\u001b[0m\u001b[0m\n\u001b[1;32m   2606\u001b[0m \u001b[0;34m\u001b[0m\u001b[0m\n\u001b[0;32m-> 2607\u001b[0;31m         \u001b[0mmimage\u001b[0m\u001b[0;34m.\u001b[0m\u001b[0m_draw_list_compositing_images\u001b[0m\u001b[0;34m(\u001b[0m\u001b[0mrenderer\u001b[0m\u001b[0;34m,\u001b[0m \u001b[0mself\u001b[0m\u001b[0;34m,\u001b[0m \u001b[0martists\u001b[0m\u001b[0;34m)\u001b[0m\u001b[0;34m\u001b[0m\u001b[0m\n\u001b[0m\u001b[1;32m   2608\u001b[0m \u001b[0;34m\u001b[0m\u001b[0m\n\u001b[1;32m   2609\u001b[0m         \u001b[0mrenderer\u001b[0m\u001b[0;34m.\u001b[0m\u001b[0mclose_group\u001b[0m\u001b[0;34m(\u001b[0m\u001b[0;34m'axes'\u001b[0m\u001b[0;34m)\u001b[0m\u001b[0;34m\u001b[0m\u001b[0m\n",
      "\u001b[0;32m~/workspace/oracle_server/venv/lib/python3.5/site-packages/matplotlib/image.py\u001b[0m in \u001b[0;36m_draw_list_compositing_images\u001b[0;34m(renderer, parent, artists, suppress_composite)\u001b[0m\n\u001b[1;32m    139\u001b[0m     \u001b[0;32mif\u001b[0m \u001b[0mnot_composite\u001b[0m \u001b[0;32mor\u001b[0m \u001b[0;32mnot\u001b[0m \u001b[0mhas_images\u001b[0m\u001b[0;34m:\u001b[0m\u001b[0;34m\u001b[0m\u001b[0m\n\u001b[1;32m    140\u001b[0m         \u001b[0;32mfor\u001b[0m \u001b[0ma\u001b[0m \u001b[0;32min\u001b[0m \u001b[0martists\u001b[0m\u001b[0;34m:\u001b[0m\u001b[0;34m\u001b[0m\u001b[0m\n\u001b[0;32m--> 141\u001b[0;31m             \u001b[0ma\u001b[0m\u001b[0;34m.\u001b[0m\u001b[0mdraw\u001b[0m\u001b[0;34m(\u001b[0m\u001b[0mrenderer\u001b[0m\u001b[0;34m)\u001b[0m\u001b[0;34m\u001b[0m\u001b[0m\n\u001b[0m\u001b[1;32m    142\u001b[0m     \u001b[0;32melse\u001b[0m\u001b[0;34m:\u001b[0m\u001b[0;34m\u001b[0m\u001b[0m\n\u001b[1;32m    143\u001b[0m         \u001b[0;31m# Composite any adjacent images together\u001b[0m\u001b[0;34m\u001b[0m\u001b[0;34m\u001b[0m\u001b[0m\n",
      "\u001b[0;32m~/workspace/oracle_server/venv/lib/python3.5/site-packages/matplotlib/artist.py\u001b[0m in \u001b[0;36mdraw_wrapper\u001b[0;34m(artist, renderer, *args, **kwargs)\u001b[0m\n\u001b[1;32m     53\u001b[0m                 \u001b[0mrenderer\u001b[0m\u001b[0;34m.\u001b[0m\u001b[0mstart_filter\u001b[0m\u001b[0;34m(\u001b[0m\u001b[0;34m)\u001b[0m\u001b[0;34m\u001b[0m\u001b[0m\n\u001b[1;32m     54\u001b[0m \u001b[0;34m\u001b[0m\u001b[0m\n\u001b[0;32m---> 55\u001b[0;31m             \u001b[0;32mreturn\u001b[0m \u001b[0mdraw\u001b[0m\u001b[0;34m(\u001b[0m\u001b[0martist\u001b[0m\u001b[0;34m,\u001b[0m \u001b[0mrenderer\u001b[0m\u001b[0;34m,\u001b[0m \u001b[0;34m*\u001b[0m\u001b[0margs\u001b[0m\u001b[0;34m,\u001b[0m \u001b[0;34m**\u001b[0m\u001b[0mkwargs\u001b[0m\u001b[0;34m)\u001b[0m\u001b[0;34m\u001b[0m\u001b[0m\n\u001b[0m\u001b[1;32m     56\u001b[0m         \u001b[0;32mfinally\u001b[0m\u001b[0;34m:\u001b[0m\u001b[0;34m\u001b[0m\u001b[0m\n\u001b[1;32m     57\u001b[0m             \u001b[0;32mif\u001b[0m \u001b[0martist\u001b[0m\u001b[0;34m.\u001b[0m\u001b[0mget_agg_filter\u001b[0m\u001b[0;34m(\u001b[0m\u001b[0;34m)\u001b[0m \u001b[0;32mis\u001b[0m \u001b[0;32mnot\u001b[0m \u001b[0;32mNone\u001b[0m\u001b[0;34m:\u001b[0m\u001b[0;34m\u001b[0m\u001b[0m\n",
      "\u001b[0;32m~/workspace/oracle_server/venv/lib/python3.5/site-packages/matplotlib/axis.py\u001b[0m in \u001b[0;36mdraw\u001b[0;34m(self, renderer, *args, **kwargs)\u001b[0m\n\u001b[1;32m   1202\u001b[0m         \u001b[0mself\u001b[0m\u001b[0;34m.\u001b[0m\u001b[0m_update_label_position\u001b[0m\u001b[0;34m(\u001b[0m\u001b[0mrenderer\u001b[0m\u001b[0;34m)\u001b[0m\u001b[0;34m\u001b[0m\u001b[0m\n\u001b[1;32m   1203\u001b[0m \u001b[0;34m\u001b[0m\u001b[0m\n\u001b[0;32m-> 1204\u001b[0;31m         \u001b[0mself\u001b[0m\u001b[0;34m.\u001b[0m\u001b[0mlabel\u001b[0m\u001b[0;34m.\u001b[0m\u001b[0mdraw\u001b[0m\u001b[0;34m(\u001b[0m\u001b[0mrenderer\u001b[0m\u001b[0;34m)\u001b[0m\u001b[0;34m\u001b[0m\u001b[0m\n\u001b[0m\u001b[1;32m   1205\u001b[0m \u001b[0;34m\u001b[0m\u001b[0m\n\u001b[1;32m   1206\u001b[0m         \u001b[0mself\u001b[0m\u001b[0;34m.\u001b[0m\u001b[0m_update_offset_text_position\u001b[0m\u001b[0;34m(\u001b[0m\u001b[0mticklabelBoxes\u001b[0m\u001b[0;34m,\u001b[0m \u001b[0mticklabelBoxes2\u001b[0m\u001b[0;34m)\u001b[0m\u001b[0;34m\u001b[0m\u001b[0m\n",
      "\u001b[0;32m~/workspace/oracle_server/venv/lib/python3.5/site-packages/matplotlib/artist.py\u001b[0m in \u001b[0;36mdraw_wrapper\u001b[0;34m(artist, renderer, *args, **kwargs)\u001b[0m\n\u001b[1;32m     53\u001b[0m                 \u001b[0mrenderer\u001b[0m\u001b[0;34m.\u001b[0m\u001b[0mstart_filter\u001b[0m\u001b[0;34m(\u001b[0m\u001b[0;34m)\u001b[0m\u001b[0;34m\u001b[0m\u001b[0m\n\u001b[1;32m     54\u001b[0m \u001b[0;34m\u001b[0m\u001b[0m\n\u001b[0;32m---> 55\u001b[0;31m             \u001b[0;32mreturn\u001b[0m \u001b[0mdraw\u001b[0m\u001b[0;34m(\u001b[0m\u001b[0martist\u001b[0m\u001b[0;34m,\u001b[0m \u001b[0mrenderer\u001b[0m\u001b[0;34m,\u001b[0m \u001b[0;34m*\u001b[0m\u001b[0margs\u001b[0m\u001b[0;34m,\u001b[0m \u001b[0;34m**\u001b[0m\u001b[0mkwargs\u001b[0m\u001b[0;34m)\u001b[0m\u001b[0;34m\u001b[0m\u001b[0m\n\u001b[0m\u001b[1;32m     56\u001b[0m         \u001b[0;32mfinally\u001b[0m\u001b[0;34m:\u001b[0m\u001b[0;34m\u001b[0m\u001b[0m\n\u001b[1;32m     57\u001b[0m             \u001b[0;32mif\u001b[0m \u001b[0martist\u001b[0m\u001b[0;34m.\u001b[0m\u001b[0mget_agg_filter\u001b[0m\u001b[0;34m(\u001b[0m\u001b[0;34m)\u001b[0m \u001b[0;32mis\u001b[0m \u001b[0;32mnot\u001b[0m \u001b[0;32mNone\u001b[0m\u001b[0;34m:\u001b[0m\u001b[0;34m\u001b[0m\u001b[0m\n",
      "\u001b[0;32m~/workspace/oracle_server/venv/lib/python3.5/site-packages/matplotlib/text.py\u001b[0m in \u001b[0;36mdraw\u001b[0;34m(self, renderer)\u001b[0m\n\u001b[1;32m    749\u001b[0m                     textrenderer.draw_tex(gc, x, y, clean_line,\n\u001b[1;32m    750\u001b[0m                                           \u001b[0mtextobj\u001b[0m\u001b[0;34m.\u001b[0m\u001b[0m_fontproperties\u001b[0m\u001b[0;34m,\u001b[0m \u001b[0mangle\u001b[0m\u001b[0;34m,\u001b[0m\u001b[0;34m\u001b[0m\u001b[0m\n\u001b[0;32m--> 751\u001b[0;31m                                           mtext=mtext)\n\u001b[0m\u001b[1;32m    752\u001b[0m                 \u001b[0;32melse\u001b[0m\u001b[0;34m:\u001b[0m\u001b[0;34m\u001b[0m\u001b[0m\n\u001b[1;32m    753\u001b[0m                     textrenderer.draw_text(gc, x, y, clean_line,\n",
      "\u001b[0;32m~/workspace/oracle_server/venv/lib/python3.5/site-packages/matplotlib/backends/backend_svg.py\u001b[0m in \u001b[0;36mdraw_tex\u001b[0;34m(self, gc, x, y, s, prop, angle, ismath, mtext)\u001b[0m\n\u001b[1;32m   1152\u001b[0m \u001b[0;34m\u001b[0m\u001b[0m\n\u001b[1;32m   1153\u001b[0m     \u001b[0;32mdef\u001b[0m \u001b[0mdraw_tex\u001b[0m\u001b[0;34m(\u001b[0m\u001b[0mself\u001b[0m\u001b[0;34m,\u001b[0m \u001b[0mgc\u001b[0m\u001b[0;34m,\u001b[0m \u001b[0mx\u001b[0m\u001b[0;34m,\u001b[0m \u001b[0my\u001b[0m\u001b[0;34m,\u001b[0m \u001b[0ms\u001b[0m\u001b[0;34m,\u001b[0m \u001b[0mprop\u001b[0m\u001b[0;34m,\u001b[0m \u001b[0mangle\u001b[0m\u001b[0;34m,\u001b[0m \u001b[0mismath\u001b[0m\u001b[0;34m=\u001b[0m\u001b[0;34m'TeX!'\u001b[0m\u001b[0;34m,\u001b[0m \u001b[0mmtext\u001b[0m\u001b[0;34m=\u001b[0m\u001b[0;32mNone\u001b[0m\u001b[0;34m)\u001b[0m\u001b[0;34m:\u001b[0m\u001b[0;34m\u001b[0m\u001b[0m\n\u001b[0;32m-> 1154\u001b[0;31m         \u001b[0mself\u001b[0m\u001b[0;34m.\u001b[0m\u001b[0m_draw_text_as_path\u001b[0m\u001b[0;34m(\u001b[0m\u001b[0mgc\u001b[0m\u001b[0;34m,\u001b[0m \u001b[0mx\u001b[0m\u001b[0;34m,\u001b[0m \u001b[0my\u001b[0m\u001b[0;34m,\u001b[0m \u001b[0ms\u001b[0m\u001b[0;34m,\u001b[0m \u001b[0mprop\u001b[0m\u001b[0;34m,\u001b[0m \u001b[0mangle\u001b[0m\u001b[0;34m,\u001b[0m \u001b[0mismath\u001b[0m\u001b[0;34m=\u001b[0m\u001b[0;34m\"TeX\"\u001b[0m\u001b[0;34m)\u001b[0m\u001b[0;34m\u001b[0m\u001b[0m\n\u001b[0m\u001b[1;32m   1155\u001b[0m \u001b[0;34m\u001b[0m\u001b[0m\n\u001b[1;32m   1156\u001b[0m     \u001b[0;32mdef\u001b[0m \u001b[0mdraw_text\u001b[0m\u001b[0;34m(\u001b[0m\u001b[0mself\u001b[0m\u001b[0;34m,\u001b[0m \u001b[0mgc\u001b[0m\u001b[0;34m,\u001b[0m \u001b[0mx\u001b[0m\u001b[0;34m,\u001b[0m \u001b[0my\u001b[0m\u001b[0;34m,\u001b[0m \u001b[0ms\u001b[0m\u001b[0;34m,\u001b[0m \u001b[0mprop\u001b[0m\u001b[0;34m,\u001b[0m \u001b[0mangle\u001b[0m\u001b[0;34m,\u001b[0m \u001b[0mismath\u001b[0m\u001b[0;34m=\u001b[0m\u001b[0;32mFalse\u001b[0m\u001b[0;34m,\u001b[0m \u001b[0mmtext\u001b[0m\u001b[0;34m=\u001b[0m\u001b[0;32mNone\u001b[0m\u001b[0;34m)\u001b[0m\u001b[0;34m:\u001b[0m\u001b[0;34m\u001b[0m\u001b[0m\n",
      "\u001b[0;32m~/workspace/oracle_server/venv/lib/python3.5/site-packages/matplotlib/backends/backend_svg.py\u001b[0m in \u001b[0;36m_draw_text_as_path\u001b[0;34m(self, gc, x, y, s, prop, angle, ismath, mtext)\u001b[0m\n\u001b[1;32m    952\u001b[0m             \u001b[0;32mif\u001b[0m \u001b[0mismath\u001b[0m \u001b[0;34m==\u001b[0m \u001b[0;34m\"TeX\"\u001b[0m\u001b[0;34m:\u001b[0m\u001b[0;34m\u001b[0m\u001b[0m\n\u001b[1;32m    953\u001b[0m                 _glyphs = text2path.get_glyphs_tex(prop, s, glyph_map=glyph_map,\n\u001b[0;32m--> 954\u001b[0;31m                                                    return_new_glyphs_only=True)\n\u001b[0m\u001b[1;32m    955\u001b[0m             \u001b[0;32melse\u001b[0m\u001b[0;34m:\u001b[0m\u001b[0;34m\u001b[0m\u001b[0m\n\u001b[1;32m    956\u001b[0m                 _glyphs = text2path.get_glyphs_mathtext(prop, s, glyph_map=glyph_map,\n",
      "\u001b[0;32m~/workspace/oracle_server/venv/lib/python3.5/site-packages/matplotlib/textpath.py\u001b[0m in \u001b[0;36mget_glyphs_tex\u001b[0;34m(self, prop, s, glyph_map, return_new_glyphs_only)\u001b[0m\n\u001b[1;32m    333\u001b[0m         \u001b[0;32mfor\u001b[0m \u001b[0mx1\u001b[0m\u001b[0;34m,\u001b[0m \u001b[0my1\u001b[0m\u001b[0;34m,\u001b[0m \u001b[0mdvifont\u001b[0m\u001b[0;34m,\u001b[0m \u001b[0mglyph\u001b[0m\u001b[0;34m,\u001b[0m \u001b[0mwidth\u001b[0m \u001b[0;32min\u001b[0m \u001b[0mpage\u001b[0m\u001b[0;34m.\u001b[0m\u001b[0mtext\u001b[0m\u001b[0;34m:\u001b[0m\u001b[0;34m\u001b[0m\u001b[0m\n\u001b[1;32m    334\u001b[0m             \u001b[0mfont_and_encoding\u001b[0m \u001b[0;34m=\u001b[0m \u001b[0mself\u001b[0m\u001b[0;34m.\u001b[0m\u001b[0m_ps_fontd\u001b[0m\u001b[0;34m.\u001b[0m\u001b[0mget\u001b[0m\u001b[0;34m(\u001b[0m\u001b[0mdvifont\u001b[0m\u001b[0;34m.\u001b[0m\u001b[0mtexname\u001b[0m\u001b[0;34m)\u001b[0m\u001b[0;34m\u001b[0m\u001b[0m\n\u001b[0;32m--> 335\u001b[0;31m             \u001b[0mfont_bunch\u001b[0m \u001b[0;34m=\u001b[0m \u001b[0mself\u001b[0m\u001b[0;34m.\u001b[0m\u001b[0mtex_font_map\u001b[0m\u001b[0;34m[\u001b[0m\u001b[0mdvifont\u001b[0m\u001b[0;34m.\u001b[0m\u001b[0mtexname\u001b[0m\u001b[0;34m]\u001b[0m\u001b[0;34m\u001b[0m\u001b[0m\n\u001b[0m\u001b[1;32m    336\u001b[0m \u001b[0;34m\u001b[0m\u001b[0m\n\u001b[1;32m    337\u001b[0m             \u001b[0;32mif\u001b[0m \u001b[0mfont_and_encoding\u001b[0m \u001b[0;32mis\u001b[0m \u001b[0;32mNone\u001b[0m\u001b[0;34m:\u001b[0m\u001b[0;34m\u001b[0m\u001b[0m\n",
      "\u001b[0;32m~/workspace/oracle_server/venv/lib/python3.5/site-packages/matplotlib/dviread.py\u001b[0m in \u001b[0;36m__getitem__\u001b[0;34m(self, texname)\u001b[0m\n\u001b[1;32m    864\u001b[0m             \u001b[0mfn\u001b[0m \u001b[0;34m=\u001b[0m \u001b[0mfind_tex_file\u001b[0m\u001b[0;34m(\u001b[0m\u001b[0mfn\u001b[0m\u001b[0;34m)\u001b[0m\u001b[0;34m\u001b[0m\u001b[0m\n\u001b[1;32m    865\u001b[0m         \u001b[0;32mif\u001b[0m \u001b[0menc\u001b[0m \u001b[0;32mis\u001b[0m \u001b[0;32mnot\u001b[0m \u001b[0;32mNone\u001b[0m \u001b[0;32mand\u001b[0m \u001b[0;32mnot\u001b[0m \u001b[0menc\u001b[0m\u001b[0;34m.\u001b[0m\u001b[0mstartswith\u001b[0m\u001b[0;34m(\u001b[0m\u001b[0;34mb'/'\u001b[0m\u001b[0;34m)\u001b[0m\u001b[0;34m:\u001b[0m\u001b[0;34m\u001b[0m\u001b[0m\n\u001b[0;32m--> 866\u001b[0;31m             \u001b[0menc\u001b[0m \u001b[0;34m=\u001b[0m \u001b[0mfind_tex_file\u001b[0m\u001b[0;34m(\u001b[0m\u001b[0mresult\u001b[0m\u001b[0;34m.\u001b[0m\u001b[0mencoding\u001b[0m\u001b[0;34m)\u001b[0m\u001b[0;34m\u001b[0m\u001b[0m\n\u001b[0m\u001b[1;32m    867\u001b[0m         \u001b[0;32mreturn\u001b[0m \u001b[0mresult\u001b[0m\u001b[0;34m.\u001b[0m\u001b[0m_replace\u001b[0m\u001b[0;34m(\u001b[0m\u001b[0mfilename\u001b[0m\u001b[0;34m=\u001b[0m\u001b[0mfn\u001b[0m\u001b[0;34m,\u001b[0m \u001b[0mencoding\u001b[0m\u001b[0;34m=\u001b[0m\u001b[0menc\u001b[0m\u001b[0;34m)\u001b[0m\u001b[0;34m\u001b[0m\u001b[0m\n\u001b[1;32m    868\u001b[0m \u001b[0;34m\u001b[0m\u001b[0m\n",
      "\u001b[0;32m~/workspace/oracle_server/venv/lib/python3.5/site-packages/matplotlib/dviread.py\u001b[0m in \u001b[0;36mfind_tex_file\u001b[0;34m(filename, format)\u001b[0m\n\u001b[1;32m   1043\u001b[0m     \u001b[0;31m# https://github.com/matplotlib/matplotlib/issues/633\u001b[0m\u001b[0;34m\u001b[0m\u001b[0;34m\u001b[0m\u001b[0m\n\u001b[1;32m   1044\u001b[0m     pipe = subprocess.Popen(cmd, stdout=subprocess.PIPE,\n\u001b[0;32m-> 1045\u001b[0;31m                             stderr=subprocess.PIPE)\n\u001b[0m\u001b[1;32m   1046\u001b[0m     \u001b[0mresult\u001b[0m \u001b[0;34m=\u001b[0m \u001b[0mpipe\u001b[0m\u001b[0;34m.\u001b[0m\u001b[0mcommunicate\u001b[0m\u001b[0;34m(\u001b[0m\u001b[0;34m)\u001b[0m\u001b[0;34m[\u001b[0m\u001b[0;36m0\u001b[0m\u001b[0;34m]\u001b[0m\u001b[0;34m.\u001b[0m\u001b[0mrstrip\u001b[0m\u001b[0;34m(\u001b[0m\u001b[0;34m)\u001b[0m\u001b[0;34m\u001b[0m\u001b[0m\n\u001b[1;32m   1047\u001b[0m     \u001b[0m_log\u001b[0m\u001b[0;34m.\u001b[0m\u001b[0mdebug\u001b[0m\u001b[0;34m(\u001b[0m\u001b[0;34m'find_tex_file result: %s'\u001b[0m\u001b[0;34m,\u001b[0m \u001b[0mresult\u001b[0m\u001b[0;34m)\u001b[0m\u001b[0;34m\u001b[0m\u001b[0m\n",
      "\u001b[0;32m/usr/lib/python3.5/subprocess.py\u001b[0m in \u001b[0;36m__init__\u001b[0;34m(self, args, bufsize, executable, stdin, stdout, stderr, preexec_fn, close_fds, shell, cwd, env, universal_newlines, startupinfo, creationflags, restore_signals, start_new_session, pass_fds)\u001b[0m\n\u001b[1;32m    945\u001b[0m                                 \u001b[0mc2pread\u001b[0m\u001b[0;34m,\u001b[0m \u001b[0mc2pwrite\u001b[0m\u001b[0;34m,\u001b[0m\u001b[0;34m\u001b[0m\u001b[0m\n\u001b[1;32m    946\u001b[0m                                 \u001b[0merrread\u001b[0m\u001b[0;34m,\u001b[0m \u001b[0merrwrite\u001b[0m\u001b[0;34m,\u001b[0m\u001b[0;34m\u001b[0m\u001b[0m\n\u001b[0;32m--> 947\u001b[0;31m                                 restore_signals, start_new_session)\n\u001b[0m\u001b[1;32m    948\u001b[0m         \u001b[0;32mexcept\u001b[0m\u001b[0;34m:\u001b[0m\u001b[0;34m\u001b[0m\u001b[0m\n\u001b[1;32m    949\u001b[0m             \u001b[0;31m# Cleanup if the child failed starting.\u001b[0m\u001b[0;34m\u001b[0m\u001b[0;34m\u001b[0m\u001b[0m\n",
      "\u001b[0;32m/usr/lib/python3.5/subprocess.py\u001b[0m in \u001b[0;36m_execute_child\u001b[0;34m(self, args, executable, preexec_fn, close_fds, pass_fds, cwd, env, startupinfo, creationflags, shell, p2cread, p2cwrite, c2pread, c2pwrite, errread, errwrite, restore_signals, start_new_session)\u001b[0m\n\u001b[1;32m   1488\u001b[0m                             \u001b[0merrread\u001b[0m\u001b[0;34m,\u001b[0m \u001b[0merrwrite\u001b[0m\u001b[0;34m,\u001b[0m\u001b[0;34m\u001b[0m\u001b[0m\n\u001b[1;32m   1489\u001b[0m                             \u001b[0merrpipe_read\u001b[0m\u001b[0;34m,\u001b[0m \u001b[0merrpipe_write\u001b[0m\u001b[0;34m,\u001b[0m\u001b[0;34m\u001b[0m\u001b[0m\n\u001b[0;32m-> 1490\u001b[0;31m                             restore_signals, start_new_session, preexec_fn)\n\u001b[0m\u001b[1;32m   1491\u001b[0m                     \u001b[0mself\u001b[0m\u001b[0;34m.\u001b[0m\u001b[0m_child_created\u001b[0m \u001b[0;34m=\u001b[0m \u001b[0;32mTrue\u001b[0m\u001b[0;34m\u001b[0m\u001b[0m\n\u001b[1;32m   1492\u001b[0m                 \u001b[0;32mfinally\u001b[0m\u001b[0;34m:\u001b[0m\u001b[0;34m\u001b[0m\u001b[0m\n",
      "\u001b[0;31mKeyboardInterrupt\u001b[0m: "
     ]
    },
    {
     "data": {
      "image/png": "[encoded data removed]",
      "text/plain": [
       "<Figure size 244.8x180 with 2 Axes>"
      ]
     },
     "metadata": {},
     "output_type": "display_data"
    }
   ],
   "source": [
    "def plot_generator(generator, iteration, path=None, k=0.3):\n",
    "    generator.eval()\n",
    "    n = 400\n",
    "    os = [\n",
    "        Variable(torch.FloatTensor([[0.1, 0.1, 0.2, 0.2, 1.00 * 0, 1.00 * k, 0.0]]).cuda().repeat(n, 1)),\n",
    "        #Variable(torch.FloatTensor([[0.1, 0.1, 0.1, 0.1, 1.00 * k, 1.00 * 0, 0.0]]).cuda().repeat(n, 1)),\n",
    "        #Variable(torch.FloatTensor([[0.1, 0.1, 0.1, 0.1, 1.00 * 0,-1.00 * k, 0.0]]).cuda().repeat(n, 1)),\n",
    "        #Variable(torch.FloatTensor([[0.1, 0.1, 0.1, 0.1,-1.00 * k, 1.00 * 0, 0.0]]).cuda().repeat(n, 1)),\n",
    "    ]\n",
    "    frg_w, fig_h = 3.4, 2.5\n",
    "    fig, axs = plt.subplots(1, 2, figsize=(fig_w, fig_h), gridspec_kw={'width_ratios': [1, 0.1]})\n",
    "    axs = axs.flatten()\n",
    "    plt.tight_layout()\n",
    "    circle = plt.Circle((0, 0), 0.1, fill=False, color='red')\n",
    "    axs[0].add_artist(circle)\n",
    "    for i in range(1):\n",
    "        O = obs_norm(os[i])\n",
    "        r = robot_norminv(generator(O)).cpu().data.numpy()\n",
    "        for j in range(r.shape[0]):\n",
    "            θ = np.arctan2(r[j, -1], r[j, -2])\n",
    "            hue = (θ + np.pi) / (2 * np.pi)\n",
    "            hue = (hue + 0.25) % 1.0\n",
    "            axs[i].plot(r[j, 0], r[j, 1], 'o', color=hsv_to_rgb((hue, 1, 1.0)), markersize=0.5, alpha=0.5)\n",
    "        axs[i].arrow(0, 0, os[i].data[0, 4], os[i].data[0, 5], head_width=0.02)\n",
    "        axs[i].set_xlim(-0.5, 0.5)\n",
    "        axs[i].set_ylim(-0.5, 0.5)\n",
    "        axs[i].set_xlabel('$x$ (m)')\n",
    "        simplify_axis(axs[i])\n",
    "    axs[0].set_ylabel('$y$ (m)')\n",
    "        \n",
    "    # degree bar\n",
    "    for θ in np.linspace(-np.pi, np.pi, 640):\n",
    "        hue = (θ + np.pi) / (2 * np.pi)\n",
    "        axs[1].plot([0, 0.1], [θ / np.pi * 180] * 2, color=hsv_to_rgb((hue, 1, 1.0)), markersize=1)\n",
    "    axs[1].set_ylim([-180, 180])\n",
    "    axs[1].set_yticks([-180, -135, -90, -45, 0, 45, 90, 135, 180])\n",
    "    axs[1].set_xticks([])\n",
    "    axs[1].set_ylabel('Robot orientation')\n",
    "    axs[1].yaxis.set_label_position(\"right\")\n",
    "    \n",
    "    if path:\n",
    "        save_fig(path, width=fig_w, height=fig_h)\n",
    "        plt.show()\n",
    "    else:\n",
    "        plt.show()\n",
    "    generator.train()\n",
    "\n",
    "plt.close()\n",
    "i = 47\n",
    "with open('./generator_models/dual-point/model_{}000.pkl'.format(i), 'rb') as f:\n",
    "    state_dict = torch.load(f)\n",
    "generator.load_state_dict(state_dict)\n",
    "generator = generator.cuda()\n",
    "plot_generator(generator, 30000, path='/home/isacar/workspace/ra-l-2017-rearrangement/paper/figures/gan-samples-dual-point.svg')\n",
    "#plot_generator(generator, 30000)"
   ]
  },
  {
   "cell_type": "code",
   "execution_count": 196,
   "metadata": {},
   "outputs": [
    {
     "data": {
      "image/png": "[encoded data removed]",
      "text/plain": [
       "<Figure size 756x180 with 5 Axes>"
      ]
     },
     "metadata": {},
     "output_type": "display_data"
    }
   ],
   "source": [
    "def plot_generator(generator, iteration, path=None, k=0.3):\n",
    "    generator.eval()\n",
    "    n = 400\n",
    "    os = [\n",
    "        Variable(torch.FloatTensor([[0.1, 0.1, 0.1, 0.1, 1.00 * 0, 1.00 * k, 0.0]]).cuda().repeat(n, 1)),\n",
    "        Variable(torch.FloatTensor([[0.1, 0.1, 0.1, 0.1, 1.00 * k, 1.00 * 0, 0.0]]).cuda().repeat(n, 1)),\n",
    "        Variable(torch.FloatTensor([[0.1, 0.1, 0.1, 0.1, 1.00 * 0,-1.00 * k, 0.0]]).cuda().repeat(n, 1)),\n",
    "        Variable(torch.FloatTensor([[0.1, 0.1, 0.1, 0.1,-1.00 * k, 1.00 * 0, 0.0]]).cuda().repeat(n, 1)),\n",
    "    ]\n",
    "    fig_w, fig_h = 10.5, 2.5\n",
    "    fig, axs = plt.subplots(1, 5, figsize=(fig_w, fig_h), gridspec_kw={'width_ratios': [1, 1, 1, 1, 0.1]})\n",
    "    axs = axs.flatten()\n",
    "    plt.tight_layout()\n",
    "    for i in range(4):\n",
    "        circle = plt.Circle((0, 0), 0.1, fill=False, color='red')\n",
    "        axs[i].add_artist(circle)\n",
    "        O = obs_norm(os[i])\n",
    "        r = robot_norminv(generator(O)).cpu().data.numpy()\n",
    "        for j in range(r.shape[0]):\n",
    "            θ = np.arctan2(r[j, -1], r[j, -2])\n",
    "            hue = (θ + np.pi) / (2 * np.pi)\n",
    "            hue = (hue + 0.25) % 1.0\n",
    "            axs[i].plot(r[j, 0], r[j, 1], 'o', color=hsv_to_rgb((hue, 1, 1.0)), markersize=0.5, alpha=0.5)\n",
    "        axs[i].arrow(0, 0, os[i].data[0, 4], os[i].data[0, 5], head_width=0.02)\n",
    "        axs[i].set_xlim(-0.5, 0.5)\n",
    "        axs[i].set_ylim(-0.5, 0.5)\n",
    "        axs[i].set_xlabel('$x$ (m)')\n",
    "        simplify_axis(axs[i])\n",
    "    axs[0].set_ylabel('$y$ (m)')\n",
    "        \n",
    "    # degree bar\n",
    "    for θ in np.linspace(-np.pi, np.pi, 640):\n",
    "        hue = (θ + np.pi) / (2 * np.pi)\n",
    "        axs[4].plot([0, 0.1], [θ / np.pi * 180] * 2, color=hsv_to_rgb((hue, 1, 1.0)), markersize=1)\n",
    "    axs[4].set_ylim([-180, 180])\n",
    "    axs[4].set_yticks([-180, -135, -90, -45, 0, 45, 90, 135, 180])\n",
    "    axs[4].set_xticks([])\n",
    "    axs[4].set_ylabel('Robot orientation')\n",
    "    axs[4].yaxis.set_label_position(\"right\")\n",
    "    \n",
    "    if path:\n",
    "        save_fig(path, width=fig_w, height=fig_h)\n",
    "        plt.show()\n",
    "    else:\n",
    "        plt.show()\n",
    "    generator.train()\n",
    "\n",
    "plt.close()\n",
    "i = 63\n",
    "with open('./generator_models/dual-point/model_{}000.pkl'.format(i), 'rb') as f:\n",
    "    state_dict = torch.load(f)\n",
    "generator.load_state_dict(state_dict)\n",
    "generator = generator.cuda()\n",
    "plot_generator(generator, 30000, path='dual-point-gans.pdf')\n",
    "plot_generator(generator, 30000)"
   ]
  },
  {
   "cell_type": "code",
   "execution_count": 111,
   "metadata": {},
   "outputs": [
    {
     "name": "stdout",
     "output_type": "stream",
     "text": [
      "hello\n"
     ]
    }
   ],
   "source": [
    "print('hello')"
   ]
  },
  {
   "cell_type": "code",
   "execution_count": 344,
   "metadata": {},
   "outputs": [
    {
     "name": "stderr",
     "output_type": "stream",
     "text": [
      "/home/isacar/workspace/oracle_server/venv/lib/python3.5/site-packages/matplotlib/font_manager.py:1328: UserWarning: findfont: Font family ['serif'] not found. Falling back to DejaVu Sans\n",
      "  (prop.get_family(), self.defaultFamily[fontext]))\n"
     ]
    },
    {
     "data": {
      "image/png": "[encoded data removed]",
      "text/plain": [
       "<Figure size 14.4x180 with 1 Axes>"
      ]
     },
     "metadata": {},
     "output_type": "display_data"
    },
    {
     "data": {
      "image/png": "[encoded data removed]",
      "text/plain": [
       "<Figure size 288x288 with 1 Axes>"
      ]
     },
     "metadata": {},
     "output_type": "display_data"
    }
   ],
   "source": [
    "plt.figure(figsize=(0.2, 2.5))\n",
    "for θ in np.linspace(-np.pi, np.pi):\n",
    "    hue = (θ + np.pi) / (2 * np.pi)\n",
    "    hue = (hue - 0.25) % 1.0\n",
    "    plt.plot(0, θ / np.pi * 180, 'o', color=hsv_to_rgb((hue, 1, 1.0)), markersize=32)\n",
    "plt.yticks([-180, -135, -90, -45, 0, 45, 90, 135, 180])\n",
    "plt.xticks([])\n",
    "plt.show()\n",
    "test_angle = -130\n",
    "θ = test_angle / 180 * np.pi\n",
    "plt.figure(figsize=(4, 4))\n",
    "plt.arrow(0.0, 0.0, -np.sin(θ), np.cos(θ), head_width=0.1)\n",
    "plt.xlim(-1, 1)\n",
    "plt.ylim(-1, 1)\n",
    "plt.show()\n"
   ]
  },
  {
   "cell_type": "code",
   "execution_count": 345,
   "metadata": {
    "scrolled": false
   },
   "outputs": [
    {
     "name": "stdout",
     "output_type": "stream",
     "text": [
      "step: 0\n"
     ]
    },
    {
     "name": "stderr",
     "output_type": "stream",
     "text": [
      "/home/isacar/workspace/oracle_server/venv/lib/python3.5/site-packages/matplotlib/font_manager.py:1328: UserWarning: findfont: Font family ['serif'] not found. Falling back to DejaVu Sans\n",
      "  (prop.get_family(), self.defaultFamily[fontext]))\n",
      "/home/isacar/workspace/oracle_server/venv/lib/python3.5/site-packages/matplotlib/font_manager.py:1328: UserWarning: findfont: Font family ['serif'] not found. Falling back to DejaVu Sans\n",
      "  (prop.get_family(), self.defaultFamily[fontext]))\n"
     ]
    },
    {
     "name": "stdout",
     "output_type": "stream",
     "text": [
      "step: 1000\n"
     ]
    },
    {
     "name": "stderr",
     "output_type": "stream",
     "text": [
      "/home/isacar/workspace/oracle_server/venv/lib/python3.5/site-packages/matplotlib/font_manager.py:1328: UserWarning: findfont: Font family ['serif'] not found. Falling back to DejaVu Sans\n",
      "  (prop.get_family(), self.defaultFamily[fontext]))\n"
     ]
    },
    {
     "name": "stdout",
     "output_type": "stream",
     "text": [
      "step: 2000\n"
     ]
    },
    {
     "name": "stderr",
     "output_type": "stream",
     "text": [
      "/home/isacar/workspace/oracle_server/venv/lib/python3.5/site-packages/matplotlib/font_manager.py:1328: UserWarning: findfont: Font family ['serif'] not found. Falling back to DejaVu Sans\n",
      "  (prop.get_family(), self.defaultFamily[fontext]))\n"
     ]
    },
    {
     "name": "stdout",
     "output_type": "stream",
     "text": [
      "step: 3000\n"
     ]
    },
    {
     "name": "stderr",
     "output_type": "stream",
     "text": [
      "/home/isacar/workspace/oracle_server/venv/lib/python3.5/site-packages/matplotlib/font_manager.py:1328: UserWarning: findfont: Font family ['serif'] not found. Falling back to DejaVu Sans\n",
      "  (prop.get_family(), self.defaultFamily[fontext]))\n"
     ]
    },
    {
     "name": "stdout",
     "output_type": "stream",
     "text": [
      "step: 4000\n"
     ]
    },
    {
     "name": "stderr",
     "output_type": "stream",
     "text": [
      "/home/isacar/workspace/oracle_server/venv/lib/python3.5/site-packages/matplotlib/font_manager.py:1328: UserWarning: findfont: Font family ['serif'] not found. Falling back to DejaVu Sans\n",
      "  (prop.get_family(), self.defaultFamily[fontext]))\n"
     ]
    },
    {
     "name": "stdout",
     "output_type": "stream",
     "text": [
      "step: 5000\n"
     ]
    },
    {
     "name": "stderr",
     "output_type": "stream",
     "text": [
      "/home/isacar/workspace/oracle_server/venv/lib/python3.5/site-packages/matplotlib/font_manager.py:1328: UserWarning: findfont: Font family ['serif'] not found. Falling back to DejaVu Sans\n",
      "  (prop.get_family(), self.defaultFamily[fontext]))\n"
     ]
    },
    {
     "name": "stdout",
     "output_type": "stream",
     "text": [
      "step: 6000\n"
     ]
    },
    {
     "name": "stderr",
     "output_type": "stream",
     "text": [
      "/home/isacar/workspace/oracle_server/venv/lib/python3.5/site-packages/matplotlib/font_manager.py:1328: UserWarning: findfont: Font family ['serif'] not found. Falling back to DejaVu Sans\n",
      "  (prop.get_family(), self.defaultFamily[fontext]))\n"
     ]
    },
    {
     "name": "stdout",
     "output_type": "stream",
     "text": [
      "step: 7000\n"
     ]
    },
    {
     "name": "stderr",
     "output_type": "stream",
     "text": [
      "/home/isacar/workspace/oracle_server/venv/lib/python3.5/site-packages/matplotlib/font_manager.py:1328: UserWarning: findfont: Font family ['serif'] not found. Falling back to DejaVu Sans\n",
      "  (prop.get_family(), self.defaultFamily[fontext]))\n"
     ]
    },
    {
     "name": "stdout",
     "output_type": "stream",
     "text": [
      "step: 8000\n"
     ]
    },
    {
     "name": "stderr",
     "output_type": "stream",
     "text": [
      "/home/isacar/workspace/oracle_server/venv/lib/python3.5/site-packages/matplotlib/font_manager.py:1328: UserWarning: findfont: Font family ['serif'] not found. Falling back to DejaVu Sans\n",
      "  (prop.get_family(), self.defaultFamily[fontext]))\n"
     ]
    },
    {
     "name": "stdout",
     "output_type": "stream",
     "text": [
      "step: 9000\n"
     ]
    },
    {
     "name": "stderr",
     "output_type": "stream",
     "text": [
      "/home/isacar/workspace/oracle_server/venv/lib/python3.5/site-packages/matplotlib/font_manager.py:1328: UserWarning: findfont: Font family ['serif'] not found. Falling back to DejaVu Sans\n",
      "  (prop.get_family(), self.defaultFamily[fontext]))\n"
     ]
    },
    {
     "name": "stdout",
     "output_type": "stream",
     "text": [
      "step: 10000\n"
     ]
    },
    {
     "name": "stderr",
     "output_type": "stream",
     "text": [
      "/home/isacar/workspace/oracle_server/venv/lib/python3.5/site-packages/matplotlib/font_manager.py:1328: UserWarning: findfont: Font family ['serif'] not found. Falling back to DejaVu Sans\n",
      "  (prop.get_family(), self.defaultFamily[fontext]))\n"
     ]
    },
    {
     "name": "stdout",
     "output_type": "stream",
     "text": [
      "step: 11000\n"
     ]
    },
    {
     "name": "stderr",
     "output_type": "stream",
     "text": [
      "/home/isacar/workspace/oracle_server/venv/lib/python3.5/site-packages/matplotlib/font_manager.py:1328: UserWarning: findfont: Font family ['serif'] not found. Falling back to DejaVu Sans\n",
      "  (prop.get_family(), self.defaultFamily[fontext]))\n"
     ]
    },
    {
     "name": "stdout",
     "output_type": "stream",
     "text": [
      "step: 12000\n"
     ]
    },
    {
     "name": "stderr",
     "output_type": "stream",
     "text": [
      "/home/isacar/workspace/oracle_server/venv/lib/python3.5/site-packages/matplotlib/font_manager.py:1328: UserWarning: findfont: Font family ['serif'] not found. Falling back to DejaVu Sans\n",
      "  (prop.get_family(), self.defaultFamily[fontext]))\n"
     ]
    },
    {
     "name": "stdout",
     "output_type": "stream",
     "text": [
      "step: 13000\n"
     ]
    },
    {
     "name": "stderr",
     "output_type": "stream",
     "text": [
      "/home/isacar/workspace/oracle_server/venv/lib/python3.5/site-packages/matplotlib/font_manager.py:1328: UserWarning: findfont: Font family ['serif'] not found. Falling back to DejaVu Sans\n",
      "  (prop.get_family(), self.defaultFamily[fontext]))\n"
     ]
    },
    {
     "name": "stdout",
     "output_type": "stream",
     "text": [
      "step: 14000\n"
     ]
    },
    {
     "name": "stderr",
     "output_type": "stream",
     "text": [
      "/home/isacar/workspace/oracle_server/venv/lib/python3.5/site-packages/matplotlib/font_manager.py:1328: UserWarning: findfont: Font family ['serif'] not found. Falling back to DejaVu Sans\n",
      "  (prop.get_family(), self.defaultFamily[fontext]))\n"
     ]
    },
    {
     "name": "stdout",
     "output_type": "stream",
     "text": [
      "step: 15000\n"
     ]
    },
    {
     "name": "stderr",
     "output_type": "stream",
     "text": [
      "/home/isacar/workspace/oracle_server/venv/lib/python3.5/site-packages/matplotlib/font_manager.py:1328: UserWarning: findfont: Font family ['serif'] not found. Falling back to DejaVu Sans\n",
      "  (prop.get_family(), self.defaultFamily[fontext]))\n"
     ]
    },
    {
     "name": "stdout",
     "output_type": "stream",
     "text": [
      "step: 16000\n"
     ]
    },
    {
     "name": "stderr",
     "output_type": "stream",
     "text": [
      "/home/isacar/workspace/oracle_server/venv/lib/python3.5/site-packages/matplotlib/font_manager.py:1328: UserWarning: findfont: Font family ['serif'] not found. Falling back to DejaVu Sans\n",
      "  (prop.get_family(), self.defaultFamily[fontext]))\n"
     ]
    },
    {
     "name": "stdout",
     "output_type": "stream",
     "text": [
      "step: 17000\n"
     ]
    },
    {
     "name": "stderr",
     "output_type": "stream",
     "text": [
      "/home/isacar/workspace/oracle_server/venv/lib/python3.5/site-packages/matplotlib/font_manager.py:1328: UserWarning: findfont: Font family ['serif'] not found. Falling back to DejaVu Sans\n",
      "  (prop.get_family(), self.defaultFamily[fontext]))\n"
     ]
    },
    {
     "name": "stdout",
     "output_type": "stream",
     "text": [
      "step: 18000\n"
     ]
    },
    {
     "name": "stderr",
     "output_type": "stream",
     "text": [
      "/home/isacar/workspace/oracle_server/venv/lib/python3.5/site-packages/matplotlib/font_manager.py:1328: UserWarning: findfont: Font family ['serif'] not found. Falling back to DejaVu Sans\n",
      "  (prop.get_family(), self.defaultFamily[fontext]))\n"
     ]
    },
    {
     "ename": "KeyboardInterrupt",
     "evalue": "",
     "output_type": "error",
     "traceback": [
      "\u001b[0;31m---------------------------------------------------------------------------\u001b[0m",
      "\u001b[0;31mKeyboardInterrupt\u001b[0m                         Traceback (most recent call last)",
      "\u001b[0;32m<ipython-input-345-6c00c11a092e>\u001b[0m in \u001b[0;36m<module>\u001b[0;34m()\u001b[0m\n\u001b[1;32m     53\u001b[0m         \u001b[0mR_\u001b[0m \u001b[0;34m=\u001b[0m \u001b[0mgenerator\u001b[0m\u001b[0;34m(\u001b[0m\u001b[0mO\u001b[0m\u001b[0;34m)\u001b[0m\u001b[0;34m\u001b[0m\u001b[0m\n\u001b[1;32m     54\u001b[0m         \u001b[0;32mif\u001b[0m \u001b[0mlen\u001b[0m\u001b[0;34m(\u001b[0m\u001b[0mreplay_dataset\u001b[0m\u001b[0;34m)\u001b[0m \u001b[0;34m>\u001b[0m \u001b[0;36m0\u001b[0m \u001b[0;32mand\u001b[0m \u001b[0mnp\u001b[0m\u001b[0;34m.\u001b[0m\u001b[0mrandom\u001b[0m\u001b[0;34m.\u001b[0m\u001b[0mrand\u001b[0m\u001b[0;34m(\u001b[0m\u001b[0;34m)\u001b[0m \u001b[0;34m<\u001b[0m \u001b[0;36m0.5\u001b[0m\u001b[0;34m:\u001b[0m\u001b[0;34m\u001b[0m\u001b[0m\n\u001b[0;32m---> 55\u001b[0;31m             \u001b[0mo\u001b[0m\u001b[0;34m,\u001b[0m \u001b[0mr\u001b[0m \u001b[0;34m=\u001b[0m \u001b[0mnext\u001b[0m\u001b[0;34m(\u001b[0m\u001b[0miter\u001b[0m\u001b[0;34m(\u001b[0m\u001b[0mreplay_dataloader\u001b[0m\u001b[0;34m)\u001b[0m\u001b[0;34m)\u001b[0m\u001b[0;34m\u001b[0m\u001b[0m\n\u001b[0m\u001b[1;32m     56\u001b[0m             \u001b[0mO_replay\u001b[0m \u001b[0;34m=\u001b[0m \u001b[0mVariable\u001b[0m\u001b[0;34m(\u001b[0m\u001b[0mo\u001b[0m\u001b[0;34m.\u001b[0m\u001b[0mcuda\u001b[0m\u001b[0;34m(\u001b[0m\u001b[0;34m)\u001b[0m\u001b[0;34m)\u001b[0m\u001b[0;34m\u001b[0m\u001b[0m\n\u001b[1;32m     57\u001b[0m             \u001b[0mR_\u001b[0m \u001b[0;34m=\u001b[0m \u001b[0mVariable\u001b[0m\u001b[0;34m(\u001b[0m\u001b[0mr\u001b[0m\u001b[0;34m.\u001b[0m\u001b[0mcuda\u001b[0m\u001b[0;34m(\u001b[0m\u001b[0;34m)\u001b[0m\u001b[0;34m)\u001b[0m\u001b[0;34m\u001b[0m\u001b[0m\n",
      "\u001b[0;32m~/workspace/oracle_server/venv/lib/python3.5/site-packages/torch/utils/data/dataloader.py\u001b[0m in \u001b[0;36m__next__\u001b[0;34m(self)\u001b[0m\n\u001b[1;32m    256\u001b[0m     \u001b[0;32mdef\u001b[0m \u001b[0m__next__\u001b[0m\u001b[0;34m(\u001b[0m\u001b[0mself\u001b[0m\u001b[0;34m)\u001b[0m\u001b[0;34m:\u001b[0m\u001b[0;34m\u001b[0m\u001b[0m\n\u001b[1;32m    257\u001b[0m         \u001b[0;32mif\u001b[0m \u001b[0mself\u001b[0m\u001b[0;34m.\u001b[0m\u001b[0mnum_workers\u001b[0m \u001b[0;34m==\u001b[0m \u001b[0;36m0\u001b[0m\u001b[0;34m:\u001b[0m  \u001b[0;31m# same-process loading\u001b[0m\u001b[0;34m\u001b[0m\u001b[0m\n\u001b[0;32m--> 258\u001b[0;31m             \u001b[0mindices\u001b[0m \u001b[0;34m=\u001b[0m \u001b[0mnext\u001b[0m\u001b[0;34m(\u001b[0m\u001b[0mself\u001b[0m\u001b[0;34m.\u001b[0m\u001b[0msample_iter\u001b[0m\u001b[0;34m)\u001b[0m  \u001b[0;31m# may raise StopIteration\u001b[0m\u001b[0;34m\u001b[0m\u001b[0m\n\u001b[0m\u001b[1;32m    259\u001b[0m             \u001b[0mbatch\u001b[0m \u001b[0;34m=\u001b[0m \u001b[0mself\u001b[0m\u001b[0;34m.\u001b[0m\u001b[0mcollate_fn\u001b[0m\u001b[0;34m(\u001b[0m\u001b[0;34m[\u001b[0m\u001b[0mself\u001b[0m\u001b[0;34m.\u001b[0m\u001b[0mdataset\u001b[0m\u001b[0;34m[\u001b[0m\u001b[0mi\u001b[0m\u001b[0;34m]\u001b[0m \u001b[0;32mfor\u001b[0m \u001b[0mi\u001b[0m \u001b[0;32min\u001b[0m \u001b[0mindices\u001b[0m\u001b[0;34m]\u001b[0m\u001b[0;34m)\u001b[0m\u001b[0;34m\u001b[0m\u001b[0m\n\u001b[1;32m    260\u001b[0m             \u001b[0;32mif\u001b[0m \u001b[0mself\u001b[0m\u001b[0;34m.\u001b[0m\u001b[0mpin_memory\u001b[0m\u001b[0;34m:\u001b[0m\u001b[0;34m\u001b[0m\u001b[0m\n",
      "\u001b[0;32m~/workspace/oracle_server/venv/lib/python3.5/site-packages/torch/utils/data/sampler.py\u001b[0m in \u001b[0;36m__iter__\u001b[0;34m(self)\u001b[0m\n\u001b[1;32m    117\u001b[0m     \u001b[0;32mdef\u001b[0m \u001b[0m__iter__\u001b[0m\u001b[0;34m(\u001b[0m\u001b[0mself\u001b[0m\u001b[0;34m)\u001b[0m\u001b[0;34m:\u001b[0m\u001b[0;34m\u001b[0m\u001b[0m\n\u001b[1;32m    118\u001b[0m         \u001b[0mbatch\u001b[0m \u001b[0;34m=\u001b[0m \u001b[0;34m[\u001b[0m\u001b[0;34m]\u001b[0m\u001b[0;34m\u001b[0m\u001b[0m\n\u001b[0;32m--> 119\u001b[0;31m         \u001b[0;32mfor\u001b[0m \u001b[0midx\u001b[0m \u001b[0;32min\u001b[0m \u001b[0mself\u001b[0m\u001b[0;34m.\u001b[0m\u001b[0msampler\u001b[0m\u001b[0;34m:\u001b[0m\u001b[0;34m\u001b[0m\u001b[0m\n\u001b[0m\u001b[1;32m    120\u001b[0m             \u001b[0mbatch\u001b[0m\u001b[0;34m.\u001b[0m\u001b[0mappend\u001b[0m\u001b[0;34m(\u001b[0m\u001b[0midx\u001b[0m\u001b[0;34m)\u001b[0m\u001b[0;34m\u001b[0m\u001b[0m\n\u001b[1;32m    121\u001b[0m             \u001b[0;32mif\u001b[0m \u001b[0mlen\u001b[0m\u001b[0;34m(\u001b[0m\u001b[0mbatch\u001b[0m\u001b[0;34m)\u001b[0m \u001b[0;34m==\u001b[0m \u001b[0mself\u001b[0m\u001b[0;34m.\u001b[0m\u001b[0mbatch_size\u001b[0m\u001b[0;34m:\u001b[0m\u001b[0;34m\u001b[0m\u001b[0m\n",
      "\u001b[0;32m~/workspace/oracle_server/venv/lib/python3.5/site-packages/torch/utils/data/sampler.py\u001b[0m in \u001b[0;36m__iter__\u001b[0;34m(self)\u001b[0m\n\u001b[1;32m     48\u001b[0m \u001b[0;34m\u001b[0m\u001b[0m\n\u001b[1;32m     49\u001b[0m     \u001b[0;32mdef\u001b[0m \u001b[0m__iter__\u001b[0m\u001b[0;34m(\u001b[0m\u001b[0mself\u001b[0m\u001b[0;34m)\u001b[0m\u001b[0;34m:\u001b[0m\u001b[0;34m\u001b[0m\u001b[0m\n\u001b[0;32m---> 50\u001b[0;31m         \u001b[0;32mreturn\u001b[0m \u001b[0miter\u001b[0m\u001b[0;34m(\u001b[0m\u001b[0mtorch\u001b[0m\u001b[0;34m.\u001b[0m\u001b[0mrandperm\u001b[0m\u001b[0;34m(\u001b[0m\u001b[0mlen\u001b[0m\u001b[0;34m(\u001b[0m\u001b[0mself\u001b[0m\u001b[0;34m.\u001b[0m\u001b[0mdata_source\u001b[0m\u001b[0;34m)\u001b[0m\u001b[0;34m)\u001b[0m\u001b[0;34m.\u001b[0m\u001b[0mlong\u001b[0m\u001b[0;34m(\u001b[0m\u001b[0;34m)\u001b[0m\u001b[0;34m)\u001b[0m\u001b[0;34m\u001b[0m\u001b[0m\n\u001b[0m\u001b[1;32m     51\u001b[0m \u001b[0;34m\u001b[0m\u001b[0m\n\u001b[1;32m     52\u001b[0m     \u001b[0;32mdef\u001b[0m \u001b[0m__len__\u001b[0m\u001b[0;34m(\u001b[0m\u001b[0mself\u001b[0m\u001b[0;34m)\u001b[0m\u001b[0;34m:\u001b[0m\u001b[0;34m\u001b[0m\u001b[0m\n",
      "\u001b[0;31mKeyboardInterrupt\u001b[0m: "
     ]
    }
   ],
   "source": [
    "lr = 1e-4\n",
    "gamma = 1\n",
    "batch_size = 256\n",
    "n_steps = 100000\n",
    "\n",
    "generator = FeasibilityGenerator().cuda()\n",
    "generator_opt = torch.optim.RMSprop(generator.parameters(), lr=lr, weight_decay=1e-2)\n",
    "\n",
    "discriminator = Discriminator().cuda()\n",
    "discriminator_opt = torch.optim.RMSprop(discriminator.parameters(), lr=lr)\n",
    "\n",
    "dataloader_feasibility = DataLoader(dataset_feasibility, batch_size=batch_size, shuffle=True, drop_last=True)\n",
    "logger = SummaryWriter('./runs/dual-point-gan')\n",
    "\n",
    "replay_dataset = []\n",
    "replay_dataloader = DataLoader(replay_dataset, batch_size=batch_size, shuffle=True)\n",
    "generator.train()\n",
    "discriminator.train()\n",
    "\n",
    "models = dict()\n",
    "\n",
    "all_parameters = list(generator.parameters())\n",
    "all_parameters.extend(discriminator.parameters())\n",
    "\n",
    "labels_real = Variable(torch.ones(batch_size, 1)).cuda()\n",
    "labels_fake = Variable(torch.zeros(batch_size, 1)).cuda()\n",
    "\n",
    "step = -1\n",
    "\n",
    "i = 64000\n",
    "    \n",
    "while True:\n",
    "    for O, R in dataloader_feasibility:\n",
    "        R = R.clamp(-1, 1)\n",
    "        step += 1\n",
    "        R = robot_norm(Variable(R.float().cuda()))\n",
    "        O = obs_norm(Variable(O.float().cuda()))\n",
    "\n",
    "        # Train discriminator\n",
    "        # - train real\n",
    "        discriminator.zero_grad()\n",
    "        logits, D = discriminator(O, R)\n",
    "        logit_regularizer = (logits ** 2).sum() / batch_size\n",
    "        loss_discriminator = -torch.log(D + 1e-6).mean()\n",
    "        loss_d_real = loss_discriminator + logit_regularizer\n",
    "        if step % 50 == 0:\n",
    "            logger.add_scalar('discriminator real mean', D.mean().cpu().data[0], step)\n",
    "        loss_d_real.backward()\n",
    "        discriminator_opt.step()\n",
    "        \n",
    "        # - train fake\n",
    "        discriminator.zero_grad()\n",
    "        R_ = generator(O)\n",
    "        if len(replay_dataset) > 0 and np.random.rand() < 0.5:\n",
    "            o, r = next(iter(replay_dataloader))\n",
    "            O_replay = Variable(o.cuda())\n",
    "            R_ = Variable(r.cuda())\n",
    "            logits, D = discriminator(O_replay, R_.detach())\n",
    "        else:\n",
    "            logits, D = discriminator(O, R_.detach())\n",
    "        logit_regularizer = (logits ** 2).sum() / batch_size\n",
    "        loss_discriminator = torch.log(D + 1e-6).mean()\n",
    "        loss_d_real = loss_discriminator + logit_regularizer\n",
    "        if step % 50 == 0:\n",
    "            logger.add_scalar('discriminator fake mean', D.mean().cpu().data[0], step)\n",
    "        loss_d_real.backward()\n",
    "        discriminator_opt.step()\n",
    "\n",
    "        # Train generator\n",
    "        generator.zero_grad()\n",
    "        R_ = generator(O)\n",
    "        replay_dataset.extend(list(zip(O.data, R.data)))\n",
    "        logits, D = discriminator(O, R_)\n",
    "        loss_generator = -torch.log(D + 1e-6).mean()\n",
    "        loss_generator.backward()\n",
    "        generator_opt.step()\n",
    "        \n",
    "        if step % 1000 == 0:\n",
    "            print('step:', step)\n",
    "            plot_generator(generator, step, k=0.2, path='dual-point/sample_{}.pdf'.format(step))\n",
    "            with open('./generator_models/dual-point/model_{}.pkl'.format(step), 'wb') as f:\n",
    "                torch.save(generator.state_dict(), f)\n",
    "\n",
    "        if step == n_steps - 1:\n",
    "            break\n",
    "    if step == n_steps - 1:\n",
    "        break"
   ]
  },
  {
   "cell_type": "code",
   "execution_count": 897,
   "metadata": {
    "collapsed": true
   },
   "outputs": [],
   "source": [
    "class GeneratorProduction(torch.nn.Module):\n",
    "    \n",
    "    def __init__(self):\n",
    "        super(GeneratorProduction, self).__init__()\n",
    "        self.generator = FeasibilityGenerator()\n",
    "        self.obj_norm = Normalization(7)\n",
    "        self.rob_norminv = NormalizationInverse(4)\n",
    "    \n",
    "    def forward(self, obj, obj_delta):\n",
    "        \"\"\"\n",
    "        obj       : (width, height, mass, friction, x_obj, y_obj, θ_obj)\n",
    "        obj_delta : (dx, dy, dθ)\n",
    "        \"\"\"\n",
    "        # obj_delta' is the delta in object frame\n",
    "        obj_delta_ = Variable(torch.zeros(obj.size(0), 7))\n",
    "        θ = obj[:, -1]\n",
    "        obj_delta_[:, :4] = obj[:, :4]\n",
    "        obj_delta_[:, 4] =  torch.cos(θ) * obj_delta[:, 0] + torch.sin(θ) * obj_delta[:, 1]\n",
    "        obj_delta_[:, 5] = -torch.sin(θ) * obj_delta[:, 0] + torch.cos(θ) * obj_delta[:, 1]\n",
    "        obj_delta_[:, 6] = obj_delta[:, -1]\n",
    "        y = self.rob_norminv(self.generator(self.obj_norm(obj_delta_)))\n",
    "        y[:, 2] = torch.atan2(y[:, 3], y[:, 2])\n",
    "        # invariant: y is now robot position in object frame\n",
    "        # convert to robot frame\n",
    "        y_rob = Variable(torch.zeros(obj.size(0), 3))\n",
    "        y_rob[:, 0] = obj[:, 4] + torch.cos(θ) * y[:, 0] - torch.sin(θ) * y[:, 1]\n",
    "        y_rob[:, 1] = obj[:, 5] + torch.sin(θ) * y[:, 0] + torch.cos(θ) * y[:, 1]\n",
    "        θr = y[:, 2] + θ\n",
    "        y_rob[:, 2] = torch.atan2(torch.sin(θr), torch.cos(θr))\n",
    "        return y_rob\n",
    "    \n",
    "\n",
    "generator_production = GeneratorProduction()\n",
    "generator_production.generator.load_state_dict(generator.state_dict())\n",
    "generator_production.obj_norm.load_state_dict(obs_norm.state_dict())\n",
    "generator_production.rob_norminv.load_state_dict(robot_norminv.state_dict())\n",
    "generator_production = generator_production.cpu()\n",
    "generator_production.eval()\n",
    "\n",
    "o = Variable(torch.FloatTensor([[0.13, 0.13, 0.1, 0.1, 0.3, 0.0, np.pi / 2]]))\n",
    "do = Variable(torch.FloatTensor([[-0.3, 0.0, 0.0]]))\n",
    "y = generator_production(o, do).data.numpy().flatten()\n",
    "\n",
    "with open('saved_models/generator_production.pkl', 'wb') as f:\n",
    "    pickle.dump(generator_production.state_dict(), f)"
   ]
  },
  {
   "cell_type": "code",
   "execution_count": 493,
   "metadata": {},
   "outputs": [
    {
     "data": {
      "text/plain": [
       "1.9007963267948966"
      ]
     },
     "execution_count": 493,
     "metadata": {},
     "output_type": "execute_result"
    }
   ],
   "source": [
    "generator.load_state_dict()"
   ]
  },
  {
   "cell_type": "markdown",
   "metadata": {},
   "source": [
    "# Pushability\n",
    "\n",
    "$$p(x_t'|x_t)$$"
   ]
  },
  {
   "cell_type": "markdown",
   "metadata": {},
   "source": [
    "## Datasets"
   ]
  },
  {
   "cell_type": "code",
   "execution_count": null,
   "metadata": {
    "collapsed": true,
    "scrolled": false
   },
   "outputs": [],
   "source": [
    "# sort in order\n",
    "dataset_pushability = dataset[['y\\'_0', 'y\\'_1', 'y\\'_2', 'm', 'I', 'µ', 'w', 'h']] # skip u_4 because always 0\n",
    "dataset_pushability = dataset_pushability[(dataset_pushability[['y\\'_0', 'y\\'_1', 'y\\'_2']].abs().max(axis=1) > 1e-1)]\n",
    "# Decide where to split in training/validation/test\n",
    "train_cut = int(len(dataset_pushability) * 0.9)\n",
    "valid_cut = train_cut + int(len(dataset_pushability) * 0.05)\n",
    "dataset_pushability_train_ = dataset_pushability[:train_cut]\n",
    "dataset_pushability_val_ = dataset_pushability[train_cut:valid_cut]\n",
    "dataset_pushability_test_ = dataset_pushability[valid_cut:]\n",
    "\n",
    "## Normalize by training set statistics\n",
    "training_pushability_µ = dataset_pushability_train_.mean().values.astype(np.float32)\n",
    "training_pushability_σ = dataset_pushability_train_.std().values.astype(np.float32)\n",
    "dataset_pushability_train = (dataset_pushability_train_ - training_pushability_µ) / training_pushability_σ\n",
    "dataset_pushability_val = (dataset_pushability_train_ - training_pushability_µ) / training_pushability_σ\n",
    "dataset_pushability_test = (dataset_pushability_train_ - training_pushability_µ) / training_pushability_σ\n",
    "\n",
    "def get_dataloader(dataset, batch_size=32):\n",
    "    X = dataset[[name for name in dataset.columns if not name.startswith('y\\'')]]\n",
    "    Y = dataset[[name for name in dataset.columns if name.startswith('y\\'')]]\n",
    "    return DataLoader(\n",
    "        list(zip(X.as_matrix().astype(np.float32), Y.as_matrix().astype(np.float32))),\n",
    "        batch_size=batch_size,\n",
    "        shuffle=True\n",
    "    )\n",
    "\n",
    "dataloader_pushability_train = get_dataloader(dataset_pushability_train)\n",
    "dataloader_pushability_val = get_dataloader(dataset_pushability_val, batch_size=512)\n",
    "dataloader_pushability_test = get_dataloader(dataset_pushability_test, batch_size=512)\n",
    "X, Y = next(iter(dataloader_pushability_train))\n",
    "pushability_x_size, pushability_y_size = X.size(1), Y.size(1)"
   ]
  },
  {
   "cell_type": "markdown",
   "metadata": {},
   "source": [
    "# Models:"
   ]
  },
  {
   "cell_type": "code",
   "execution_count": null,
   "metadata": {
    "collapsed": true
   },
   "outputs": [],
   "source": [
    "n_residual_units = 1\n",
    "hidden_size = 256\n",
    "X, Y = next(iter(dataloader_pushability_train))\n",
    "x_size = X.size(1)\n",
    "y_size = Y.size(1)\n",
    "print('X and Y sizes:', x_size, y_size)\n",
    "pushability_mean = torch.nn.Sequential(\n",
    "    torch.nn.Linear(x_size, hidden_size),\n",
    "    *[Residual(hidden_size) for _ in range(n_residual_units)],\n",
    "    torch.nn.Linear(hidden_size, y_size)\n",
    ").cuda()\n",
    "\n",
    "pushability_std = torch.nn.Sequential(\n",
    "    torch.nn.Linear(x_size, hidden_size),\n",
    "    *[Residual(hidden_size) for _ in range(n_residual_units)],\n",
    "    torch.nn.Linear(hidden_size, y_size),\n",
    "    torch.nn.Softplus()\n",
    ").cuda()"
   ]
  },
  {
   "cell_type": "code",
   "execution_count": null,
   "metadata": {
    "collapsed": true
   },
   "outputs": [],
   "source": [
    "mean_loss_fn = torch.nn.MSELoss()\n",
    "mean_optim = torch.optim.Adam(pushability_mean.parameters(), weight_decay=1e-4)\n",
    "var_loss_fn = gaussian_likelihood()\n",
    "var_optim = torch.optim.Adam(pushability_std.parameters(), weight_decay=1e-4)\n",
    "\n",
    "logger_train = SummaryWriter('runs/resid-1-pushability-train')\n",
    "logger_valid = SummaryWriter('runs/resid-1-pushability-valid')"
   ]
  },
  {
   "cell_type": "code",
   "execution_count": null,
   "metadata": {
    "collapsed": true
   },
   "outputs": [],
   "source": [
    "best_val = np.inf\n",
    "best_mean_model = None\n",
    "best_var_model = None\n",
    "step = 0\n",
    "while True:\n",
    "    for batch in dataloader_pushability_train:\n",
    "        pushability_mean.train()\n",
    "        pushability_std.train()\n",
    "        X, Y = map(lambda x: torch.autograd.Variable(x.cuda()), batch)\n",
    "        Y_mean_pred = pushability_mean(X)\n",
    "        Y_var_pred = pushability_std(X)\n",
    "\n",
    "        pushability_mean.zero_grad()\n",
    "        pushability_std.zero_grad()\n",
    "\n",
    "        mse = mean_loss_fn(Y_mean_pred, Y)\n",
    "        mse.backward(retain_graph=True)\n",
    "        mean_optim.step()\n",
    "\n",
    "        nll = var_loss_fn(Y_mean_pred, Y_var_pred, Y)\n",
    "        nll.backward()\n",
    "        var_optim.step()\n",
    "\n",
    "        if step % 10 == 0:\n",
    "            logger_train.add_scalar('mse', mse.cpu().data.numpy()[0], step)\n",
    "            logger_train.add_scalar('nll', nll.cpu().data.numpy()[0], step)\n",
    "            \n",
    "            pushability_mean.eval()\n",
    "            pushability_std.eval()\n",
    "            val_batch = next(iter(dataloader_pushability_val))\n",
    "            X, Y = map(lambda x: torch.autograd.Variable(x.cuda()), val_batch)\n",
    "            Y_mean_pred = pushability_mean(X)\n",
    "            Y_var_pred = pushability_std(X)\n",
    "\n",
    "            mse_val = mean_loss_fn(Y_mean_pred, Y)\n",
    "            nll_val = var_loss_fn(Y_mean_pred, Y_var_pred, Y).cpu().data.numpy()[0]\n",
    "            \n",
    "            logger_valid.add_scalar('mse', mse_val.cpu().data.numpy()[0], step)\n",
    "            logger_valid.add_scalar('nll', nll_val, step)\n",
    "            \n",
    "            if nll_val < best_val:\n",
    "                best_val = nll_val\n",
    "                best_mean_model = pushability_mean.state_dict()\n",
    "                best_var_model = pushability_std.state_dict()\n",
    "\n",
    "        step += 1\n",
    "        if step >= 100000:\n",
    "            break\n",
    "    if step >= 100000:\n",
    "        break"
   ]
  },
  {
   "cell_type": "code",
   "execution_count": null,
   "metadata": {
    "collapsed": true
   },
   "outputs": [],
   "source": [
    "X, Y = next(iter(dataloader_pushability_train))\n",
    "pushability_x_size, pushability_y_size = X.size(1), Y.size(1)\n",
    "\n",
    "pushability_norm = Normalization(5)\n",
    "pushability_norm.mean = torch.from_numpy(training_pushability_μ[3:])\n",
    "pushability_norm.std = torch.from_numpy(training_pushability_σ[3:])\n",
    "\n",
    "pushability_norminv = NormalizationInverse(3)\n",
    "pushability_norminv.mean = torch.from_numpy(training_pushability_μ[:3])\n",
    "pushability_norminv.std = torch.from_numpy(training_pushability_σ[:3])"
   ]
  },
  {
   "cell_type": "code",
   "execution_count": null,
   "metadata": {
    "collapsed": true
   },
   "outputs": [],
   "source": [
    "with open('./saved_models/pushability_models.pkl', 'wb') as f:\n",
    "    model_dict = {\n",
    "        'mean_model': pushability_mean.state_dict(),\n",
    "        'std_model': pushability_std.state_dict(),\n",
    "        'norm': pushability_norm.state_dict(),\n",
    "        'norm_inv': pushability_norminv.state_dict(),\n",
    "        'n_features_in': pushability_x_size,\n",
    "        'n_features_out': pushability_y_size,\n",
    "        'n_hidden_units': 256,\n",
    "        'n_residual_units': 1,\n",
    "    }\n",
    "    pickle.dump(model_dict, f)"
   ]
  },
  {
   "cell_type": "code",
   "execution_count": null,
   "metadata": {
    "collapsed": true,
    "scrolled": false
   },
   "outputs": [],
   "source": [
    "pushability_mean.eval()\n",
    "pushability_std.eval()\n",
    "pushability_mean.load_state_dict(best_mean_model)\n",
    "pushability_std.load_state_dict(best_var_model)\n",
    "\n",
    "from IPython.display import HTML\n",
    "from matplotlib.animation import FuncAnimation\n",
    "# First set up the figure, the axis, and the plot element we want to animate\n",
    "fig, axs = plt.subplots(1, 3, figsize=(14, 4))\n",
    "\n",
    "res = 16\n",
    "img = np.eye(res)\n",
    "p1 = axs[0].imshow(img, extent=[-1, 1, -1, 1], vmin=0.0, vmax=0.5, interpolation='gaussian')\n",
    "std1 = axs[0].add_artist(plt.Circle((0, 0), fill=False, color='white'))\n",
    "std2 = axs[0].add_artist(plt.Circle((0, 0), fill=False, color='white'))\n",
    "axs[0].set_title('Translation')\n",
    "axs[2].set_title('Parameter')\n",
    "axs[2].set_xlim(0, 32)\n",
    "axs[2].set_ylim(0, 2.0)\n",
    "θ_data = []\n",
    "θ_plot, = axs[1].plot(θ_data)\n",
    "axs[1].set_xlim(0, 32)\n",
    "axs[1].set_ylim(0, 2)\n",
    "axs[1].set_title('Rotation standard dev.')\n",
    "ydata = []\n",
    "argplot, = axs[2].plot(ydata)\n",
    "    \n",
    "# animation function. This is called sequentially\n",
    "def animate(arg):\n",
    "    x = (np.array([[0.35, 0.0024, 0.195 * arg * 2, 0.12, 0.12]]) - training_pushability_μ[3:]) / training_pushability_σ[3:]\n",
    "    X = Variable(torch.from_numpy(x.astype(np.float32))).cuda()\n",
    "    Y_mean_pred = pushability_mean(X).cpu().data.numpy()\n",
    "    Y_std = pushability_std(X).cpu().data.numpy()\n",
    "    \n",
    "    µ = Y_mean_pred[0, :] * training_pushability_σ[:3] + training_pushability_μ[:3]\n",
    "    σ = Y_std * training_pushability_σ[:3]\n",
    "    Σ = np.diag(σ.flatten())\n",
    "\n",
    "    obs = dataset_pushability_train.iloc[0].values[3:].reshape(-1, 1)\n",
    "    obs[0, 0] = arg\n",
    "    for i, x in enumerate(np.linspace(-1, 1, res)):\n",
    "        for j, y in enumerate(np.linspace(-1, 1, res)):\n",
    "            img[j, i] = multivariate_normal.pdf([x, y, 0], mean=µ.flatten(), cov=Σ)\n",
    "    p1.set_data(img)\n",
    "    σ_ = σ[0, :2].mean()\n",
    "    std1.set_radius(σ_)\n",
    "    std2.set_radius(σ_ * 2)\n",
    "    ydata.append(arg)\n",
    "    θ_data.append(σ[0, 2])\n",
    "    argplot.set_data(range(len(ydata)), ydata)\n",
    "    argplot.set_data(range(len(ydata)), ydata)\n",
    "    θ_plot.set_data(range(len(θ_data)), θ_data)\n",
    "    \n",
    "    return p1, std1, std2, argplot, θ_plot\n",
    "\n",
    "# call the animator. blit=True means only re-draw the parts that have changed.\n",
    "anim = FuncAnimation(fig, animate, frames=np.linspace(0.0, 2.0, 32), interval=100, blit=True)\n",
    "plt.close(fig)\n",
    "HTML(anim.to_html5_video())"
   ]
  },
  {
   "cell_type": "markdown",
   "metadata": {},
   "source": [
    "# Feasibility\n",
    "Predicts $p(x_{robot}|x_{target}, x_{target}')$"
   ]
  },
  {
   "cell_type": "code",
   "execution_count": null,
   "metadata": {
    "collapsed": true
   },
   "outputs": [],
   "source": [
    "dataset_feasibility = dataset[['x_0', 'x_1', 'x_2', 'x_3',\n",
    "                               'y_2', 'y_3', 'y\\'_0', 'y\\'_1', 'y\\'_2',\n",
    "                               'm', 'I', 'µ', 'w', 'h']]\n",
    "# Decide where to split in training/validation/test\n",
    "train_cut = int(len(dataset) * 0.9)\n",
    "valid_cut = train_cut + int(len(dataset) * 0.05)\n",
    "dataset_feasibility_train_ = dataset_feasibility[:train_cut]\n",
    "dataset_feasibility_val_ = dataset_feasibility[train_cut:valid_cut]\n",
    "dataset_feasibility_test_ = dataset_feasibility[valid_cut:]\n",
    "\n",
    "# Normalize by training set statistics\n",
    "training_feasibility_µ = dataset_feasibility_train_.mean()\n",
    "training_feasibility_σ = dataset_feasibility_train_.std()\n",
    "dataset_feasibility_train = (dataset_feasibility_train_ - training_feasibility_µ) / training_feasibility_σ\n",
    "dataset_feasibility_val = (dataset_feasibility_train_ - training_feasibility_µ) / training_feasibility_σ\n",
    "dataset_feasibility_test = (dataset_feasibility_train_ - training_feasibility_µ) / training_feasibility_σ\n",
    "\n",
    "def get_dataloader(dataset, batch_size=32):\n",
    "    X = dataset[[name for name in dataset.columns if not name.startswith('x')]]\n",
    "    Y = dataset[[name for name in dataset.columns if name.startswith('x')]]\n",
    "    return DataLoader(\n",
    "        list(zip(X.as_matrix().astype(np.float32), Y.as_matrix().astype(np.float32))),\n",
    "        batch_size=batch_size,\n",
    "        shuffle=True\n",
    "    )\n",
    "\n",
    "dataloader_feasibility_train = get_dataloader(dataset_feasibility_train)\n",
    "dataloader_feasibility_val = get_dataloader(dataset_feasibility_val, batch_size=128)\n",
    "dataloader_feasibility_test = get_dataloader(dataset_feasibility_test, batch_size=128)\n",
    "X, Y = next(iter(dataloader_feasibility_train))\n",
    "feasibility_x_size, feasibility_y_size = X.size(1), Y.size(1)\n",
    "dataset_feasibility_train.iloc[:10]"
   ]
  },
  {
   "cell_type": "markdown",
   "metadata": {},
   "source": [
    "# Models:"
   ]
  },
  {
   "cell_type": "code",
   "execution_count": null,
   "metadata": {
    "collapsed": true
   },
   "outputs": [],
   "source": [
    "hidden_size = 256\n",
    "n_residual_units = 1\n",
    "\n",
    "feasibility_mean = torch.nn.Sequential(\n",
    "    torch.nn.Linear(feasibility_x_size, hidden_size),\n",
    "    *[Residual(hidden_size) for _ in range(n_residual_units)],\n",
    "    torch.nn.Linear(hidden_size, feasibility_y_size)\n",
    ").cuda()\n",
    "\n",
    "feasibility_std= torch.nn.Sequential(\n",
    "    torch.nn.Linear(feasibility_x_size, hidden_size),\n",
    "    *[Residual(hidden_size) for _ in range(n_residual_units)],\n",
    "    torch.nn.Linear(hidden_size, feasibility_y_size),\n",
    "    torch.nn.Softplus()\n",
    ").cuda()"
   ]
  },
  {
   "cell_type": "code",
   "execution_count": null,
   "metadata": {
    "collapsed": true
   },
   "outputs": [],
   "source": [
    "weight_decay = 1e-4\n",
    "mean_loss_fn = torch.nn.MSELoss()\n",
    "mean_optim = torch.optim.Adam(feasibility_mean.parameters(), weight_decay=weight_decay)\n",
    "std_loss_fn = gaussian_likelihood()\n",
    "std_optim = torch.optim.Adam(feasibility_std.parameters(), weight_decay=weight_decay)\n",
    "\n",
    "time_str = datetime.datetime.now().strftime('%H:%M')\n",
    "name = 'runs/feasibility'\n",
    "logger_train = SummaryWriter(name + '-train')\n",
    "logger_valid = SummaryWriter(name + '-valid')"
   ]
  },
  {
   "cell_type": "code",
   "execution_count": null,
   "metadata": {
    "collapsed": true
   },
   "outputs": [],
   "source": [
    "best_val = np.inf\n",
    "best_mean_model = None\n",
    "best_std = None\n",
    "step = 0\n",
    "for _ in range(1024):\n",
    "    for batch in dataloader_feasibility_train:\n",
    "        feasibility_mean.train()\n",
    "        feasibility_std.train()\n",
    "        X, Y = map(lambda x: torch.autograd.Variable(x.cuda()), batch)\n",
    "        Y_mean_pred = feasibility_mean(X)\n",
    "        Y_std_pred = feasibility_std(X)\n",
    "\n",
    "        feasibility_mean.zero_grad()\n",
    "        feasibility_std.zero_grad()\n",
    "\n",
    "        mse = mean_loss_fn(Y_mean_pred, Y)\n",
    "        mse.backward(retain_graph=True)\n",
    "        mean_optim.step()\n",
    "\n",
    "        nll = std_loss_fn(Y_mean_pred, Y_std_pred, Y)\n",
    "        nll.backward()\n",
    "        std_optim.step()\n",
    "\n",
    "        if step % 500 == 0:\n",
    "            logger_train.add_scalar('mse', mse.cpu().data.numpy()[0], step)\n",
    "            logger_train.add_scalar('nll', nll.cpu().data.numpy()[0], step)\n",
    "            \n",
    "            feasibility_mean.eval()\n",
    "            feasibility_std.eval()\n",
    "            val_batch = next(iter(dataloader_feasibility_val))\n",
    "            X, Y = map(lambda x: torch.autograd.Variable(x.cuda()), val_batch)\n",
    "            Y_mean_pred = feasibility_mean(X)\n",
    "            Y_std_pred = feasibility_std(X)\n",
    "\n",
    "            mse_val = mean_loss_fn(Y_mean_pred, Y)\n",
    "            nll_val = std_loss_fn(Y_mean_pred, Y_std_pred, Y).cpu().data.numpy()[0]\n",
    "            \n",
    "            logger_valid.add_scalar('mse', mse_val.cpu().data.numpy()[0], step)\n",
    "            logger_valid.add_scalar('nll', nll_val, step)\n",
    "            \n",
    "            if nll_val < best_val:\n",
    "                best_val = nll_val\n",
    "                best_mean_model = feasibility_mean.state_dict()\n",
    "                best_std_model = feasibility_std.state_dict()\n",
    "\n",
    "        step += 1"
   ]
  },
  {
   "cell_type": "code",
   "execution_count": null,
   "metadata": {
    "collapsed": true
   },
   "outputs": [],
   "source": [
    "feasibility_norm = Normalization(feasibility_x_size).cuda()\n",
    "feasibility_norm.mean = torch.FloatTensor(training_feasibility_μ[4:].values).cuda()\n",
    "feasibility_norm.std = torch.FloatTensor(training_feasibility_σ[4:].values).cuda()\n",
    "feasibility_norminv = Normalization(feasibility_y_size).cuda()\n",
    "feasibility_norminv.mean = torch.FloatTensor(training_feasibility_μ[:4].values).cuda()\n",
    "feasibility_norminv.std = torch.FloatTensor(training_feasibility_σ[:4].values).cuda()"
   ]
  },
  {
   "cell_type": "code",
   "execution_count": null,
   "metadata": {
    "collapsed": true,
    "scrolled": false
   },
   "outputs": [],
   "source": [
    "from matplotlib.patches import Ellipse\n",
    "\n",
    "feasibility_mean.load_state_dict(best_mean_model)\n",
    "feasibility_std.load_state_dict(best_std_model)\n",
    "feasibility_mean.eval()\n",
    "feasibility_std.eval()\n",
    "\n",
    "#with open('./saved_models/feasibility_models.pkl', 'wb') as f:\n",
    "#    model_dict = {\n",
    "#        'mean_model': feasibility_mean.state_dict(),\n",
    "#        'std_model': feasibility_std.state_dict(),\n",
    "#        'norm': feasibility_norm.state_dict(),\n",
    "#        'norm_inv': feasibility_norminv.state_dict(),\n",
    "#        'n_features_in': feasibility_x_size,\n",
    "#        'n_features_out': feasibility_y_size,\n",
    "#        'n_hidden_units': 256,\n",
    "#        'n_residual_units': 1,\n",
    "#    }\n",
    "#    pickle.dump(model_dict, f)\n",
    "\n",
    "fig, ax = plt.subplots(figsize=(6, 6))\n",
    "row = dataset.sample(n=1).iloc[0]\n",
    "#val_batch = next(iter(dataloader_feasibility_val))\n",
    "print(row)\n",
    "X = Variable(torch.cuda.FloatTensor([\n",
    "    row[['y_2', 'y_3', 'y\\'_0', 'y\\'_1', 'y\\'_2', 'm', 'I', 'µ', 'w', 'h']]\n",
    "]))\n",
    "#X, Y = map(lambda x: torch.autograd.Variable(x.cuda()), val_batch)\n",
    "Y_mean_pred = feasibility_mean(feasibility_norm(X))\n",
    "Y_std_pred = feasibility_std(feasibility_norm(X))\n",
    "for _ in range(512):\n",
    "    y_ = feasibility_norminv(Y_mean_pred + Y_std_pred * Variable(torch.randn(Y_mean_pred.size())).cuda())\n",
    "    y = y_.cpu().data.numpy().flatten()\n",
    "    plt.plot(y[0], y[1], 'bo', alpha=0.1)\n",
    "plt.arrow(0, 0, row['y\\'_0'], row['y\\'_1'], head_width=0.05)\n",
    "plt.xlim(-2, 2)\n",
    "plt.ylim(-2, 2)\n",
    "plt.show()"
   ]
  },
  {
   "cell_type": "code",
   "execution_count": null,
   "metadata": {
    "collapsed": true
   },
   "outputs": [],
   "source": [
    "training_µ"
   ]
  }
 ],
 "metadata": {
  "kernelspec": {
   "display_name": "Python 3",
   "language": "python",
   "name": "python3"
  },
  "language_info": {
   "codemirror_mode": {
    "name": "ipython",
    "version": 3
   },
   "file_extension": ".py",
   "mimetype": "text/x-python",
   "name": "python",
   "nbconvert_exporter": "python",
   "pygments_lexer": "ipython3",
   "version": "3.5.2"
  }
 },
 "nbformat": 4,
 "nbformat_minor": 2
}
